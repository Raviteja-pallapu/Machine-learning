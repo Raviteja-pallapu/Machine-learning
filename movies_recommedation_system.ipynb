{
  "nbformat": 4,
  "nbformat_minor": 0,
  "metadata": {
    "colab": {
      "provenance": [],
      "name": "movies_recommedation_system.ipynb",
      "authorship_tag": "ABX9TyOEm3MkwWkykJQ60Jpu9NK8",
      "include_colab_link": true
    },
    "kernelspec": {
      "name": "python3",
      "display_name": "Python 3"
    },
    "language_info": {
      "name": "python"
    }
  },
  "cells": [
    {
      "cell_type": "markdown",
      "metadata": {
        "id": "view-in-github",
        "colab_type": "text"
      },
      "source": [
        "<a href=\"https://colab.research.google.com/github/Raviteja-pallapu/Machine-learning/blob/main/movies_recommedation_system.ipynb\" target=\"_parent\"><img src=\"https://colab.research.google.com/assets/colab-badge.svg\" alt=\"Open In Colab\"/></a>"
      ]
    },
    {
      "cell_type": "code",
      "execution_count": 1,
      "metadata": {
        "id": "I8TCiwGt5F1l"
      },
      "outputs": [],
      "source": [
        "import pandas as pd"
      ]
    },
    {
      "cell_type": "code",
      "source": [
        "import numpy as np"
      ],
      "metadata": {
        "id": "UfaPxJsm6kM9"
      },
      "execution_count": 2,
      "outputs": []
    },
    {
      "cell_type": "code",
      "source": [
        "import matplotlib.pyplot as plt"
      ],
      "metadata": {
        "id": "i-XUkbaO_-a8"
      },
      "execution_count": 3,
      "outputs": []
    },
    {
      "cell_type": "code",
      "source": [
        "import seaborn as sns"
      ],
      "metadata": {
        "id": "O9WHzfxTAKZD"
      },
      "execution_count": 6,
      "outputs": []
    },
    {
      "cell_type": "code",
      "source": [
        "df = pd.read_csv(\"https://raw.githubusercontent.com/YBI-Foundation/Dataset/main/Movies%20Recommendation.csv\")"
      ],
      "metadata": {
        "id": "J3rLqjbaAY9v"
      },
      "execution_count": 7,
      "outputs": []
    },
    {
      "cell_type": "code",
      "source": [
        "df.head()"
      ],
      "metadata": {
        "colab": {
          "base_uri": "https://localhost:8080/",
          "height": 672
        },
        "id": "JdZU5bPMAP50",
        "outputId": "c4ceed4c-82c6-432d-bc48-881dea32a76a"
      },
      "execution_count": 8,
      "outputs": [
        {
          "output_type": "execute_result",
          "data": {
            "text/plain": [
              "   Movie_ID      Movie_Title                       Movie_Genre Movie_Language  \\\n",
              "0         1       Four Rooms                      Crime Comedy             en   \n",
              "1         2        Star Wars  Adventure Action Science Fiction             en   \n",
              "2         3     Finding Nemo                  Animation Family             en   \n",
              "3         4     Forrest Gump              Comedy Drama Romance             en   \n",
              "4         5  American Beauty                             Drama             en   \n",
              "\n",
              "   Movie_Budget  Movie_Popularity Movie_Release_Date  Movie_Revenue  \\\n",
              "0       4000000         22.876230         09-12-1995        4300000   \n",
              "1      11000000        126.393695         25-05-1977      775398007   \n",
              "2      94000000         85.688789         30-05-2003      940335536   \n",
              "3      55000000        138.133331         06-07-1994      677945399   \n",
              "4      15000000         80.878605         15-09-1999      356296601   \n",
              "\n",
              "   Movie_Runtime  Movie_Vote  ...  \\\n",
              "0           98.0         6.5  ...   \n",
              "1          121.0         8.1  ...   \n",
              "2          100.0         7.6  ...   \n",
              "3          142.0         8.2  ...   \n",
              "4          122.0         7.9  ...   \n",
              "\n",
              "                                      Movie_Homepage  \\\n",
              "0                                                NaN   \n",
              "1  http://www.starwars.com/films/star-wars-episod...   \n",
              "2              http://movies.disney.com/finding-nemo   \n",
              "3                                                NaN   \n",
              "4                      http://www.dreamworks.com/ab/   \n",
              "\n",
              "                                      Movie_Keywords  \\\n",
              "0          hotel new year's eve witch bet hotel room   \n",
              "1        android galaxy hermit death star lightsaber   \n",
              "2  father son relationship harbor underwater fish...   \n",
              "3  vietnam veteran hippie mentally disabled runni...   \n",
              "4  male nudity female nudity adultery midlife cri...   \n",
              "\n",
              "                                      Movie_Overview  \\\n",
              "0  It's Ted the Bellhop's first night on the job....   \n",
              "1  Princess Leia is captured and held hostage by ...   \n",
              "2  Nemo, an adventurous young clownfish, is unexp...   \n",
              "3  A man with a low IQ has accomplished great thi...   \n",
              "4  Lester Burnham, a depressed suburban father in...   \n",
              "\n",
              "                              Movie_Production_House  \\\n",
              "0  [{\"name\": \"Miramax Films\", \"id\": 14}, {\"name\":...   \n",
              "1  [{\"name\": \"Lucasfilm\", \"id\": 1}, {\"name\": \"Twe...   \n",
              "2     [{\"name\": \"Pixar Animation Studios\", \"id\": 3}]   \n",
              "3          [{\"name\": \"Paramount Pictures\", \"id\": 4}]   \n",
              "4  [{\"name\": \"DreamWorks SKG\", \"id\": 27}, {\"name\"...   \n",
              "\n",
              "                            Movie_Production_Country  \\\n",
              "0  [{\"iso_3166_1\": \"US\", \"name\": \"United States o...   \n",
              "1  [{\"iso_3166_1\": \"US\", \"name\": \"United States o...   \n",
              "2  [{\"iso_3166_1\": \"US\", \"name\": \"United States o...   \n",
              "3  [{\"iso_3166_1\": \"US\", \"name\": \"United States o...   \n",
              "4  [{\"iso_3166_1\": \"US\", \"name\": \"United States o...   \n",
              "\n",
              "                      Movie_Spoken_Language  \\\n",
              "0  [{\"iso_639_1\": \"en\", \"name\": \"English\"}]   \n",
              "1  [{\"iso_639_1\": \"en\", \"name\": \"English\"}]   \n",
              "2  [{\"iso_639_1\": \"en\", \"name\": \"English\"}]   \n",
              "3  [{\"iso_639_1\": \"en\", \"name\": \"English\"}]   \n",
              "4  [{\"iso_639_1\": \"en\", \"name\": \"English\"}]   \n",
              "\n",
              "                                       Movie_Tagline  \\\n",
              "0  Twelve outrageous guests. Four scandalous requ...   \n",
              "1       A long time ago in a galaxy far, far away...   \n",
              "2  There are 3.7 trillion fish in the ocean, they...   \n",
              "3  The world will never be the same, once you've ...   \n",
              "4                                       Look closer.   \n",
              "\n",
              "                                          Movie_Cast  \\\n",
              "0  Tim Roth Antonio Banderas Jennifer Beals Madon...   \n",
              "1  Mark Hamill Harrison Ford Carrie Fisher Peter ...   \n",
              "2  Albert Brooks Ellen DeGeneres Alexander Gould ...   \n",
              "3  Tom Hanks Robin Wright Gary Sinise Mykelti Wil...   \n",
              "4  Kevin Spacey Annette Bening Thora Birch Wes Be...   \n",
              "\n",
              "                                          Movie_Crew   Movie_Director  \n",
              "0  [{'name': 'Allison Anders', 'gender': 1, 'depa...   Allison Anders  \n",
              "1  [{'name': 'George Lucas', 'gender': 2, 'depart...     George Lucas  \n",
              "2  [{'name': 'Andrew Stanton', 'gender': 2, 'depa...   Andrew Stanton  \n",
              "3  [{'name': 'Alan Silvestri', 'gender': 2, 'depa...  Robert Zemeckis  \n",
              "4  [{'name': 'Thomas Newman', 'gender': 2, 'depar...       Sam Mendes  \n",
              "\n",
              "[5 rows x 21 columns]"
            ],
            "text/html": [
              "\n",
              "  <div id=\"df-4a1e5d6c-9835-4f23-8c20-20a760a044a7\" class=\"colab-df-container\">\n",
              "    <div>\n",
              "<style scoped>\n",
              "    .dataframe tbody tr th:only-of-type {\n",
              "        vertical-align: middle;\n",
              "    }\n",
              "\n",
              "    .dataframe tbody tr th {\n",
              "        vertical-align: top;\n",
              "    }\n",
              "\n",
              "    .dataframe thead th {\n",
              "        text-align: right;\n",
              "    }\n",
              "</style>\n",
              "<table border=\"1\" class=\"dataframe\">\n",
              "  <thead>\n",
              "    <tr style=\"text-align: right;\">\n",
              "      <th></th>\n",
              "      <th>Movie_ID</th>\n",
              "      <th>Movie_Title</th>\n",
              "      <th>Movie_Genre</th>\n",
              "      <th>Movie_Language</th>\n",
              "      <th>Movie_Budget</th>\n",
              "      <th>Movie_Popularity</th>\n",
              "      <th>Movie_Release_Date</th>\n",
              "      <th>Movie_Revenue</th>\n",
              "      <th>Movie_Runtime</th>\n",
              "      <th>Movie_Vote</th>\n",
              "      <th>...</th>\n",
              "      <th>Movie_Homepage</th>\n",
              "      <th>Movie_Keywords</th>\n",
              "      <th>Movie_Overview</th>\n",
              "      <th>Movie_Production_House</th>\n",
              "      <th>Movie_Production_Country</th>\n",
              "      <th>Movie_Spoken_Language</th>\n",
              "      <th>Movie_Tagline</th>\n",
              "      <th>Movie_Cast</th>\n",
              "      <th>Movie_Crew</th>\n",
              "      <th>Movie_Director</th>\n",
              "    </tr>\n",
              "  </thead>\n",
              "  <tbody>\n",
              "    <tr>\n",
              "      <th>0</th>\n",
              "      <td>1</td>\n",
              "      <td>Four Rooms</td>\n",
              "      <td>Crime Comedy</td>\n",
              "      <td>en</td>\n",
              "      <td>4000000</td>\n",
              "      <td>22.876230</td>\n",
              "      <td>09-12-1995</td>\n",
              "      <td>4300000</td>\n",
              "      <td>98.0</td>\n",
              "      <td>6.5</td>\n",
              "      <td>...</td>\n",
              "      <td>NaN</td>\n",
              "      <td>hotel new year's eve witch bet hotel room</td>\n",
              "      <td>It's Ted the Bellhop's first night on the job....</td>\n",
              "      <td>[{\"name\": \"Miramax Films\", \"id\": 14}, {\"name\":...</td>\n",
              "      <td>[{\"iso_3166_1\": \"US\", \"name\": \"United States o...</td>\n",
              "      <td>[{\"iso_639_1\": \"en\", \"name\": \"English\"}]</td>\n",
              "      <td>Twelve outrageous guests. Four scandalous requ...</td>\n",
              "      <td>Tim Roth Antonio Banderas Jennifer Beals Madon...</td>\n",
              "      <td>[{'name': 'Allison Anders', 'gender': 1, 'depa...</td>\n",
              "      <td>Allison Anders</td>\n",
              "    </tr>\n",
              "    <tr>\n",
              "      <th>1</th>\n",
              "      <td>2</td>\n",
              "      <td>Star Wars</td>\n",
              "      <td>Adventure Action Science Fiction</td>\n",
              "      <td>en</td>\n",
              "      <td>11000000</td>\n",
              "      <td>126.393695</td>\n",
              "      <td>25-05-1977</td>\n",
              "      <td>775398007</td>\n",
              "      <td>121.0</td>\n",
              "      <td>8.1</td>\n",
              "      <td>...</td>\n",
              "      <td>http://www.starwars.com/films/star-wars-episod...</td>\n",
              "      <td>android galaxy hermit death star lightsaber</td>\n",
              "      <td>Princess Leia is captured and held hostage by ...</td>\n",
              "      <td>[{\"name\": \"Lucasfilm\", \"id\": 1}, {\"name\": \"Twe...</td>\n",
              "      <td>[{\"iso_3166_1\": \"US\", \"name\": \"United States o...</td>\n",
              "      <td>[{\"iso_639_1\": \"en\", \"name\": \"English\"}]</td>\n",
              "      <td>A long time ago in a galaxy far, far away...</td>\n",
              "      <td>Mark Hamill Harrison Ford Carrie Fisher Peter ...</td>\n",
              "      <td>[{'name': 'George Lucas', 'gender': 2, 'depart...</td>\n",
              "      <td>George Lucas</td>\n",
              "    </tr>\n",
              "    <tr>\n",
              "      <th>2</th>\n",
              "      <td>3</td>\n",
              "      <td>Finding Nemo</td>\n",
              "      <td>Animation Family</td>\n",
              "      <td>en</td>\n",
              "      <td>94000000</td>\n",
              "      <td>85.688789</td>\n",
              "      <td>30-05-2003</td>\n",
              "      <td>940335536</td>\n",
              "      <td>100.0</td>\n",
              "      <td>7.6</td>\n",
              "      <td>...</td>\n",
              "      <td>http://movies.disney.com/finding-nemo</td>\n",
              "      <td>father son relationship harbor underwater fish...</td>\n",
              "      <td>Nemo, an adventurous young clownfish, is unexp...</td>\n",
              "      <td>[{\"name\": \"Pixar Animation Studios\", \"id\": 3}]</td>\n",
              "      <td>[{\"iso_3166_1\": \"US\", \"name\": \"United States o...</td>\n",
              "      <td>[{\"iso_639_1\": \"en\", \"name\": \"English\"}]</td>\n",
              "      <td>There are 3.7 trillion fish in the ocean, they...</td>\n",
              "      <td>Albert Brooks Ellen DeGeneres Alexander Gould ...</td>\n",
              "      <td>[{'name': 'Andrew Stanton', 'gender': 2, 'depa...</td>\n",
              "      <td>Andrew Stanton</td>\n",
              "    </tr>\n",
              "    <tr>\n",
              "      <th>3</th>\n",
              "      <td>4</td>\n",
              "      <td>Forrest Gump</td>\n",
              "      <td>Comedy Drama Romance</td>\n",
              "      <td>en</td>\n",
              "      <td>55000000</td>\n",
              "      <td>138.133331</td>\n",
              "      <td>06-07-1994</td>\n",
              "      <td>677945399</td>\n",
              "      <td>142.0</td>\n",
              "      <td>8.2</td>\n",
              "      <td>...</td>\n",
              "      <td>NaN</td>\n",
              "      <td>vietnam veteran hippie mentally disabled runni...</td>\n",
              "      <td>A man with a low IQ has accomplished great thi...</td>\n",
              "      <td>[{\"name\": \"Paramount Pictures\", \"id\": 4}]</td>\n",
              "      <td>[{\"iso_3166_1\": \"US\", \"name\": \"United States o...</td>\n",
              "      <td>[{\"iso_639_1\": \"en\", \"name\": \"English\"}]</td>\n",
              "      <td>The world will never be the same, once you've ...</td>\n",
              "      <td>Tom Hanks Robin Wright Gary Sinise Mykelti Wil...</td>\n",
              "      <td>[{'name': 'Alan Silvestri', 'gender': 2, 'depa...</td>\n",
              "      <td>Robert Zemeckis</td>\n",
              "    </tr>\n",
              "    <tr>\n",
              "      <th>4</th>\n",
              "      <td>5</td>\n",
              "      <td>American Beauty</td>\n",
              "      <td>Drama</td>\n",
              "      <td>en</td>\n",
              "      <td>15000000</td>\n",
              "      <td>80.878605</td>\n",
              "      <td>15-09-1999</td>\n",
              "      <td>356296601</td>\n",
              "      <td>122.0</td>\n",
              "      <td>7.9</td>\n",
              "      <td>...</td>\n",
              "      <td>http://www.dreamworks.com/ab/</td>\n",
              "      <td>male nudity female nudity adultery midlife cri...</td>\n",
              "      <td>Lester Burnham, a depressed suburban father in...</td>\n",
              "      <td>[{\"name\": \"DreamWorks SKG\", \"id\": 27}, {\"name\"...</td>\n",
              "      <td>[{\"iso_3166_1\": \"US\", \"name\": \"United States o...</td>\n",
              "      <td>[{\"iso_639_1\": \"en\", \"name\": \"English\"}]</td>\n",
              "      <td>Look closer.</td>\n",
              "      <td>Kevin Spacey Annette Bening Thora Birch Wes Be...</td>\n",
              "      <td>[{'name': 'Thomas Newman', 'gender': 2, 'depar...</td>\n",
              "      <td>Sam Mendes</td>\n",
              "    </tr>\n",
              "  </tbody>\n",
              "</table>\n",
              "<p>5 rows × 21 columns</p>\n",
              "</div>\n",
              "    <div class=\"colab-df-buttons\">\n",
              "\n",
              "  <div class=\"colab-df-container\">\n",
              "    <button class=\"colab-df-convert\" onclick=\"convertToInteractive('df-4a1e5d6c-9835-4f23-8c20-20a760a044a7')\"\n",
              "            title=\"Convert this dataframe to an interactive table.\"\n",
              "            style=\"display:none;\">\n",
              "\n",
              "  <svg xmlns=\"http://www.w3.org/2000/svg\" height=\"24px\" viewBox=\"0 -960 960 960\">\n",
              "    <path d=\"M120-120v-720h720v720H120Zm60-500h600v-160H180v160Zm220 220h160v-160H400v160Zm0 220h160v-160H400v160ZM180-400h160v-160H180v160Zm440 0h160v-160H620v160ZM180-180h160v-160H180v160Zm440 0h160v-160H620v160Z\"/>\n",
              "  </svg>\n",
              "    </button>\n",
              "\n",
              "  <style>\n",
              "    .colab-df-container {\n",
              "      display:flex;\n",
              "      gap: 12px;\n",
              "    }\n",
              "\n",
              "    .colab-df-convert {\n",
              "      background-color: #E8F0FE;\n",
              "      border: none;\n",
              "      border-radius: 50%;\n",
              "      cursor: pointer;\n",
              "      display: none;\n",
              "      fill: #1967D2;\n",
              "      height: 32px;\n",
              "      padding: 0 0 0 0;\n",
              "      width: 32px;\n",
              "    }\n",
              "\n",
              "    .colab-df-convert:hover {\n",
              "      background-color: #E2EBFA;\n",
              "      box-shadow: 0px 1px 2px rgba(60, 64, 67, 0.3), 0px 1px 3px 1px rgba(60, 64, 67, 0.15);\n",
              "      fill: #174EA6;\n",
              "    }\n",
              "\n",
              "    .colab-df-buttons div {\n",
              "      margin-bottom: 4px;\n",
              "    }\n",
              "\n",
              "    [theme=dark] .colab-df-convert {\n",
              "      background-color: #3B4455;\n",
              "      fill: #D2E3FC;\n",
              "    }\n",
              "\n",
              "    [theme=dark] .colab-df-convert:hover {\n",
              "      background-color: #434B5C;\n",
              "      box-shadow: 0px 1px 3px 1px rgba(0, 0, 0, 0.15);\n",
              "      filter: drop-shadow(0px 1px 2px rgba(0, 0, 0, 0.3));\n",
              "      fill: #FFFFFF;\n",
              "    }\n",
              "  </style>\n",
              "\n",
              "    <script>\n",
              "      const buttonEl =\n",
              "        document.querySelector('#df-4a1e5d6c-9835-4f23-8c20-20a760a044a7 button.colab-df-convert');\n",
              "      buttonEl.style.display =\n",
              "        google.colab.kernel.accessAllowed ? 'block' : 'none';\n",
              "\n",
              "      async function convertToInteractive(key) {\n",
              "        const element = document.querySelector('#df-4a1e5d6c-9835-4f23-8c20-20a760a044a7');\n",
              "        const dataTable =\n",
              "          await google.colab.kernel.invokeFunction('convertToInteractive',\n",
              "                                                    [key], {});\n",
              "        if (!dataTable) return;\n",
              "\n",
              "        const docLinkHtml = 'Like what you see? Visit the ' +\n",
              "          '<a target=\"_blank\" href=https://colab.research.google.com/notebooks/data_table.ipynb>data table notebook</a>'\n",
              "          + ' to learn more about interactive tables.';\n",
              "        element.innerHTML = '';\n",
              "        dataTable['output_type'] = 'display_data';\n",
              "        await google.colab.output.renderOutput(dataTable, element);\n",
              "        const docLink = document.createElement('div');\n",
              "        docLink.innerHTML = docLinkHtml;\n",
              "        element.appendChild(docLink);\n",
              "      }\n",
              "    </script>\n",
              "  </div>\n",
              "\n",
              "\n",
              "<div id=\"df-1718fae7-f0e6-4b29-be2b-39acc702885b\">\n",
              "  <button class=\"colab-df-quickchart\" onclick=\"quickchart('df-1718fae7-f0e6-4b29-be2b-39acc702885b')\"\n",
              "            title=\"Suggest charts\"\n",
              "            style=\"display:none;\">\n",
              "\n",
              "<svg xmlns=\"http://www.w3.org/2000/svg\" height=\"24px\"viewBox=\"0 0 24 24\"\n",
              "     width=\"24px\">\n",
              "    <g>\n",
              "        <path d=\"M19 3H5c-1.1 0-2 .9-2 2v14c0 1.1.9 2 2 2h14c1.1 0 2-.9 2-2V5c0-1.1-.9-2-2-2zM9 17H7v-7h2v7zm4 0h-2V7h2v10zm4 0h-2v-4h2v4z\"/>\n",
              "    </g>\n",
              "</svg>\n",
              "  </button>\n",
              "\n",
              "<style>\n",
              "  .colab-df-quickchart {\n",
              "      --bg-color: #E8F0FE;\n",
              "      --fill-color: #1967D2;\n",
              "      --hover-bg-color: #E2EBFA;\n",
              "      --hover-fill-color: #174EA6;\n",
              "      --disabled-fill-color: #AAA;\n",
              "      --disabled-bg-color: #DDD;\n",
              "  }\n",
              "\n",
              "  [theme=dark] .colab-df-quickchart {\n",
              "      --bg-color: #3B4455;\n",
              "      --fill-color: #D2E3FC;\n",
              "      --hover-bg-color: #434B5C;\n",
              "      --hover-fill-color: #FFFFFF;\n",
              "      --disabled-bg-color: #3B4455;\n",
              "      --disabled-fill-color: #666;\n",
              "  }\n",
              "\n",
              "  .colab-df-quickchart {\n",
              "    background-color: var(--bg-color);\n",
              "    border: none;\n",
              "    border-radius: 50%;\n",
              "    cursor: pointer;\n",
              "    display: none;\n",
              "    fill: var(--fill-color);\n",
              "    height: 32px;\n",
              "    padding: 0;\n",
              "    width: 32px;\n",
              "  }\n",
              "\n",
              "  .colab-df-quickchart:hover {\n",
              "    background-color: var(--hover-bg-color);\n",
              "    box-shadow: 0 1px 2px rgba(60, 64, 67, 0.3), 0 1px 3px 1px rgba(60, 64, 67, 0.15);\n",
              "    fill: var(--button-hover-fill-color);\n",
              "  }\n",
              "\n",
              "  .colab-df-quickchart-complete:disabled,\n",
              "  .colab-df-quickchart-complete:disabled:hover {\n",
              "    background-color: var(--disabled-bg-color);\n",
              "    fill: var(--disabled-fill-color);\n",
              "    box-shadow: none;\n",
              "  }\n",
              "\n",
              "  .colab-df-spinner {\n",
              "    border: 2px solid var(--fill-color);\n",
              "    border-color: transparent;\n",
              "    border-bottom-color: var(--fill-color);\n",
              "    animation:\n",
              "      spin 1s steps(1) infinite;\n",
              "  }\n",
              "\n",
              "  @keyframes spin {\n",
              "    0% {\n",
              "      border-color: transparent;\n",
              "      border-bottom-color: var(--fill-color);\n",
              "      border-left-color: var(--fill-color);\n",
              "    }\n",
              "    20% {\n",
              "      border-color: transparent;\n",
              "      border-left-color: var(--fill-color);\n",
              "      border-top-color: var(--fill-color);\n",
              "    }\n",
              "    30% {\n",
              "      border-color: transparent;\n",
              "      border-left-color: var(--fill-color);\n",
              "      border-top-color: var(--fill-color);\n",
              "      border-right-color: var(--fill-color);\n",
              "    }\n",
              "    40% {\n",
              "      border-color: transparent;\n",
              "      border-right-color: var(--fill-color);\n",
              "      border-top-color: var(--fill-color);\n",
              "    }\n",
              "    60% {\n",
              "      border-color: transparent;\n",
              "      border-right-color: var(--fill-color);\n",
              "    }\n",
              "    80% {\n",
              "      border-color: transparent;\n",
              "      border-right-color: var(--fill-color);\n",
              "      border-bottom-color: var(--fill-color);\n",
              "    }\n",
              "    90% {\n",
              "      border-color: transparent;\n",
              "      border-bottom-color: var(--fill-color);\n",
              "    }\n",
              "  }\n",
              "</style>\n",
              "\n",
              "  <script>\n",
              "    async function quickchart(key) {\n",
              "      const quickchartButtonEl =\n",
              "        document.querySelector('#' + key + ' button');\n",
              "      quickchartButtonEl.disabled = true;  // To prevent multiple clicks.\n",
              "      quickchartButtonEl.classList.add('colab-df-spinner');\n",
              "      try {\n",
              "        const charts = await google.colab.kernel.invokeFunction(\n",
              "            'suggestCharts', [key], {});\n",
              "      } catch (error) {\n",
              "        console.error('Error during call to suggestCharts:', error);\n",
              "      }\n",
              "      quickchartButtonEl.classList.remove('colab-df-spinner');\n",
              "      quickchartButtonEl.classList.add('colab-df-quickchart-complete');\n",
              "    }\n",
              "    (() => {\n",
              "      let quickchartButtonEl =\n",
              "        document.querySelector('#df-1718fae7-f0e6-4b29-be2b-39acc702885b button');\n",
              "      quickchartButtonEl.style.display =\n",
              "        google.colab.kernel.accessAllowed ? 'block' : 'none';\n",
              "    })();\n",
              "  </script>\n",
              "</div>\n",
              "\n",
              "    </div>\n",
              "  </div>\n"
            ],
            "application/vnd.google.colaboratory.intrinsic+json": {
              "type": "dataframe",
              "variable_name": "df"
            }
          },
          "metadata": {},
          "execution_count": 8
        }
      ]
    },
    {
      "cell_type": "code",
      "source": [
        "df.info()"
      ],
      "metadata": {
        "colab": {
          "base_uri": "https://localhost:8080/"
        },
        "id": "4qjgnL4jCLv7",
        "outputId": "b12eb2bc-9567-4a4b-fcaa-7c808af21a00"
      },
      "execution_count": 9,
      "outputs": [
        {
          "output_type": "stream",
          "name": "stdout",
          "text": [
            "<class 'pandas.core.frame.DataFrame'>\n",
            "RangeIndex: 4760 entries, 0 to 4759\n",
            "Data columns (total 21 columns):\n",
            " #   Column                    Non-Null Count  Dtype  \n",
            "---  ------                    --------------  -----  \n",
            " 0   Movie_ID                  4760 non-null   int64  \n",
            " 1   Movie_Title               4760 non-null   object \n",
            " 2   Movie_Genre               4760 non-null   object \n",
            " 3   Movie_Language            4760 non-null   object \n",
            " 4   Movie_Budget              4760 non-null   int64  \n",
            " 5   Movie_Popularity          4760 non-null   float64\n",
            " 6   Movie_Release_Date        4760 non-null   object \n",
            " 7   Movie_Revenue             4760 non-null   int64  \n",
            " 8   Movie_Runtime             4758 non-null   float64\n",
            " 9   Movie_Vote                4760 non-null   float64\n",
            " 10  Movie_Vote_Count          4760 non-null   int64  \n",
            " 11  Movie_Homepage            1699 non-null   object \n",
            " 12  Movie_Keywords            4373 non-null   object \n",
            " 13  Movie_Overview            4757 non-null   object \n",
            " 14  Movie_Production_House    4760 non-null   object \n",
            " 15  Movie_Production_Country  4760 non-null   object \n",
            " 16  Movie_Spoken_Language     4760 non-null   object \n",
            " 17  Movie_Tagline             3942 non-null   object \n",
            " 18  Movie_Cast                4733 non-null   object \n",
            " 19  Movie_Crew                4760 non-null   object \n",
            " 20  Movie_Director            4738 non-null   object \n",
            "dtypes: float64(3), int64(4), object(14)\n",
            "memory usage: 781.1+ KB\n"
          ]
        }
      ]
    },
    {
      "cell_type": "code",
      "source": [
        "df.shape"
      ],
      "metadata": {
        "colab": {
          "base_uri": "https://localhost:8080/"
        },
        "id": "b5ppWpEgCXtf",
        "outputId": "4463cf71-8b5c-423a-be64-f7d35922af9f"
      },
      "execution_count": 10,
      "outputs": [
        {
          "output_type": "execute_result",
          "data": {
            "text/plain": [
              "(4760, 21)"
            ]
          },
          "metadata": {},
          "execution_count": 10
        }
      ]
    },
    {
      "cell_type": "code",
      "source": [
        "df.columns"
      ],
      "metadata": {
        "colab": {
          "base_uri": "https://localhost:8080/"
        },
        "id": "gKUKI6CMCfpd",
        "outputId": "8873b4de-5dec-4836-c0c0-da1b86fe4eec"
      },
      "execution_count": 11,
      "outputs": [
        {
          "output_type": "execute_result",
          "data": {
            "text/plain": [
              "Index(['Movie_ID', 'Movie_Title', 'Movie_Genre', 'Movie_Language',\n",
              "       'Movie_Budget', 'Movie_Popularity', 'Movie_Release_Date',\n",
              "       'Movie_Revenue', 'Movie_Runtime', 'Movie_Vote', 'Movie_Vote_Count',\n",
              "       'Movie_Homepage', 'Movie_Keywords', 'Movie_Overview',\n",
              "       'Movie_Production_House', 'Movie_Production_Country',\n",
              "       'Movie_Spoken_Language', 'Movie_Tagline', 'Movie_Cast', 'Movie_Crew',\n",
              "       'Movie_Director'],\n",
              "      dtype='object')"
            ]
          },
          "metadata": {},
          "execution_count": 11
        }
      ]
    },
    {
      "cell_type": "code",
      "source": [
        "df_features = df[['Movie_Genre','Movie_Keywords','Movie_Tagline', 'Movie_Cast','Movie_Director']].fillna('')"
      ],
      "metadata": {
        "id": "Zwp2xJr3CjUH"
      },
      "execution_count": 12,
      "outputs": []
    },
    {
      "cell_type": "code",
      "source": [
        "df_features.shape"
      ],
      "metadata": {
        "colab": {
          "base_uri": "https://localhost:8080/"
        },
        "id": "3QK_EImSDa_I",
        "outputId": "77acc52e-d8d2-4d24-ee9a-3b3cfb20c983"
      },
      "execution_count": 14,
      "outputs": [
        {
          "output_type": "execute_result",
          "data": {
            "text/plain": [
              "(4760, 5)"
            ]
          },
          "metadata": {},
          "execution_count": 14
        }
      ]
    },
    {
      "cell_type": "code",
      "source": [
        "df_features"
      ],
      "metadata": {
        "colab": {
          "base_uri": "https://localhost:8080/",
          "height": 579
        },
        "id": "c4_7tg2MDm40",
        "outputId": "3157b4ef-b9d5-4228-f605-5af8d2985413"
      },
      "execution_count": 16,
      "outputs": [
        {
          "output_type": "execute_result",
          "data": {
            "text/plain": [
              "                           Movie_Genre  \\\n",
              "0                         Crime Comedy   \n",
              "1     Adventure Action Science Fiction   \n",
              "2                     Animation Family   \n",
              "3                 Comedy Drama Romance   \n",
              "4                                Drama   \n",
              "...                                ...   \n",
              "4755                            Horror   \n",
              "4756               Comedy Family Drama   \n",
              "4757                    Thriller Drama   \n",
              "4758                            Family   \n",
              "4759                       Documentary   \n",
              "\n",
              "                                         Movie_Keywords  \\\n",
              "0             hotel new year's eve witch bet hotel room   \n",
              "1           android galaxy hermit death star lightsaber   \n",
              "2     father son relationship harbor underwater fish...   \n",
              "3     vietnam veteran hippie mentally disabled runni...   \n",
              "4     male nudity female nudity adultery midlife cri...   \n",
              "...                                                 ...   \n",
              "4755                                                      \n",
              "4756                                                      \n",
              "4757                     christian film sex trafficking   \n",
              "4758                                                      \n",
              "4759  music actors legendary perfomer classic hollyw...   \n",
              "\n",
              "                                          Movie_Tagline  \\\n",
              "0     Twelve outrageous guests. Four scandalous requ...   \n",
              "1          A long time ago in a galaxy far, far away...   \n",
              "2     There are 3.7 trillion fish in the ocean, they...   \n",
              "3     The world will never be the same, once you've ...   \n",
              "4                                          Look closer.   \n",
              "...                                                 ...   \n",
              "4755                The hot spot where Satan's waitin'.   \n",
              "4756           It’s better to stand out than to fit in.   \n",
              "4757           She never knew it could happen to her...   \n",
              "4758                                                      \n",
              "4759                                                      \n",
              "\n",
              "                                             Movie_Cast     Movie_Director  \n",
              "0     Tim Roth Antonio Banderas Jennifer Beals Madon...     Allison Anders  \n",
              "1     Mark Hamill Harrison Ford Carrie Fisher Peter ...       George Lucas  \n",
              "2     Albert Brooks Ellen DeGeneres Alexander Gould ...     Andrew Stanton  \n",
              "3     Tom Hanks Robin Wright Gary Sinise Mykelti Wil...    Robert Zemeckis  \n",
              "4     Kevin Spacey Annette Bening Thora Birch Wes Be...         Sam Mendes  \n",
              "...                                                 ...                ...  \n",
              "4755  Lisa Hart Carroll Michael Des Barres Paul Drak...         Pece Dingo  \n",
              "4756  Roni Akurati Brighton Sharbino Jason Lee Anjul...       Frank Lotito  \n",
              "4757  Nicole Smolen Kim Baldwin Ariana Stephens Brys...       Jaco Booyens  \n",
              "4758                                                                        \n",
              "4759                                    Tony Oppedisano  Simon Napier-Bell  \n",
              "\n",
              "[4760 rows x 5 columns]"
            ],
            "text/html": [
              "\n",
              "  <div id=\"df-438183c5-bd39-494c-8ec8-4d94b854bcf2\" class=\"colab-df-container\">\n",
              "    <div>\n",
              "<style scoped>\n",
              "    .dataframe tbody tr th:only-of-type {\n",
              "        vertical-align: middle;\n",
              "    }\n",
              "\n",
              "    .dataframe tbody tr th {\n",
              "        vertical-align: top;\n",
              "    }\n",
              "\n",
              "    .dataframe thead th {\n",
              "        text-align: right;\n",
              "    }\n",
              "</style>\n",
              "<table border=\"1\" class=\"dataframe\">\n",
              "  <thead>\n",
              "    <tr style=\"text-align: right;\">\n",
              "      <th></th>\n",
              "      <th>Movie_Genre</th>\n",
              "      <th>Movie_Keywords</th>\n",
              "      <th>Movie_Tagline</th>\n",
              "      <th>Movie_Cast</th>\n",
              "      <th>Movie_Director</th>\n",
              "    </tr>\n",
              "  </thead>\n",
              "  <tbody>\n",
              "    <tr>\n",
              "      <th>0</th>\n",
              "      <td>Crime Comedy</td>\n",
              "      <td>hotel new year's eve witch bet hotel room</td>\n",
              "      <td>Twelve outrageous guests. Four scandalous requ...</td>\n",
              "      <td>Tim Roth Antonio Banderas Jennifer Beals Madon...</td>\n",
              "      <td>Allison Anders</td>\n",
              "    </tr>\n",
              "    <tr>\n",
              "      <th>1</th>\n",
              "      <td>Adventure Action Science Fiction</td>\n",
              "      <td>android galaxy hermit death star lightsaber</td>\n",
              "      <td>A long time ago in a galaxy far, far away...</td>\n",
              "      <td>Mark Hamill Harrison Ford Carrie Fisher Peter ...</td>\n",
              "      <td>George Lucas</td>\n",
              "    </tr>\n",
              "    <tr>\n",
              "      <th>2</th>\n",
              "      <td>Animation Family</td>\n",
              "      <td>father son relationship harbor underwater fish...</td>\n",
              "      <td>There are 3.7 trillion fish in the ocean, they...</td>\n",
              "      <td>Albert Brooks Ellen DeGeneres Alexander Gould ...</td>\n",
              "      <td>Andrew Stanton</td>\n",
              "    </tr>\n",
              "    <tr>\n",
              "      <th>3</th>\n",
              "      <td>Comedy Drama Romance</td>\n",
              "      <td>vietnam veteran hippie mentally disabled runni...</td>\n",
              "      <td>The world will never be the same, once you've ...</td>\n",
              "      <td>Tom Hanks Robin Wright Gary Sinise Mykelti Wil...</td>\n",
              "      <td>Robert Zemeckis</td>\n",
              "    </tr>\n",
              "    <tr>\n",
              "      <th>4</th>\n",
              "      <td>Drama</td>\n",
              "      <td>male nudity female nudity adultery midlife cri...</td>\n",
              "      <td>Look closer.</td>\n",
              "      <td>Kevin Spacey Annette Bening Thora Birch Wes Be...</td>\n",
              "      <td>Sam Mendes</td>\n",
              "    </tr>\n",
              "    <tr>\n",
              "      <th>...</th>\n",
              "      <td>...</td>\n",
              "      <td>...</td>\n",
              "      <td>...</td>\n",
              "      <td>...</td>\n",
              "      <td>...</td>\n",
              "    </tr>\n",
              "    <tr>\n",
              "      <th>4755</th>\n",
              "      <td>Horror</td>\n",
              "      <td></td>\n",
              "      <td>The hot spot where Satan's waitin'.</td>\n",
              "      <td>Lisa Hart Carroll Michael Des Barres Paul Drak...</td>\n",
              "      <td>Pece Dingo</td>\n",
              "    </tr>\n",
              "    <tr>\n",
              "      <th>4756</th>\n",
              "      <td>Comedy Family Drama</td>\n",
              "      <td></td>\n",
              "      <td>It’s better to stand out than to fit in.</td>\n",
              "      <td>Roni Akurati Brighton Sharbino Jason Lee Anjul...</td>\n",
              "      <td>Frank Lotito</td>\n",
              "    </tr>\n",
              "    <tr>\n",
              "      <th>4757</th>\n",
              "      <td>Thriller Drama</td>\n",
              "      <td>christian film sex trafficking</td>\n",
              "      <td>She never knew it could happen to her...</td>\n",
              "      <td>Nicole Smolen Kim Baldwin Ariana Stephens Brys...</td>\n",
              "      <td>Jaco Booyens</td>\n",
              "    </tr>\n",
              "    <tr>\n",
              "      <th>4758</th>\n",
              "      <td>Family</td>\n",
              "      <td></td>\n",
              "      <td></td>\n",
              "      <td></td>\n",
              "      <td></td>\n",
              "    </tr>\n",
              "    <tr>\n",
              "      <th>4759</th>\n",
              "      <td>Documentary</td>\n",
              "      <td>music actors legendary perfomer classic hollyw...</td>\n",
              "      <td></td>\n",
              "      <td>Tony Oppedisano</td>\n",
              "      <td>Simon Napier-Bell</td>\n",
              "    </tr>\n",
              "  </tbody>\n",
              "</table>\n",
              "<p>4760 rows × 5 columns</p>\n",
              "</div>\n",
              "    <div class=\"colab-df-buttons\">\n",
              "\n",
              "  <div class=\"colab-df-container\">\n",
              "    <button class=\"colab-df-convert\" onclick=\"convertToInteractive('df-438183c5-bd39-494c-8ec8-4d94b854bcf2')\"\n",
              "            title=\"Convert this dataframe to an interactive table.\"\n",
              "            style=\"display:none;\">\n",
              "\n",
              "  <svg xmlns=\"http://www.w3.org/2000/svg\" height=\"24px\" viewBox=\"0 -960 960 960\">\n",
              "    <path d=\"M120-120v-720h720v720H120Zm60-500h600v-160H180v160Zm220 220h160v-160H400v160Zm0 220h160v-160H400v160ZM180-400h160v-160H180v160Zm440 0h160v-160H620v160ZM180-180h160v-160H180v160Zm440 0h160v-160H620v160Z\"/>\n",
              "  </svg>\n",
              "    </button>\n",
              "\n",
              "  <style>\n",
              "    .colab-df-container {\n",
              "      display:flex;\n",
              "      gap: 12px;\n",
              "    }\n",
              "\n",
              "    .colab-df-convert {\n",
              "      background-color: #E8F0FE;\n",
              "      border: none;\n",
              "      border-radius: 50%;\n",
              "      cursor: pointer;\n",
              "      display: none;\n",
              "      fill: #1967D2;\n",
              "      height: 32px;\n",
              "      padding: 0 0 0 0;\n",
              "      width: 32px;\n",
              "    }\n",
              "\n",
              "    .colab-df-convert:hover {\n",
              "      background-color: #E2EBFA;\n",
              "      box-shadow: 0px 1px 2px rgba(60, 64, 67, 0.3), 0px 1px 3px 1px rgba(60, 64, 67, 0.15);\n",
              "      fill: #174EA6;\n",
              "    }\n",
              "\n",
              "    .colab-df-buttons div {\n",
              "      margin-bottom: 4px;\n",
              "    }\n",
              "\n",
              "    [theme=dark] .colab-df-convert {\n",
              "      background-color: #3B4455;\n",
              "      fill: #D2E3FC;\n",
              "    }\n",
              "\n",
              "    [theme=dark] .colab-df-convert:hover {\n",
              "      background-color: #434B5C;\n",
              "      box-shadow: 0px 1px 3px 1px rgba(0, 0, 0, 0.15);\n",
              "      filter: drop-shadow(0px 1px 2px rgba(0, 0, 0, 0.3));\n",
              "      fill: #FFFFFF;\n",
              "    }\n",
              "  </style>\n",
              "\n",
              "    <script>\n",
              "      const buttonEl =\n",
              "        document.querySelector('#df-438183c5-bd39-494c-8ec8-4d94b854bcf2 button.colab-df-convert');\n",
              "      buttonEl.style.display =\n",
              "        google.colab.kernel.accessAllowed ? 'block' : 'none';\n",
              "\n",
              "      async function convertToInteractive(key) {\n",
              "        const element = document.querySelector('#df-438183c5-bd39-494c-8ec8-4d94b854bcf2');\n",
              "        const dataTable =\n",
              "          await google.colab.kernel.invokeFunction('convertToInteractive',\n",
              "                                                    [key], {});\n",
              "        if (!dataTable) return;\n",
              "\n",
              "        const docLinkHtml = 'Like what you see? Visit the ' +\n",
              "          '<a target=\"_blank\" href=https://colab.research.google.com/notebooks/data_table.ipynb>data table notebook</a>'\n",
              "          + ' to learn more about interactive tables.';\n",
              "        element.innerHTML = '';\n",
              "        dataTable['output_type'] = 'display_data';\n",
              "        await google.colab.output.renderOutput(dataTable, element);\n",
              "        const docLink = document.createElement('div');\n",
              "        docLink.innerHTML = docLinkHtml;\n",
              "        element.appendChild(docLink);\n",
              "      }\n",
              "    </script>\n",
              "  </div>\n",
              "\n",
              "\n",
              "<div id=\"df-68c8b41e-47a9-491c-bed2-8afcb395b163\">\n",
              "  <button class=\"colab-df-quickchart\" onclick=\"quickchart('df-68c8b41e-47a9-491c-bed2-8afcb395b163')\"\n",
              "            title=\"Suggest charts\"\n",
              "            style=\"display:none;\">\n",
              "\n",
              "<svg xmlns=\"http://www.w3.org/2000/svg\" height=\"24px\"viewBox=\"0 0 24 24\"\n",
              "     width=\"24px\">\n",
              "    <g>\n",
              "        <path d=\"M19 3H5c-1.1 0-2 .9-2 2v14c0 1.1.9 2 2 2h14c1.1 0 2-.9 2-2V5c0-1.1-.9-2-2-2zM9 17H7v-7h2v7zm4 0h-2V7h2v10zm4 0h-2v-4h2v4z\"/>\n",
              "    </g>\n",
              "</svg>\n",
              "  </button>\n",
              "\n",
              "<style>\n",
              "  .colab-df-quickchart {\n",
              "      --bg-color: #E8F0FE;\n",
              "      --fill-color: #1967D2;\n",
              "      --hover-bg-color: #E2EBFA;\n",
              "      --hover-fill-color: #174EA6;\n",
              "      --disabled-fill-color: #AAA;\n",
              "      --disabled-bg-color: #DDD;\n",
              "  }\n",
              "\n",
              "  [theme=dark] .colab-df-quickchart {\n",
              "      --bg-color: #3B4455;\n",
              "      --fill-color: #D2E3FC;\n",
              "      --hover-bg-color: #434B5C;\n",
              "      --hover-fill-color: #FFFFFF;\n",
              "      --disabled-bg-color: #3B4455;\n",
              "      --disabled-fill-color: #666;\n",
              "  }\n",
              "\n",
              "  .colab-df-quickchart {\n",
              "    background-color: var(--bg-color);\n",
              "    border: none;\n",
              "    border-radius: 50%;\n",
              "    cursor: pointer;\n",
              "    display: none;\n",
              "    fill: var(--fill-color);\n",
              "    height: 32px;\n",
              "    padding: 0;\n",
              "    width: 32px;\n",
              "  }\n",
              "\n",
              "  .colab-df-quickchart:hover {\n",
              "    background-color: var(--hover-bg-color);\n",
              "    box-shadow: 0 1px 2px rgba(60, 64, 67, 0.3), 0 1px 3px 1px rgba(60, 64, 67, 0.15);\n",
              "    fill: var(--button-hover-fill-color);\n",
              "  }\n",
              "\n",
              "  .colab-df-quickchart-complete:disabled,\n",
              "  .colab-df-quickchart-complete:disabled:hover {\n",
              "    background-color: var(--disabled-bg-color);\n",
              "    fill: var(--disabled-fill-color);\n",
              "    box-shadow: none;\n",
              "  }\n",
              "\n",
              "  .colab-df-spinner {\n",
              "    border: 2px solid var(--fill-color);\n",
              "    border-color: transparent;\n",
              "    border-bottom-color: var(--fill-color);\n",
              "    animation:\n",
              "      spin 1s steps(1) infinite;\n",
              "  }\n",
              "\n",
              "  @keyframes spin {\n",
              "    0% {\n",
              "      border-color: transparent;\n",
              "      border-bottom-color: var(--fill-color);\n",
              "      border-left-color: var(--fill-color);\n",
              "    }\n",
              "    20% {\n",
              "      border-color: transparent;\n",
              "      border-left-color: var(--fill-color);\n",
              "      border-top-color: var(--fill-color);\n",
              "    }\n",
              "    30% {\n",
              "      border-color: transparent;\n",
              "      border-left-color: var(--fill-color);\n",
              "      border-top-color: var(--fill-color);\n",
              "      border-right-color: var(--fill-color);\n",
              "    }\n",
              "    40% {\n",
              "      border-color: transparent;\n",
              "      border-right-color: var(--fill-color);\n",
              "      border-top-color: var(--fill-color);\n",
              "    }\n",
              "    60% {\n",
              "      border-color: transparent;\n",
              "      border-right-color: var(--fill-color);\n",
              "    }\n",
              "    80% {\n",
              "      border-color: transparent;\n",
              "      border-right-color: var(--fill-color);\n",
              "      border-bottom-color: var(--fill-color);\n",
              "    }\n",
              "    90% {\n",
              "      border-color: transparent;\n",
              "      border-bottom-color: var(--fill-color);\n",
              "    }\n",
              "  }\n",
              "</style>\n",
              "\n",
              "  <script>\n",
              "    async function quickchart(key) {\n",
              "      const quickchartButtonEl =\n",
              "        document.querySelector('#' + key + ' button');\n",
              "      quickchartButtonEl.disabled = true;  // To prevent multiple clicks.\n",
              "      quickchartButtonEl.classList.add('colab-df-spinner');\n",
              "      try {\n",
              "        const charts = await google.colab.kernel.invokeFunction(\n",
              "            'suggestCharts', [key], {});\n",
              "      } catch (error) {\n",
              "        console.error('Error during call to suggestCharts:', error);\n",
              "      }\n",
              "      quickchartButtonEl.classList.remove('colab-df-spinner');\n",
              "      quickchartButtonEl.classList.add('colab-df-quickchart-complete');\n",
              "    }\n",
              "    (() => {\n",
              "      let quickchartButtonEl =\n",
              "        document.querySelector('#df-68c8b41e-47a9-491c-bed2-8afcb395b163 button');\n",
              "      quickchartButtonEl.style.display =\n",
              "        google.colab.kernel.accessAllowed ? 'block' : 'none';\n",
              "    })();\n",
              "  </script>\n",
              "</div>\n",
              "\n",
              "  <div id=\"id_3faf4f8f-3511-4250-977a-517c552e82a5\">\n",
              "    <style>\n",
              "      .colab-df-generate {\n",
              "        background-color: #E8F0FE;\n",
              "        border: none;\n",
              "        border-radius: 50%;\n",
              "        cursor: pointer;\n",
              "        display: none;\n",
              "        fill: #1967D2;\n",
              "        height: 32px;\n",
              "        padding: 0 0 0 0;\n",
              "        width: 32px;\n",
              "      }\n",
              "\n",
              "      .colab-df-generate:hover {\n",
              "        background-color: #E2EBFA;\n",
              "        box-shadow: 0px 1px 2px rgba(60, 64, 67, 0.3), 0px 1px 3px 1px rgba(60, 64, 67, 0.15);\n",
              "        fill: #174EA6;\n",
              "      }\n",
              "\n",
              "      [theme=dark] .colab-df-generate {\n",
              "        background-color: #3B4455;\n",
              "        fill: #D2E3FC;\n",
              "      }\n",
              "\n",
              "      [theme=dark] .colab-df-generate:hover {\n",
              "        background-color: #434B5C;\n",
              "        box-shadow: 0px 1px 3px 1px rgba(0, 0, 0, 0.15);\n",
              "        filter: drop-shadow(0px 1px 2px rgba(0, 0, 0, 0.3));\n",
              "        fill: #FFFFFF;\n",
              "      }\n",
              "    </style>\n",
              "    <button class=\"colab-df-generate\" onclick=\"generateWithVariable('df_features')\"\n",
              "            title=\"Generate code using this dataframe.\"\n",
              "            style=\"display:none;\">\n",
              "\n",
              "  <svg xmlns=\"http://www.w3.org/2000/svg\" height=\"24px\"viewBox=\"0 0 24 24\"\n",
              "       width=\"24px\">\n",
              "    <path d=\"M7,19H8.4L18.45,9,17,7.55,7,17.6ZM5,21V16.75L18.45,3.32a2,2,0,0,1,2.83,0l1.4,1.43a1.91,1.91,0,0,1,.58,1.4,1.91,1.91,0,0,1-.58,1.4L9.25,21ZM18.45,9,17,7.55Zm-12,3A5.31,5.31,0,0,0,4.9,8.1,5.31,5.31,0,0,0,1,6.5,5.31,5.31,0,0,0,4.9,4.9,5.31,5.31,0,0,0,6.5,1,5.31,5.31,0,0,0,8.1,4.9,5.31,5.31,0,0,0,12,6.5,5.46,5.46,0,0,0,6.5,12Z\"/>\n",
              "  </svg>\n",
              "    </button>\n",
              "    <script>\n",
              "      (() => {\n",
              "      const buttonEl =\n",
              "        document.querySelector('#id_3faf4f8f-3511-4250-977a-517c552e82a5 button.colab-df-generate');\n",
              "      buttonEl.style.display =\n",
              "        google.colab.kernel.accessAllowed ? 'block' : 'none';\n",
              "\n",
              "      buttonEl.onclick = () => {\n",
              "        google.colab.notebook.generateWithVariable('df_features');\n",
              "      }\n",
              "      })();\n",
              "    </script>\n",
              "  </div>\n",
              "\n",
              "    </div>\n",
              "  </div>\n"
            ],
            "application/vnd.google.colaboratory.intrinsic+json": {
              "type": "dataframe",
              "variable_name": "df_features",
              "summary": "{\n  \"name\": \"df_features\",\n  \"rows\": 4760,\n  \"fields\": [\n    {\n      \"column\": \"Movie_Genre\",\n      \"properties\": {\n        \"dtype\": \"category\",\n        \"num_unique_values\": 1164,\n        \"samples\": [\n          \"Family Animation Adventure\",\n          \"Adventure Science Fiction Action\",\n          \"Action Crime Drama Romance Thriller\"\n        ],\n        \"semantic_type\": \"\",\n        \"description\": \"\"\n      }\n    },\n    {\n      \"column\": \"Movie_Keywords\",\n      \"properties\": {\n        \"dtype\": \"string\",\n        \"num_unique_values\": 4203,\n        \"samples\": [\n          \"canada nazis sequel spin off ancient evil\",\n          \"sex professor wedding woman director columbia university\",\n          \"prophecy sea beach gold small town\"\n        ],\n        \"semantic_type\": \"\",\n        \"description\": \"\"\n      }\n    },\n    {\n      \"column\": \"Movie_Tagline\",\n      \"properties\": {\n        \"dtype\": \"string\",\n        \"num_unique_values\": 3928,\n        \"samples\": [\n          \"The messenger must be silenced.\",\n          \"It's not the house that's haunted.\",\n          \"The final hunt begins.\"\n        ],\n        \"semantic_type\": \"\",\n        \"description\": \"\"\n      }\n    },\n    {\n      \"column\": \"Movie_Cast\",\n      \"properties\": {\n        \"dtype\": \"string\",\n        \"num_unique_values\": 4715,\n        \"samples\": [\n          \"Robin Tunney Fairuza Balk Neve Campbell Rachel True Skeet Ulrich\",\n          \"Peter Sellers Christopher Plummer Herbert Lom Catherine Schell Peter Arne\",\n          \"John Wayne Laraine Day Cedric Hardwicke Judith Anderson Anthony Quinn\"\n        ],\n        \"semantic_type\": \"\",\n        \"description\": \"\"\n      }\n    },\n    {\n      \"column\": \"Movie_Director\",\n      \"properties\": {\n        \"dtype\": \"category\",\n        \"num_unique_values\": 2332,\n        \"samples\": [\n          \"Rob McKittrick\",\n          \"Terron R. Parsons\",\n          \"Cyrus Nowrasteh\"\n        ],\n        \"semantic_type\": \"\",\n        \"description\": \"\"\n      }\n    }\n  ]\n}"
            }
          },
          "metadata": {},
          "execution_count": 16
        }
      ]
    },
    {
      "cell_type": "code",
      "source": [
        "x = df_features['Movie_Genre'] + ' ' + df_features['Movie_Keywords'] + ' ' + df_features['Movie_Tagline'] + ' ' + df_features['Movie_Cast'] + ' ' + df_features['Movie_Director']"
      ],
      "metadata": {
        "id": "dpxLYKPhDvIR"
      },
      "execution_count": 23,
      "outputs": []
    },
    {
      "cell_type": "code",
      "source": [
        "x.shape"
      ],
      "metadata": {
        "colab": {
          "base_uri": "https://localhost:8080/"
        },
        "id": "zt-jMkNRGs_T",
        "outputId": "f6fcd0cf-a37c-423d-c715-01a58af4de73"
      },
      "execution_count": 24,
      "outputs": [
        {
          "output_type": "execute_result",
          "data": {
            "text/plain": [
              "(4760,)"
            ]
          },
          "metadata": {},
          "execution_count": 24
        }
      ]
    },
    {
      "cell_type": "code",
      "source": [
        "from sklearn.feature_extraction.text import TfidfVectorizer"
      ],
      "metadata": {
        "id": "SbdeePa4Hfs-"
      },
      "execution_count": 25,
      "outputs": []
    },
    {
      "cell_type": "code",
      "source": [
        "tfidf = TfidfVectorizer()"
      ],
      "metadata": {
        "id": "oLwZFuDyIIFO"
      },
      "execution_count": 26,
      "outputs": []
    },
    {
      "cell_type": "code",
      "source": [
        "x = tfidf.fit_transform(x)"
      ],
      "metadata": {
        "id": "D8edz3SeISCB"
      },
      "execution_count": 28,
      "outputs": []
    },
    {
      "cell_type": "code",
      "source": [
        "x.shape"
      ],
      "metadata": {
        "colab": {
          "base_uri": "https://localhost:8080/"
        },
        "id": "sFYlDxkzIrnH",
        "outputId": "c39e4b75-6c61-464d-cd68-1d2b99850ad8"
      },
      "execution_count": 29,
      "outputs": [
        {
          "output_type": "execute_result",
          "data": {
            "text/plain": [
              "(4760, 17258)"
            ]
          },
          "metadata": {},
          "execution_count": 29
        }
      ]
    },
    {
      "cell_type": "code",
      "source": [
        "print(x)"
      ],
      "metadata": {
        "colab": {
          "base_uri": "https://localhost:8080/"
        },
        "id": "Ki0XdZotIzXL",
        "outputId": "9817905e-18e1-4aad-9c48-9c6a299bf32b"
      },
      "execution_count": 30,
      "outputs": [
        {
          "output_type": "stream",
          "name": "stdout",
          "text": [
            "  (0, 617)\t0.1633382144407513\n",
            "  (0, 492)\t0.1432591540388685\n",
            "  (0, 15413)\t0.1465525095337543\n",
            "  (0, 9675)\t0.14226057295252661\n",
            "  (0, 9465)\t0.1659841367820977\n",
            "  (0, 1390)\t0.16898383612799558\n",
            "  (0, 7825)\t0.09799561597509843\n",
            "  (0, 1214)\t0.13865857545144072\n",
            "  (0, 729)\t0.13415063359531618\n",
            "  (0, 13093)\t0.1432591540388685\n",
            "  (0, 15355)\t0.10477815972666779\n",
            "  (0, 9048)\t0.0866842116160778\n",
            "  (0, 11161)\t0.06250380151644369\n",
            "  (0, 16773)\t0.17654247479915475\n",
            "  (0, 5612)\t0.08603537588547631\n",
            "  (0, 16735)\t0.10690083751525419\n",
            "  (0, 7904)\t0.13348000542112332\n",
            "  (0, 15219)\t0.09800472886453934\n",
            "  (0, 11242)\t0.07277788238484746\n",
            "  (0, 3878)\t0.11998399582562203\n",
            "  (0, 5499)\t0.11454057510303811\n",
            "  (0, 7071)\t0.19822417598406614\n",
            "  (0, 7454)\t0.14745635785412262\n",
            "  (0, 1495)\t0.19712637387361423\n",
            "  (0, 9206)\t0.15186283580984414\n",
            "  :\t:\n",
            "  (4757, 5455)\t0.12491480594769522\n",
            "  (4757, 2967)\t0.16273475835631626\n",
            "  (4757, 8464)\t0.23522565554066333\n",
            "  (4757, 6938)\t0.17088173678136628\n",
            "  (4757, 8379)\t0.17480603856721913\n",
            "  (4757, 15303)\t0.07654356007668191\n",
            "  (4757, 15384)\t0.09754322497537371\n",
            "  (4757, 7649)\t0.11479421494340192\n",
            "  (4757, 10896)\t0.14546473055066447\n",
            "  (4757, 4494)\t0.05675298448720501\n",
            "  (4758, 5238)\t1.0\n",
            "  (4759, 11264)\t0.33947721804318337\n",
            "  (4759, 11708)\t0.33947721804318337\n",
            "  (4759, 205)\t0.3237911628497312\n",
            "  (4759, 8902)\t0.3040290704566037\n",
            "  (4759, 14062)\t0.3237911628497312\n",
            "  (4759, 3058)\t0.2812896191863103\n",
            "  (4759, 7130)\t0.26419662449963793\n",
            "  (4759, 10761)\t0.3126617295732147\n",
            "  (4759, 4358)\t0.18306542312175342\n",
            "  (4759, 14051)\t0.20084315377640435\n",
            "  (4759, 5690)\t0.19534291014627303\n",
            "  (4759, 15431)\t0.19628653185946862\n",
            "  (4759, 1490)\t0.21197258705292082\n",
            "  (4759, 10666)\t0.15888268987343043\n"
          ]
        }
      ]
    },
    {
      "cell_type": "code",
      "source": [
        "from sklearn.metrics.pairwise import cosine_similarity"
      ],
      "metadata": {
        "id": "0t5WXR-iI5VD"
      },
      "execution_count": 32,
      "outputs": []
    },
    {
      "cell_type": "code",
      "source": [
        "Similarity_Score = cosine_similarity(x)"
      ],
      "metadata": {
        "id": "wI6GhDh4JRLh"
      },
      "execution_count": 33,
      "outputs": []
    },
    {
      "cell_type": "code",
      "source": [
        "Similarity_Score"
      ],
      "metadata": {
        "colab": {
          "base_uri": "https://localhost:8080/"
        },
        "id": "i1Q_0rMRJswX",
        "outputId": "7ac153f1-6378-460a-8c4d-687aaee475ed"
      },
      "execution_count": 34,
      "outputs": [
        {
          "output_type": "execute_result",
          "data": {
            "text/plain": [
              "array([[1.        , 0.01351235, 0.03570468, ..., 0.        , 0.        ,\n",
              "        0.        ],\n",
              "       [0.01351235, 1.        , 0.00806674, ..., 0.        , 0.        ,\n",
              "        0.        ],\n",
              "       [0.03570468, 0.00806674, 1.        , ..., 0.        , 0.08014876,\n",
              "        0.        ],\n",
              "       ...,\n",
              "       [0.        , 0.        , 0.        , ..., 1.        , 0.        ,\n",
              "        0.        ],\n",
              "       [0.        , 0.        , 0.08014876, ..., 0.        , 1.        ,\n",
              "        0.        ],\n",
              "       [0.        , 0.        , 0.        , ..., 0.        , 0.        ,\n",
              "        1.        ]])"
            ]
          },
          "metadata": {},
          "execution_count": 34
        }
      ]
    },
    {
      "cell_type": "code",
      "source": [
        "Similarity_Score.shape"
      ],
      "metadata": {
        "colab": {
          "base_uri": "https://localhost:8080/"
        },
        "id": "cFRjH7AcJ-O-",
        "outputId": "201e3fc7-a108-4a26-8186-e02b54fe648f"
      },
      "execution_count": 35,
      "outputs": [
        {
          "output_type": "execute_result",
          "data": {
            "text/plain": [
              "(4760, 4760)"
            ]
          },
          "metadata": {},
          "execution_count": 35
        }
      ]
    },
    {
      "cell_type": "code",
      "source": [
        "Favourite_Movie_Name = input('Enter your favourite movie name')"
      ],
      "metadata": {
        "colab": {
          "base_uri": "https://localhost:8080/"
        },
        "id": "vlQc_liTJ-Se",
        "outputId": "82a03db5-ad3f-467c-fa6b-721d02e43c3c"
      },
      "execution_count": 36,
      "outputs": [
        {
          "name": "stdout",
          "output_type": "stream",
          "text": [
            "Enter your favourite movie nameOrange\n"
          ]
        }
      ]
    },
    {
      "cell_type": "code",
      "source": [
        "All_Movies_Title_List = df['Movie_Title'].tolist()"
      ],
      "metadata": {
        "id": "fEMQ0sVbJyaj"
      },
      "execution_count": 37,
      "outputs": []
    },
    {
      "cell_type": "code",
      "source": [
        "import difflib"
      ],
      "metadata": {
        "id": "pvAd14SQK2w2"
      },
      "execution_count": 38,
      "outputs": []
    },
    {
      "cell_type": "code",
      "source": [
        "Movie_Recommendation = difflib.get_close_matches(Favourite_Movie_Name,All_Movies_Title_List)\n",
        "print(Movie_Recommendation)"
      ],
      "metadata": {
        "colab": {
          "base_uri": "https://localhost:8080/"
        },
        "id": "sBbQbfEzK8R8",
        "outputId": "3170e18b-e78d-44eb-8f0a-a3094fbaa58e"
      },
      "execution_count": 39,
      "outputs": [
        {
          "output_type": "stream",
          "name": "stdout",
          "text": [
            "['Triangle', 'Trance', 'Tiger Orange']\n"
          ]
        }
      ]
    },
    {
      "cell_type": "code",
      "source": [
        "Close_Match = Movie_Recommendation[0]\n",
        "print(Close_Match)"
      ],
      "metadata": {
        "colab": {
          "base_uri": "https://localhost:8080/"
        },
        "id": "EX_U7K8WLcBB",
        "outputId": "45cd3d7b-2660-4a12-c58a-fcd76d91af3c"
      },
      "execution_count": 40,
      "outputs": [
        {
          "output_type": "stream",
          "name": "stdout",
          "text": [
            "Triangle\n"
          ]
        }
      ]
    },
    {
      "cell_type": "code",
      "source": [
        "Index_of_Close_Match_Movie = df[df.Movie_Title == Close_Match]['Movie_ID'].values[0]\n",
        "print(Index_of_Close_Match_Movie)"
      ],
      "metadata": {
        "colab": {
          "base_uri": "https://localhost:8080/"
        },
        "id": "971xztdCL1PH",
        "outputId": "335641b6-38f8-42dd-ecd4-c23fe164f817"
      },
      "execution_count": 42,
      "outputs": [
        {
          "output_type": "stream",
          "name": "stdout",
          "text": [
            "2922\n"
          ]
        }
      ]
    },
    {
      "cell_type": "code",
      "source": [
        "Recommendation_Score=list(enumerate(Similarity_Score[Index_of_Close_Match_Movie]))\n",
        "print(Recommendation_Score)"
      ],
      "metadata": {
        "colab": {
          "base_uri": "https://localhost:8080/"
        },
        "id": "MuBJzwvXNImh",
        "outputId": "686778ea-ef9d-47c1-8d4c-7ed1f8418cac"
      },
      "execution_count": 43,
      "outputs": [
        {
          "output_type": "stream",
          "name": "stdout",
          "text": [
            "[(0, 0.0038803492122101114), (1, 0.04625600692330794), (2, 0.0), (3, 0.004746785096920403), (4, 0.0), (5, 0.0), (6, 0.00834643727394647), (7, 0.0), (8, 0.0), (9, 0.007178775598853238), (10, 0.00826693131447937), (11, 0.0), (12, 0.0), (13, 0.0), (14, 0.004940890624014275), (15, 0.0), (16, 0.0), (17, 0.008240450597529932), (18, 0.0), (19, 0.0), (20, 0.0), (21, 0.0), (22, 0.005361316989846353), (23, 0.0), (24, 0.0), (25, 0.004466497961650787), (26, 0.0), (27, 0.0), (28, 0.005482202427943811), (29, 0.0), (30, 0.0), (31, 0.0), (32, 0.006802816106752791), (33, 0.0), (34, 0.0), (35, 0.007158002619238285), (36, 0.007089048438484233), (37, 0.007081650489269193), (38, 0.015035908123082899), (39, 0.007789287789440106), (40, 0.014758889416032647), (41, 0.008631871087904763), (42, 0.00552300289761468), (43, 0.0), (44, 0.00645751728750508), (45, 0.0051245624824644564), (46, 0.0072101325414059905), (47, 0.0), (48, 0.008547544276983897), (49, 0.005233722906227568), (50, 0.038187848872769714), (51, 0.0), (52, 0.0), (53, 0.005116555755609248), (54, 0.007878047302999772), (55, 0.00810570781151785), (56, 0.007898176884622047), (57, 0.0), (58, 0.0), (59, 0.013555547204563556), (60, 0.004618917454043952), (61, 0.0), (62, 0.0), (63, 0.006173893363679471), (64, 0.0), (65, 0.0), (66, 0.0), (67, 0.007034393052897946), (68, 0.00822717058106451), (69, 0.008517697605352072), (70, 0.0), (71, 0.0), (72, 0.0), (73, 0.004674674318021505), (74, 0.035383460443952415), (75, 0.0), (76, 0.006329657228379628), (77, 0.0), (78, 0.006520794256531958), (79, 0.0), (80, 0.007107913489809654), (81, 0.0), (82, 0.029344229778451723), (83, 0.0), (84, 0.007595479364323987), (85, 0.0), (86, 0.004643650347120557), (87, 0.0), (88, 0.006398280896710413), (89, 0.0), (90, 0.007585779236011745), (91, 0.004780199077856885), (92, 0.006826854955485386), (93, 0.0074300011250533786), (94, 0.007123847699566739), (95, 0.007979773932175614), (96, 0.0), (97, 0.0), (98, 0.0), (99, 0.0), (100, 0.0), (101, 0.04812277461427044), (102, 0.008475112228489425), (103, 0.004676780552355599), (104, 0.0), (105, 0.0), (106, 0.0), (107, 0.0), (108, 0.0), (109, 0.0), (110, 0.005518460860936841), (111, 0.0), (112, 0.0), (113, 0.008880401279613375), (114, 0.1196261002824472), (115, 0.0055211512373616375), (116, 0.0), (117, 0.0), (118, 0.007959642313551528), (119, 0.007610758453554042), (120, 0.0), (121, 0.0), (122, 0.007146007247515677), (123, 0.008487242411333529), (124, 0.0), (125, 0.008880813278257307), (126, 0.0), (127, 0.0), (128, 0.008605879365490914), (129, 0.028660919415180727), (130, 0.00704250707726997), (131, 0.0), (132, 0.0), (133, 0.032833801930833795), (134, 0.005515858697760227), (135, 0.007750774964194227), (136, 0.0), (137, 0.0), (138, 0.0), (139, 0.014761845363657048), (140, 0.0), (141, 0.005930777908915905), (142, 0.0), (143, 0.008137712579287228), (144, 0.007372018563283192), (145, 0.0), (146, 0.005824323838350733), (147, 0.0), (148, 0.0070396052255933695), (149, 0.0), (150, 0.03256757353871324), (151, 0.042380920615325265), (152, 0.0075334230983897105), (153, 0.11658515580961887), (154, 0.0), (155, 0.0), (156, 0.004386357695991093), (157, 0.005142484739958434), (158, 0.0), (159, 0.00607136672003335), (160, 0.007110438516604719), (161, 0.004853395913941069), (162, 0.008520293568344054), (163, 0.0), (164, 0.0), (165, 0.006706013343443698), (166, 0.0), (167, 0.0), (168, 0.0), (169, 0.005305022123506359), (170, 0.007028701964843192), (171, 0.007363639539844287), (172, 0.0), (173, 0.0), (174, 0.005333398461495957), (175, 0.00455939917334681), (176, 0.0), (177, 0.0), (178, 0.0), (179, 0.0), (180, 0.008289627220726648), (181, 0.007705808855318019), (182, 0.0054426007416021535), (183, 0.0), (184, 0.0), (185, 0.03880286972069949), (186, 0.0), (187, 0.0), (188, 0.005364297224827343), (189, 0.008033155907331977), (190, 0.0), (191, 0.006921380760731605), (192, 0.0), (193, 0.0), (194, 0.0), (195, 0.004538491737548218), (196, 0.0), (197, 0.005098304925552527), (198, 0.0), (199, 0.0), (200, 0.0), (201, 0.008093586586477481), (202, 0.0035430326721715946), (203, 0.0), (204, 0.005641047533912442), (205, 0.0057175399757577565), (206, 0.0), (207, 0.0), (208, 0.008235793971225015), (209, 0.0), (210, 0.008360579290869816), (211, 0.011287748854049602), (212, 0.00505314417325902), (213, 0.0), (214, 0.004868954985373381), (215, 0.005304653274999434), (216, 0.0), (217, 0.047565923630937104), (218, 0.07854843025609554), (219, 0.0054937951698903), (220, 0.00820135279072823), (221, 0.0), (222, 0.0), (223, 0.007470031429438163), (224, 0.0), (225, 0.012419721186823251), (226, 0.0), (227, 0.0), (228, 0.0), (229, 0.0), (230, 0.007554582495094901), (231, 0.008134657113403134), (232, 0.00835225090874728), (233, 0.007656328808933377), (234, 0.006676438562139162), (235, 0.0), (236, 0.04135763165280958), (237, 0.0), (238, 0.005507154292186314), (239, 0.0), (240, 0.0), (241, 0.0), (242, 0.0), (243, 0.0), (244, 0.0075888647886514825), (245, 0.00553852680459867), (246, 0.011484553885653108), (247, 0.0), (248, 0.0), (249, 0.0), (250, 0.0), (251, 0.0), (252, 0.0), (253, 0.005903439153696802), (254, 0.0), (255, 0.0), (256, 0.0), (257, 0.0), (258, 0.04130700617780988), (259, 0.007713028783471989), (260, 0.00735786884943248), (261, 0.007484450383759564), (262, 0.0), (263, 0.012450800039984434), (264, 0.013175100060424029), (265, 0.0), (266, 0.005968830135190243), (267, 0.0), (268, 0.0), (269, 0.006656413923018479), (270, 0.0), (271, 0.005945147377519893), (272, 0.03325968114854783), (273, 0.0), (274, 0.0), (275, 0.0), (276, 0.04151495238722296), (277, 0.03133199297273859), (278, 0.004650430560846897), (279, 0.005054831027132104), (280, 0.0), (281, 0.0), (282, 0.0), (283, 0.0), (284, 0.007398118583898077), (285, 0.0), (286, 0.0), (287, 0.0), (288, 0.0065879275144466315), (289, 0.006226125335023798), (290, 0.006330204408661142), (291, 0.0), (292, 0.0075263946704357074), (293, 0.0), (294, 0.006176649935459501), (295, 0.00632630103146149), (296, 0.005814040745984075), (297, 0.0), (298, 0.0), (299, 0.0), (300, 0.0), (301, 0.0), (302, 0.0), (303, 0.008417904929779013), (304, 0.0), (305, 0.007749918112227213), (306, 0.007147374785554805), (307, 0.028457321637422553), (308, 0.0), (309, 0.0), (310, 0.007453212418660661), (311, 0.005068067141903148), (312, 0.005436906016356326), (313, 0.0), (314, 0.006502854991761392), (315, 0.007781305409023979), (316, 0.007189565333397292), (317, 0.0), (318, 0.005900798108297708), (319, 0.01078041821489387), (320, 0.008132553969774312), (321, 0.007529436611089278), (322, 0.007638857340790187), (323, 0.006939077382246772), (324, 0.0), (325, 0.005102390558862874), (326, 0.0), (327, 0.00695887460722879), (328, 0.007534142730832763), (329, 0.11069836424039547), (330, 0.0), (331, 0.010725588436669651), (332, 0.0058085178126390975), (333, 0.0069000982717877975), (334, 0.006980332357870744), (335, 0.0), (336, 0.0038724838288523443), (337, 0.0), (338, 0.0049262743936333816), (339, 0.005225206720783982), (340, 0.0), (341, 0.0), (342, 0.10149753685330326), (343, 0.0), (344, 0.011357893055035867), (345, 0.0052331848262088705), (346, 0.1187553274181631), (347, 0.0), (348, 0.0), (349, 0.0), (350, 0.014323495714485709), (351, 0.004119519420801603), (352, 0.0), (353, 0.007878666153665384), (354, 0.0), (355, 0.0), (356, 0.0), (357, 0.004659469990214285), (358, 0.0), (359, 0.0), (360, 0.0), (361, 0.005731705624756386), (362, 0.0059615583283100316), (363, 0.0059002139341216755), (364, 0.0), (365, 0.005996137794350342), (366, 0.004403360861312482), (367, 0.005172638689540992), (368, 0.006481286280859183), (369, 0.004132405744947054), (370, 0.0), (371, 0.0), (372, 0.0), (373, 0.0), (374, 0.0434406926084583), (375, 0.007666523078697959), (376, 0.0), (377, 0.005563378014361347), (378, 0.0), (379, 0.0071440404272328385), (380, 0.0), (381, 0.024779087658276154), (382, 0.007135040244021193), (383, 0.004812271805420608), (384, 0.0), (385, 0.005977331370371259), (386, 0.008077683324829575), (387, 0.0), (388, 0.0), (389, 0.08565541440852595), (390, 0.007466332549126679), (391, 0.0069154074267542345), (392, 0.005735604467911983), (393, 0.004781640763146144), (394, 0.006629530701881761), (395, 0.0), (396, 0.0), (397, 0.0070928143942023975), (398, 0.005437091943907147), (399, 0.0), (400, 0.0), (401, 0.00547251690074666), (402, 0.0), (403, 0.0), (404, 0.00523999167558632), (405, 0.05299031405695938), (406, 0.0), (407, 0.03532782249270548), (408, 0.0), (409, 0.004971156716478755), (410, 0.0), (411, 0.007120311344552095), (412, 0.0), (413, 0.011531544842593123), (414, 0.004054775656206231), (415, 0.005703175175842974), (416, 0.009895995182927473), (417, 0.012221140140919719), (418, 0.022122317811892035), (419, 0.04958884250390001), (420, 0.0), (421, 0.03174283598398824), (422, 0.005101685321377204), (423, 0.0), (424, 0.008808066258365702), (425, 0.008800424281245674), (426, 0.007255841900891835), (427, 0.005179149395073975), (428, 0.0), (429, 0.0), (430, 0.0), (431, 0.006367815757629633), (432, 0.0), (433, 0.0), (434, 0.0), (435, 0.006290297228724424), (436, 0.03722300238675121), (437, 0.0), (438, 0.0), (439, 0.0), (440, 0.006284756411798235), (441, 0.0), (442, 0.00643226504254092), (443, 0.0), (444, 0.0), (445, 0.0), (446, 0.0), (447, 0.0), (448, 0.0), (449, 0.0), (450, 0.0), (451, 0.007790955219599509), (452, 0.0058426641243177636), (453, 0.0), (454, 0.005011270836894438), (455, 0.0), (456, 0.011441486025294026), (457, 0.0), (458, 0.008655803725885786), (459, 0.005289870998366029), (460, 0.0), (461, 0.006394225105844455), (462, 0.0), (463, 0.0), (464, 0.0), (465, 0.0), (466, 0.0), (467, 0.007646952263287788), (468, 0.007259136505831407), (469, 0.006410858957283457), (470, 0.00818165523174645), (471, 0.005042395270103394), (472, 0.0), (473, 0.004885012150451898), (474, 0.005673569418481052), (475, 0.0), (476, 0.0), (477, 0.030388124254390577), (478, 0.0), (479, 0.0053931689405904825), (480, 0.0), (481, 0.0), (482, 0.0), (483, 0.0), (484, 0.010341406496582405), (485, 0.0), (486, 0.0), (487, 0.0), (488, 0.0), (489, 0.0), (490, 0.0), (491, 0.009068949483838656), (492, 0.007242658128354029), (493, 0.0), (494, 0.013217387628689674), (495, 0.006861168002917727), (496, 0.006622918156090086), (497, 0.011708266658806116), (498, 0.012543169321086687), (499, 0.0), (500, 0.007563970286502141), (501, 0.10943642870257463), (502, 0.0), (503, 0.005252490696991847), (504, 0.035953986053780515), (505, 0.0051294631373232724), (506, 0.004375678611211369), (507, 0.005070021418578669), (508, 0.006208554386028606), (509, 0.04515315621290023), (510, 0.004316064244280121), (511, 0.0), (512, 0.009220156270163198), (513, 0.008432803676246077), (514, 0.008412619462242657), (515, 0.01185954596703289), (516, 0.008086075615038425), (517, 0.008061571207315517), (518, 0.0), (519, 0.006849414793441551), (520, 0.004717850681086133), (521, 0.005198684668747531), (522, 0.0), (523, 0.0), (524, 0.0), (525, 0.005370636295575735), (526, 0.03815011429631125), (527, 0.0), (528, 0.013396750393957112), (529, 0.005432917729164652), (530, 0.0), (531, 0.012965822992946163), (532, 0.012217356823280758), (533, 0.008725177452330684), (534, 0.007661745618066627), (535, 0.005327756490661068), (536, 0.005746354328388185), (537, 0.00883020216914712), (538, 0.00445405276617294), (539, 0.0401470610535918), (540, 0.0071596113622324825), (541, 0.0), (542, 0.005439880033995439), (543, 0.03159791250227442), (544, 0.0), (545, 0.004743306170045579), (546, 0.005209708589088015), (547, 0.0), (548, 0.007274501867882037), (549, 0.0), (550, 0.10583398636897277), (551, 0.037018173783275286), (552, 0.0), (553, 0.0), (554, 0.007525012720673148), (555, 0.0063805854860050654), (556, 0.0), (557, 0.0), (558, 0.0), (559, 0.0), (560, 0.007780907332643254), (561, 0.005720371456499473), (562, 0.0), (563, 0.0), (564, 0.0), (565, 0.007245509344390659), (566, 0.0), (567, 0.04000797274862988), (568, 0.007194802126600858), (569, 0.007107901723509839), (570, 0.010595576339817246), (571, 0.0), (572, 0.00795255679385002), (573, 0.0), (574, 0.0), (575, 0.0), (576, 0.0), (577, 0.004835934408981615), (578, 0.1076991834452044), (579, 0.005473519481040963), (580, 0.0), (581, 0.0), (582, 0.0063611028181301335), (583, 0.009789966607644026), (584, 0.0), (585, 0.00519429967250779), (586, 0.005624563474079267), (587, 0.0), (588, 0.0), (589, 0.005004142205931296), (590, 0.0), (591, 0.00851917840780302), (592, 0.007878996152911646), (593, 0.0), (594, 0.004826205481394982), (595, 0.008531573117888757), (596, 0.0), (597, 0.0), (598, 0.0), (599, 0.008161153729539246), (600, 0.00816270076715851), (601, 0.00661773402505928), (602, 0.006333691173550997), (603, 0.008250991611388637), (604, 0.0), (605, 0.004751156628965933), (606, 0.0), (607, 0.0), (608, 0.0), (609, 0.004284187142596995), (610, 0.007712872531206124), (611, 0.0), (612, 0.0), (613, 0.007646322332305264), (614, 0.008900538120527981), (615, 0.008035810745571137), (616, 0.0), (617, 0.0), (618, 0.0), (619, 0.007721493631157339), (620, 0.0), (621, 0.006563474226947365), (622, 0.0), (623, 0.0), (624, 0.0), (625, 0.0), (626, 0.0), (627, 0.0), (628, 0.0), (629, 0.004662583929702615), (630, 0.0054557673147184104), (631, 0.007976120230852968), (632, 0.011891145299820712), (633, 0.0), (634, 0.0), (635, 0.008469408537575086), (636, 0.0), (637, 0.0), (638, 0.0), (639, 0.00655052789423148), (640, 0.0064941810882900635), (641, 0.0), (642, 0.0), (643, 0.0), (644, 0.007369242424647553), (645, 0.0), (646, 0.0), (647, 0.0), (648, 0.03339920032107173), (649, 0.0051173154933334105), (650, 0.0), (651, 0.007489437126817981), (652, 0.0), (653, 0.006749393162961735), (654, 0.008176099041365655), (655, 0.0), (656, 0.00814986337293925), (657, 0.0), (658, 0.0), (659, 0.005029630479489018), (660, 0.0), (661, 0.007277185544995795), (662, 0.005235216950184611), (663, 0.0), (664, 0.03203521951034633), (665, 0.010823195206756083), (666, 0.008729313130890376), (667, 0.005676839233190212), (668, 0.006137214216999234), (669, 0.007137724362785306), (670, 0.009560172692508482), (671, 0.005575485976687309), (672, 0.01864942655473501), (673, 0.008465404215277434), (674, 0.09498070126554888), (675, 0.0), (676, 0.0), (677, 0.0), (678, 0.03896041875567745), (679, 0.0062228510528525224), (680, 0.0), (681, 0.008782599582663737), (682, 0.008724581136776556), (683, 0.11394156465965025), (684, 0.005692306889687566), (685, 0.0), (686, 0.0), (687, 0.023203812596790805), (688, 0.00859346857240121), (689, 0.0), (690, 0.012241349223421143), (691, 0.02888420953090335), (692, 0.006704721643971734), (693, 0.0), (694, 0.0), (695, 0.0), (696, 0.0), (697, 0.005422116504487452), (698, 0.0), (699, 0.0), (700, 0.03328560061235688), (701, 0.0), (702, 0.005051777250763816), (703, 0.0047962893861051), (704, 0.0), (705, 0.0), (706, 0.0), (707, 0.004541565373738258), (708, 0.03989622549727344), (709, 0.004521422904264746), (710, 0.035923742280419065), (711, 0.045421540206479045), (712, 0.004770462072316923), (713, 0.0), (714, 0.04391516173562407), (715, 0.11137446680663086), (716, 0.008134744609411874), (717, 0.0), (718, 0.0), (719, 0.006232167211901071), (720, 0.005193129608068032), (721, 0.0), (722, 0.0), (723, 0.04384011163589816), (724, 0.0), (725, 0.006599098925587877), (726, 0.004514855809912792), (727, 0.007621543769479305), (728, 0.008366915352503945), (729, 0.008650427562952012), (730, 0.005559763684147081), (731, 0.08423490113446036), (732, 0.0), (733, 0.0), (734, 0.0), (735, 0.00737308704018998), (736, 0.0054357493828860485), (737, 0.012180223920788628), (738, 0.006390575378001011), (739, 0.0), (740, 0.0036222348380314643), (741, 0.015381190895274467), (742, 0.0), (743, 0.0), (744, 0.0), (745, 0.004992304543204749), (746, 0.0), (747, 0.0), (748, 0.0), (749, 0.007762110082233943), (750, 0.0), (751, 0.0065156951645136746), (752, 0.011300794593457746), (753, 0.008992452460915559), (754, 0.005784794926594623), (755, 0.005247428236623156), (756, 0.006811924270330954), (757, 0.004313075940616876), (758, 0.005441429729814751), (759, 0.0049161254781621665), (760, 0.006194250918690004), (761, 0.0), (762, 0.006723991712345604), (763, 0.0073235410564585), (764, 0.00788032565472623), (765, 0.09846955859558033), (766, 0.0), (767, 0.0), (768, 0.011016672978290815), (769, 0.0), (770, 0.004987222186812182), (771, 0.005817202657482752), (772, 0.005179999913944366), (773, 0.005223401259176148), (774, 0.0), (775, 0.0), (776, 0.009856425488889315), (777, 0.0), (778, 0.011113571188189732), (779, 0.006631131538145908), (780, 0.005137260067744008), (781, 0.005686430112932078), (782, 0.0), (783, 0.0), (784, 0.005598624086438462), (785, 0.005402744285186145), (786, 0.05117351250453568), (787, 0.0033027443968131347), (788, 0.004957666159196185), (789, 0.0), (790, 0.0), (791, 0.0), (792, 0.0), (793, 0.013664006352743705), (794, 0.0), (795, 0.0155507539946306), (796, 0.0), (797, 0.005635193355604412), (798, 0.03174922253587175), (799, 0.0), (800, 0.006972646664953024), (801, 0.0), (802, 0.0), (803, 0.00693338859660653), (804, 0.03426429786649072), (805, 0.0), (806, 0.0), (807, 0.008574173445638402), (808, 0.0), (809, 0.00796404234867851), (810, 0.0), (811, 0.0), (812, 0.0), (813, 0.0), (814, 0.005546633902004544), (815, 0.0), (816, 0.0), (817, 0.0), (818, 0.0), (819, 0.0), (820, 0.00476962643610685), (821, 0.012049659558560195), (822, 0.09385404596886004), (823, 0.0), (824, 0.0037600663246090374), (825, 0.007523688555388904), (826, 0.008273249088569431), (827, 0.007359273995303473), (828, 0.08801438422608626), (829, 0.0), (830, 0.0), (831, 0.0), (832, 0.0), (833, 0.02839302615554544), (834, 0.0), (835, 0.0), (836, 0.004760110571826971), (837, 0.004150665400347368), (838, 0.0), (839, 0.006100485089794042), (840, 0.005227645484654644), (841, 0.005928876609358648), (842, 0.025573128679379414), (843, 0.0), (844, 0.03270042489497238), (845, 0.008121329457200586), (846, 0.005528897785753114), (847, 0.006191833553092844), (848, 0.00782340219257935), (849, 0.013148312961499667), (850, 0.03386967632682782), (851, 0.01152600154451428), (852, 0.0), (853, 0.0), (854, 0.007403345111566772), (855, 0.0), (856, 0.013848834810733117), (857, 0.0), (858, 0.0), (859, 0.005103979172095643), (860, 0.0), (861, 0.0), (862, 0.004703974221560454), (863, 0.0), (864, 0.0), (865, 0.0), (866, 0.007211652347964015), (867, 0.005321495325028664), (868, 0.0072024874627583165), (869, 0.01348979026935878), (870, 0.03485367796145887), (871, 0.0), (872, 0.01408531621863052), (873, 0.0057820560171737406), (874, 0.0), (875, 0.008514162155376608), (876, 0.03462873197572371), (877, 0.0), (878, 0.007327008388726094), (879, 0.005633259169490625), (880, 0.0), (881, 0.0), (882, 0.0), (883, 0.005157919209722779), (884, 0.0056177214355314364), (885, 0.004843139179538193), (886, 0.00506210695638317), (887, 0.0), (888, 0.0), (889, 0.0), (890, 0.005631371544110205), (891, 0.00817145726620232), (892, 0.004677735102027021), (893, 0.0), (894, 0.0), (895, 0.0), (896, 0.0), (897, 0.0), (898, 0.004864125304643386), (899, 0.0), (900, 0.0), (901, 0.0), (902, 0.00795761242944933), (903, 0.0050613606224228875), (904, 0.015487763338197486), (905, 0.01521980897262961), (906, 0.0), (907, 0.004965481570700277), (908, 0.01344105116042279), (909, 0.0), (910, 0.0), (911, 0.007349278118009748), (912, 0.004748007643638827), (913, 0.008228568590752713), (914, 0.0), (915, 0.007464645847407068), (916, 0.005003202688179276), (917, 0.0), (918, 0.008027965896194554), (919, 0.007883365680966092), (920, 0.08394086656738518), (921, 0.0), (922, 0.0), (923, 0.005199881923693466), (924, 0.0), (925, 0.006208571423425888), (926, 0.004211395906172828), (927, 0.0), (928, 0.008095300111172746), (929, 0.0055959481744043615), (930, 0.0), (931, 0.005395816956205193), (932, 0.0), (933, 0.005514428303501724), (934, 0.0), (935, 0.0), (936, 0.0), (937, 0.0), (938, 0.09368016492323451), (939, 0.005092922039822808), (940, 0.0037789072446144083), (941, 0.005057210282727619), (942, 0.0), (943, 0.005412488609881302), (944, 0.0), (945, 0.013322271243423386), (946, 0.01309287785878922), (947, 0.010464256521520924), (948, 0.01656625729206494), (949, 0.0), (950, 0.0), (951, 0.004558230894166529), (952, 0.0), (953, 0.0), (954, 0.03404790054845054), (955, 0.006366457504603883), (956, 0.014415093704189827), (957, 0.004930424956699184), (958, 0.004935282321267839), (959, 0.0), (960, 0.0), (961, 0.005586566160352541), (962, 0.0), (963, 0.00725132164516901), (964, 0.03223639491565949), (965, 0.01312821989164038), (966, 0.0073244012503530095), (967, 0.03673152769774328), (968, 0.0), (969, 0.005511220803398262), (970, 0.004562012615556876), (971, 0.005557796039148961), (972, 0.004135856507547765), (973, 0.005319710612604435), (974, 0.007261958677711068), (975, 0.0), (976, 0.0), (977, 0.0), (978, 0.038050223521297596), (979, 0.03151879585095903), (980, 0.0), (981, 0.006983850784737872), (982, 0.005939722325923073), (983, 0.005303193147446978), (984, 0.0051360785725136394), (985, 0.006176679027725312), (986, 0.007751525179468641), (987, 0.0), (988, 0.0), (989, 0.0), (990, 0.014453200205069103), (991, 0.0), (992, 0.00829908013829759), (993, 0.0), (994, 0.007883438420945247), (995, 0.0052895917585280665), (996, 0.01856575656834851), (997, 0.006976785076561631), (998, 0.006121097435878726), (999, 0.006116087744244399), (1000, 0.006977354968565867), (1001, 0.0073934429516806415), (1002, 0.010289325518899228), (1003, 0.0), (1004, 0.0), (1005, 0.005929384091969479), (1006, 0.005641145674502126), (1007, 0.045789893924059806), (1008, 0.004626802949989545), (1009, 0.0), (1010, 0.011128058931710358), (1011, 0.008760843780529354), (1012, 0.007684790815431634), (1013, 0.0057053450796322475), (1014, 0.044136573283561284), (1015, 0.04118061710087563), (1016, 0.0), (1017, 0.007540084701238432), (1018, 0.0), (1019, 0.0), (1020, 0.03419676869271792), (1021, 0.005378396431192215), (1022, 0.00537484882719007), (1023, 0.008719902913894273), (1024, 0.11074472186239276), (1025, 0.004811705129384404), (1026, 0.0), (1027, 0.0), (1028, 0.09223868143404042), (1029, 0.005109614301200433), (1030, 0.0), (1031, 0.008247891663259217), (1032, 0.03142338445807609), (1033, 0.0), (1034, 0.0), (1035, 0.007536167340100618), (1036, 0.0), (1037, 0.0), (1038, 0.0049313914688117405), (1039, 0.0), (1040, 0.004217276250943207), (1041, 0.0), (1042, 0.0), (1043, 0.0), (1044, 0.007514803347995886), (1045, 0.007954502207300497), (1046, 0.006588884073474371), (1047, 0.005625704531342532), (1048, 0.0), (1049, 0.006402620121830041), (1050, 0.0), (1051, 0.0), (1052, 0.0), (1053, 0.0), (1054, 0.007325090439163838), (1055, 0.0), (1056, 0.008440197429898344), (1057, 0.00832378956918662), (1058, 0.0), (1059, 0.0), (1060, 0.0), (1061, 0.004861036252843513), (1062, 0.004514788968771117), (1063, 0.007495249673739685), (1064, 0.0), (1065, 0.007090271109438137), (1066, 0.007144632332356683), (1067, 0.0), (1068, 0.0), (1069, 0.0), (1070, 0.004614985736617612), (1071, 0.0), (1072, 0.0), (1073, 0.00513343787407251), (1074, 0.013197404948052698), (1075, 0.0), (1076, 0.007477727554790686), (1077, 0.0), (1078, 0.004496647978926113), (1079, 0.004965386539617909), (1080, 0.0), (1081, 0.0), (1082, 0.007618777648890949), (1083, 0.0), (1084, 0.0052908498780016855), (1085, 0.04184237637854766), (1086, 0.0), (1087, 0.0), (1088, 0.004615745088170114), (1089, 0.005936427916566631), (1090, 0.0), (1091, 0.00849266507366507), (1092, 0.006465857256117124), (1093, 0.004880248436952629), (1094, 0.005284187898917781), (1095, 0.0), (1096, 0.007546931349708615), (1097, 0.0), (1098, 0.0), (1099, 0.013951341708604357), (1100, 0.005310182171574452), (1101, 0.0), (1102, 0.040718551336787576), (1103, 0.0058184446783680665), (1104, 0.0), (1105, 0.03924333886887), (1106, 0.0102019477900058), (1107, 0.0), (1108, 0.013424580940850282), (1109, 0.011974608771578353), (1110, 0.0), (1111, 0.00792721943052716), (1112, 0.005377954976606224), (1113, 0.012701258942605886), (1114, 0.07924612479723717), (1115, 0.010571904506339639), (1116, 0.0), (1117, 0.005187098878953209), (1118, 0.0), (1119, 0.0), (1120, 0.0), (1121, 0.0), (1122, 0.007897778780068285), (1123, 0.0), (1124, 0.005597963208157166), (1125, 0.005188683534679539), (1126, 0.03528978152189937), (1127, 0.0076352383261782085), (1128, 0.0), (1129, 0.007760375519663856), (1130, 0.005290975291305973), (1131, 0.0), (1132, 0.0), (1133, 0.005387933676351386), (1134, 0.006992506586235525), (1135, 0.0071986749226084406), (1136, 0.0), (1137, 0.006369110267732668), (1138, 0.00784719940035446), (1139, 0.03361452181301791), (1140, 0.0), (1141, 0.10239643479076763), (1142, 0.005656677630223039), (1143, 0.0), (1144, 0.0), (1145, 0.0), (1146, 0.0), (1147, 0.0), (1148, 0.0), (1149, 0.004977707181883141), (1150, 0.10334653002470909), (1151, 0.007778530232544841), (1152, 0.005005920516198729), (1153, 0.009224881409209441), (1154, 0.006914444286738002), (1155, 0.005600185287683741), (1156, 0.004432577778986396), (1157, 0.004954255757227599), (1158, 0.0622295449608318), (1159, 0.0), (1160, 0.0), (1161, 0.0), (1162, 0.008463276971626155), (1163, 0.0), (1164, 0.006307772442835689), (1165, 0.005593125771595792), (1166, 0.0055040129275341874), (1167, 0.0), (1168, 0.0), (1169, 0.006319418298530695), (1170, 0.005405611362279643), (1171, 0.0), (1172, 0.007766874382896699), (1173, 0.011906603677427012), (1174, 0.007930441005479008), (1175, 0.0), (1176, 0.0), (1177, 0.0), (1178, 0.0045868927864707665), (1179, 0.04339575026131919), (1180, 0.01005884285752405), (1181, 0.0), (1182, 0.0), (1183, 0.007200456432835003), (1184, 0.0), (1185, 0.008172839817996403), (1186, 0.0), (1187, 0.006343949164787438), (1188, 0.0), (1189, 0.0), (1190, 0.005133540745329055), (1191, 0.0), (1192, 0.0), (1193, 0.0405203536843812), (1194, 0.004717593192239739), (1195, 0.0), (1196, 0.005364299206997061), (1197, 0.0), (1198, 0.03827732149470026), (1199, 0.00476318089071444), (1200, 0.004907848284112469), (1201, 0.012230251868640333), (1202, 0.0), (1203, 0.005069716993891147), (1204, 0.005478371810960967), (1205, 0.00574520811632776), (1206, 0.0), (1207, 0.007411039303148815), (1208, 0.006883932851512349), (1209, 0.0), (1210, 0.0056408965947145635), (1211, 0.005116362065871018), (1212, 0.011350394416031065), (1213, 0.004743167705099535), (1214, 0.011032382931147037), (1215, 0.0), (1216, 0.004896302004448777), (1217, 0.004687683584671555), (1218, 0.0), (1219, 0.0), (1220, 0.0), (1221, 0.0), (1222, 0.004526463186084299), (1223, 0.0), (1224, 0.005636416158907889), (1225, 0.008183662411872251), (1226, 0.007679344416988457), (1227, 0.005394065791972328), (1228, 0.03255634333606844), (1229, 0.008098734469715093), (1230, 0.0074458789622759095), (1231, 0.005174124981397839), (1232, 0.005441196971322997), (1233, 0.0), (1234, 0.04346267250900426), (1235, 0.005244040995067301), (1236, 0.0), (1237, 0.0), (1238, 0.005362736703333791), (1239, 0.0), (1240, 0.008597380823497964), (1241, 0.006377222468306148), (1242, 0.045218172264229015), (1243, 0.005889412534487426), (1244, 0.013571192532006646), (1245, 0.0), (1246, 0.00583313765267675), (1247, 0.0), (1248, 0.0), (1249, 0.004681202416846575), (1250, 0.0), (1251, 0.004778031485228535), (1252, 0.007685791797185581), (1253, 0.007649187717675041), (1254, 0.007950488114257857), (1255, 0.0), (1256, 0.005098162920093024), (1257, 0.007644255700656305), (1258, 0.009384446862848228), (1259, 0.007090319189262054), (1260, 0.00602315308006957), (1261, 0.005227836067880083), (1262, 0.007736769493352422), (1263, 0.007649887634487664), (1264, 0.0), (1265, 0.008431183555471178), (1266, 0.0079142862854191), (1267, 0.037381469813020714), (1268, 0.004322703261553251), (1269, 0.007744936779309761), (1270, 0.0), (1271, 0.0), (1272, 0.0), (1273, 0.007382902524077448), (1274, 0.007367122607782681), (1275, 0.0), (1276, 0.0057861232049845595), (1277, 0.004037806861628169), (1278, 0.0040250683941125825), (1279, 0.05108620073069855), (1280, 0.008260485410744483), (1281, 0.0070804176245321425), (1282, 0.005772541208011462), (1283, 0.006822008877450798), (1284, 0.005256194409661552), (1285, 0.007426893899514064), (1286, 0.005293441775445216), (1287, 0.0), (1288, 0.004912842722756184), (1289, 0.004436109552794165), (1290, 0.006872557123745396), (1291, 0.03581920539779045), (1292, 0.01293823982332433), (1293, 0.012646143375176392), (1294, 0.0), (1295, 0.0), (1296, 0.006375856129972708), (1297, 0.010808133234037254), (1298, 0.005369630706850422), (1299, 0.005668144902552033), (1300, 0.004565712458752151), (1301, 0.08371001409975361), (1302, 0.013344342985649104), (1303, 0.0), (1304, 0.00540133887557223), (1305, 0.0), (1306, 0.0), (1307, 0.0), (1308, 0.004953869522009132), (1309, 0.015881653297375946), (1310, 0.01187485232748473), (1311, 0.10257921058364171), (1312, 0.0045566633529258655), (1313, 0.005320747846672097), (1314, 0.007631134860128039), (1315, 0.007545567814513948), (1316, 0.0), (1317, 0.0043748518354172206), (1318, 0.0048155342104907375), (1319, 0.03497062561944747), (1320, 0.010328260115263135), (1321, 0.015142314323851457), (1322, 0.005496581230878816), (1323, 0.004639239310993558), (1324, 0.008274910234196808), (1325, 0.0), (1326, 0.010740484321829242), (1327, 0.0051345675667517805), (1328, 0.008180519828150126), (1329, 0.010656694297474522), (1330, 0.005300468550783466), (1331, 0.004949106063460536), (1332, 0.00864311679062084), (1333, 0.005758026799475014), (1334, 0.09039735165120676), (1335, 0.007834688782878237), (1336, 0.00566951733564434), (1337, 0.01342678960577785), (1338, 0.007629804257864909), (1339, 0.0), (1340, 0.0045855275453810795), (1341, 0.010798531023120988), (1342, 0.0), (1343, 0.0), (1344, 0.00436618524886745), (1345, 0.00538757497011735), (1346, 0.007801764420770804), (1347, 0.0), (1348, 0.011460378600522333), (1349, 0.0), (1350, 0.007556430208030871), (1351, 0.0), (1352, 0.006589469561726938), (1353, 0.005020492907450828), (1354, 0.007156170984825206), (1355, 0.0), (1356, 0.0), (1357, 0.007148853103061582), (1358, 0.007645407402933062), (1359, 0.011604174119391198), (1360, 0.03027934264495737), (1361, 0.0054848314977976355), (1362, 0.004012525472441761), (1363, 0.0051243949141079655), (1364, 0.005606656905972696), (1365, 0.0), (1366, 0.006997557448728579), (1367, 0.004509113022237416), (1368, 0.012694385744066318), (1369, 0.006349239630176615), (1370, 0.004655738750045252), (1371, 0.005997963337480427), (1372, 0.005065101336764777), (1373, 0.0052310706292666214), (1374, 0.007763054205634625), (1375, 0.0), (1376, 0.0051271659645040915), (1377, 0.006257694868094109), (1378, 0.0), (1379, 0.011403883361410929), (1380, 0.008181259285053871), (1381, 0.008902122587022016), (1382, 0.09646651886480641), (1383, 0.09940358258151144), (1384, 0.006904213773523978), (1385, 0.007767202995113332), (1386, 0.007886675879178693), (1387, 0.0070029764298174604), (1388, 0.035893620644439156), (1389, 0.005685885188711851), (1390, 0.00580917389732055), (1391, 0.0), (1392, 0.009601463573390779), (1393, 0.008145395645302339), (1394, 0.004783880681004964), (1395, 0.0), (1396, 0.008112572208099491), (1397, 0.0046693361311241546), (1398, 0.00898015258721643), (1399, 0.07717335128651293), (1400, 0.0), (1401, 0.005701653718540384), (1402, 0.0), (1403, 0.004148547337668582), (1404, 0.0), (1405, 0.004747004716935033), (1406, 0.007581649740637792), (1407, 0.0), (1408, 0.005258775532499544), (1409, 0.041369155112337824), (1410, 0.005457249473404804), (1411, 0.005335656600861227), (1412, 0.007383666482262694), (1413, 0.00787287298015776), (1414, 0.0), (1415, 0.0), (1416, 0.0), (1417, 0.006055423034376148), (1418, 0.005962859665311472), (1419, 0.007766690291417667), (1420, 0.005377565766761772), (1421, 0.0), (1422, 0.04290768654463656), (1423, 0.0), (1424, 0.006164528806395931), (1425, 0.005492907959781774), (1426, 0.0), (1427, 0.004426216271922438), (1428, 0.0), (1429, 0.0), (1430, 0.0), (1431, 0.0), (1432, 0.013704993465882796), (1433, 0.0), (1434, 0.0), (1435, 0.0), (1436, 0.008207916451415767), (1437, 0.014908657667798399), (1438, 0.0), (1439, 0.0), (1440, 0.007877203713380439), (1441, 0.005820804183107972), (1442, 0.007679977876931948), (1443, 0.00800355087905763), (1444, 0.00537292343728797), (1445, 0.005641622628762948), (1446, 0.005174377317422064), (1447, 0.005325799456505396), (1448, 0.10544112022517269), (1449, 0.0), (1450, 0.0), (1451, 0.0), (1452, 0.035165588834394246), (1453, 0.004344475583569119), (1454, 0.00852054342773912), (1455, 0.007748020317846879), (1456, 0.0), (1457, 0.005028463642987258), (1458, 0.006565697855629211), (1459, 0.007635828138687327), (1460, 0.00858790515464267), (1461, 0.0054599611335077874), (1462, 0.0), (1463, 0.0), (1464, 0.0), (1465, 0.004681296162443243), (1466, 0.009043366086705388), (1467, 0.006102724315693886), (1468, 0.011662197943403807), (1469, 0.013620674916113955), (1470, 0.008029555610725748), (1471, 0.005752618909428161), (1472, 0.0), (1473, 0.005469112867993655), (1474, 0.0), (1475, 0.0), (1476, 0.005470464782883178), (1477, 0.035666860939078726), (1478, 0.007428503255121684), (1479, 0.005922153029117704), (1480, 0.0), (1481, 0.0), (1482, 0.004719654830637981), (1483, 0.007697277405614899), (1484, 0.00820582395397826), (1485, 0.004871529081885984), (1486, 0.10924182038376959), (1487, 0.005119390362695675), (1488, 0.09708024829178535), (1489, 0.043451173360906294), (1490, 0.005159036295903925), (1491, 0.09964452753773462), (1492, 0.004672714423819115), (1493, 0.0), (1494, 0.005562561400731147), (1495, 0.005493391594899247), (1496, 0.005073915870546112), (1497, 0.0), (1498, 0.0), (1499, 0.0), (1500, 0.0), (1501, 0.035692766780207906), (1502, 0.008191970954536236), (1503, 0.0), (1504, 0.00768314976245412), (1505, 0.005415174427087006), (1506, 0.0036976786069587166), (1507, 0.006183296010922096), (1508, 0.01063507554263649), (1509, 0.0), (1510, 0.052280841229457226), (1511, 0.008423681123597435), (1512, 0.007807977239690949), (1513, 0.013705674293660396), (1514, 0.0), (1515, 0.00780799340330324), (1516, 0.013549886513973783), (1517, 0.005375805726152823), (1518, 0.005815317153970183), (1519, 0.0), (1520, 0.09815612143060623), (1521, 0.0308656935122777), (1522, 0.00783354537714946), (1523, 0.004612975810293927), (1524, 0.004945194873376517), (1525, 0.005536157926500616), (1526, 0.005159844134473262), (1527, 0.0075919962444364365), (1528, 0.004904309775561657), (1529, 0.0), (1530, 0.006352910338578804), (1531, 0.03205544904801262), (1532, 0.005125390261699459), (1533, 0.005477202945279462), (1534, 0.0), (1535, 0.006523091901563509), (1536, 0.03961512220651694), (1537, 0.014086281678259746), (1538, 0.07993034136929002), (1539, 0.009629419076328973), (1540, 0.009062020855163319), (1541, 0.0), (1542, 0.005590417719946566), (1543, 0.004974679137139909), (1544, 0.012629969535749977), (1545, 0.012616703359197533), (1546, 0.006673557942514997), (1547, 0.009035031023359008), (1548, 0.009819433849292517), (1549, 0.005326204688988071), (1550, 0.0), (1551, 0.0), (1552, 0.012579401058378733), (1553, 0.0), (1554, 0.00854096874859827), (1555, 0.0), (1556, 0.0), (1557, 0.0055483570619228395), (1558, 0.0), (1559, 0.0), (1560, 0.014826325313773508), (1561, 0.005189982053631842), (1562, 0.0), (1563, 0.011732461217400403), (1564, 0.013474963017514802), (1565, 0.0), (1566, 0.007763675464923412), (1567, 0.011918262172509134), (1568, 0.030360496203993385), (1569, 0.004848076213871309), (1570, 0.008158292902194364), (1571, 0.03197024690213875), (1572, 0.013999623544993792), (1573, 0.0), (1574, 0.08886328364112679), (1575, 0.0), (1576, 0.006213512230260645), (1577, 0.013271847389272722), (1578, 0.005686932618025935), (1579, 0.007291758668351342), (1580, 0.0), (1581, 0.0), (1582, 0.005183787805368467), (1583, 0.005915573359084906), (1584, 0.0), (1585, 0.011050751794904301), (1586, 0.004313782473822733), (1587, 0.013392692978587693), (1588, 0.0), (1589, 0.005289193100266216), (1590, 0.02900694880243485), (1591, 0.008984274770575729), (1592, 0.017997083225068385), (1593, 0.0), (1594, 0.006045456996643047), (1595, 0.0), (1596, 0.005735623787941952), (1597, 0.005201325929782489), (1598, 0.005330132178693587), (1599, 0.013321173076949591), (1600, 0.0), (1601, 0.004792788103133048), (1602, 0.00560221073843731), (1603, 0.008140845083996215), (1604, 0.007691313493163123), (1605, 0.0), (1606, 0.0), (1607, 0.08378635456095306), (1608, 0.0), (1609, 0.00576200674696734), (1610, 0.0049992064751475255), (1611, 0.013296367636762684), (1612, 0.0), (1613, 0.005616369307070103), (1614, 0.005776331292988668), (1615, 0.006394223763747778), (1616, 0.004745069513516491), (1617, 0.0), (1618, 0.005228310483414928), (1619, 0.0), (1620, 0.0), (1621, 0.0), (1622, 0.0), (1623, 0.0), (1624, 0.0), (1625, 0.0), (1626, 0.004892544401388861), (1627, 0.006631126605062675), (1628, 0.0), (1629, 0.0), (1630, 0.0), (1631, 0.0), (1632, 0.0), (1633, 0.0), (1634, 0.010703203958268109), (1635, 0.0), (1636, 0.0), (1637, 0.00579188297728736), (1638, 0.03851919273770641), (1639, 0.03025451344016368), (1640, 0.005831862059666328), (1641, 0.0), (1642, 0.004997353730428208), (1643, 0.0), (1644, 0.005393440796995449), (1645, 0.00749415394780702), (1646, 0.004344517580847421), (1647, 0.0), (1648, 0.0), (1649, 0.007229650720016628), (1650, 0.0), (1651, 0.04160920856169711), (1652, 0.004789413888699674), (1653, 0.007564823391026161), (1654, 0.005154057957334464), (1655, 0.0), (1656, 0.0061905272726731795), (1657, 0.007006184298716842), (1658, 0.0059780242307129715), (1659, 0.008268537513833458), (1660, 0.005641614647959561), (1661, 0.0), (1662, 0.0), (1663, 0.005086764167443256), (1664, 0.0), (1665, 0.007263365308935012), (1666, 0.0), (1667, 0.0), (1668, 0.0051988117638724525), (1669, 0.0), (1670, 0.0), (1671, 0.0), (1672, 0.0), (1673, 0.005026750383415912), (1674, 0.0), (1675, 0.007067010837672748), (1676, 0.004311283399363999), (1677, 0.0042480306984741065), (1678, 0.007713125994020737), (1679, 0.0058504433185100875), (1680, 0.03459856969953612), (1681, 0.008516696011903368), (1682, 0.0), (1683, 0.005778003370903492), (1684, 0.004729761786723277), (1685, 0.0), (1686, 0.0), (1687, 0.008224968377087985), (1688, 0.00550597412775258), (1689, 0.005665051714828491), (1690, 0.00972960466379563), (1691, 0.0), (1692, 0.007675415017201774), (1693, 0.005069712716479592), (1694, 0.004794055549893638), (1695, 0.004370390484973677), (1696, 0.0076069421187127005), (1697, 0.005557929121109918), (1698, 0.004663961636584395), (1699, 0.0), (1700, 0.005145936327416769), (1701, 0.0), (1702, 0.005612072441721653), (1703, 0.0), (1704, 0.0), (1705, 0.008306943807448725), (1706, 0.0), (1707, 0.0), (1708, 0.04406511502146276), (1709, 0.019606510113204658), (1710, 0.0), (1711, 0.0), (1712, 0.0), (1713, 0.049283922817286094), (1714, 0.012029130442627652), (1715, 0.009671851546125954), (1716, 0.0), (1717, 0.0), (1718, 0.03746007361272352), (1719, 0.004873061080949516), (1720, 0.0), (1721, 0.012311620651758308), (1722, 0.00545258631710401), (1723, 0.0), (1724, 0.0), (1725, 0.0), (1726, 0.09590393827982163), (1727, 0.013679671904796385), (1728, 0.005992520428806214), (1729, 0.004917887370898922), (1730, 0.0), (1731, 0.005788937286111587), (1732, 0.014062072845537305), (1733, 0.005920381302980278), (1734, 0.013786069556405933), (1735, 0.013568361718747854), (1736, 0.00812095574303819), (1737, 0.005759720834487871), (1738, 0.0051259303732113), (1739, 0.0), (1740, 0.007913382632860491), (1741, 0.005443231995330439), (1742, 0.0), (1743, 0.0), (1744, 0.0051510585906268365), (1745, 0.006639770480481187), (1746, 0.005039323450715986), (1747, 0.0), (1748, 0.03895189012116625), (1749, 0.007275819171408763), (1750, 0.004825528813842781), (1751, 0.013311619905899455), (1752, 0.004464259756855), (1753, 0.0), (1754, 0.0), (1755, 0.0), (1756, 0.0), (1757, 0.005319118174907009), (1758, 0.04471532304435687), (1759, 0.010203621511573032), (1760, 0.0), (1761, 0.0), (1762, 0.0), (1763, 0.0), (1764, 0.006724246457417436), (1765, 0.0855322636026505), (1766, 0.042671651000692076), (1767, 0.005186933530824074), (1768, 0.0), (1769, 0.005456443842655074), (1770, 0.008341321978553435), (1771, 0.005264214410438356), (1772, 0.006731631972480285), (1773, 0.0), (1774, 0.0), (1775, 0.0), (1776, 0.0), (1777, 0.005547249854626508), (1778, 0.00502933032270898), (1779, 0.0), (1780, 0.0), (1781, 0.011194813414744167), (1782, 0.0805398047929173), (1783, 0.005080510537211852), (1784, 0.004903040134468381), (1785, 0.005109292923165483), (1786, 0.005938589462305467), (1787, 0.005114091132457985), (1788, 0.04090067687459074), (1789, 0.007163331488587089), (1790, 0.00643675820823099), (1791, 0.022265412076718446), (1792, 0.006345404478674037), (1793, 0.0), (1794, 0.00494075497895045), (1795, 0.0), (1796, 0.007077949878623218), (1797, 0.011534673049827013), (1798, 0.008327899038961055), (1799, 0.008496292591877473), (1800, 0.0), (1801, 0.0), (1802, 0.006607275319465939), (1803, 0.011793603407730852), (1804, 0.0054159332808088895), (1805, 0.0), (1806, 0.10761327912981558), (1807, 0.02975832151527015), (1808, 0.0), (1809, 0.007010779280128672), (1810, 0.0), (1811, 0.0), (1812, 0.008286822504775682), (1813, 0.0), (1814, 0.0), (1815, 0.008979929601200214), (1816, 0.009734627493760141), (1817, 0.0), (1818, 0.012467881280725642), (1819, 0.0), (1820, 0.0), (1821, 0.0056661058490125845), (1822, 0.05151570464009511), (1823, 0.00717737945808684), (1824, 0.0050754835669430875), (1825, 0.0), (1826, 0.0), (1827, 0.004882709940507414), (1828, 0.0066936089039353885), (1829, 0.0), (1830, 0.004784340747691769), (1831, 0.0), (1832, 0.03640392440514319), (1833, 0.004623564757595484), (1834, 0.005352933996658055), (1835, 0.0), (1836, 0.005995155367109796), (1837, 0.0053465487595423895), (1838, 0.0), (1839, 0.005156402609023045), (1840, 0.0), (1841, 0.008068335499450895), (1842, 0.037834826183834845), (1843, 0.0), (1844, 0.005928097660224421), (1845, 0.0), (1846, 0.007556945895690557), (1847, 0.013584156102860595), (1848, 0.005812558787238755), (1849, 0.005315593600995524), (1850, 0.0046572607313450235), (1851, 0.005621383045866627), (1852, 0.0), (1853, 0.10683211189847232), (1854, 0.0), (1855, 0.03342722708671991), (1856, 0.005742247447837943), (1857, 0.0), (1858, 0.0), (1859, 0.0), (1860, 0.0), (1861, 0.008185613105825357), (1862, 0.0), (1863, 0.0), (1864, 0.0), (1865, 0.0), (1866, 0.0), (1867, 0.005332547776220541), (1868, 0.01011382458135436), (1869, 0.0), (1870, 0.011759446636521722), (1871, 0.004297582546978507), (1872, 0.0), (1873, 0.0), (1874, 0.0), (1875, 0.0), (1876, 0.007802010825891278), (1877, 0.005152471949829153), (1878, 0.0051268207938720625), (1879, 0.005462605438725164), (1880, 0.005264442361177322), (1881, 0.013761404924644182), (1882, 0.0), (1883, 0.004451624355574954), (1884, 0.0), (1885, 0.0), (1886, 0.006165786668636608), (1887, 0.06876137589447123), (1888, 0.010608281522042417), (1889, 0.005481868669483969), (1890, 0.0), (1891, 0.0), (1892, 0.0), (1893, 0.011390097253554504), (1894, 0.008406258686303729), (1895, 0.10016362102601835), (1896, 0.0), (1897, 0.03289429543285393), (1898, 0.012302541364918377), (1899, 0.005033699208903538), (1900, 0.005198493369771443), (1901, 0.007950306765532012), (1902, 0.0375643531810197), (1903, 0.005051002308367551), (1904, 0.04028812876685838), (1905, 0.005886749520861171), (1906, 0.005417862541920412), (1907, 0.0058120696605268194), (1908, 0.0), (1909, 0.0), (1910, 0.0), (1911, 0.00560727040902581), (1912, 0.00516957949713046), (1913, 0.005328504841596554), (1914, 0.0050746179765917485), (1915, 0.005135018521183678), (1916, 0.0), (1917, 0.0055426530809021875), (1918, 0.0), (1919, 0.003773955165013729), (1920, 0.0), (1921, 0.0), (1922, 0.0), (1923, 0.005996704442256246), (1924, 0.0), (1925, 0.0), (1926, 0.005737529801784363), (1927, 0.0351148531455582), (1928, 0.0061043909514353735), (1929, 0.005147507586525711), (1930, 0.0), (1931, 0.007925917535114898), (1932, 0.0), (1933, 0.0), (1934, 0.006926624352718908), (1935, 0.009802362719726388), (1936, 0.007928443602141283), (1937, 0.0076198140207892635), (1938, 0.029796565620702715), (1939, 0.017460833038520595), (1940, 0.0), (1941, 0.015747327014875304), (1942, 0.0), (1943, 0.004699792921398669), (1944, 0.004484591715018883), (1945, 0.007816333686438325), (1946, 0.0), (1947, 0.006268151563051001), (1948, 0.005315549248829312), (1949, 0.01364012268749543), (1950, 0.0), (1951, 0.011457578732566528), (1952, 0.0), (1953, 0.0), (1954, 0.004783062089209704), (1955, 0.005671682455256327), (1956, 0.005461561274553715), (1957, 0.0045362364290077485), (1958, 0.0), (1959, 0.0), (1960, 0.0), (1961, 0.005562520781807268), (1962, 0.0), (1963, 0.004368640140890743), (1964, 0.0), (1965, 0.005639926563912915), (1966, 0.0), (1967, 0.0), (1968, 0.009110095248451803), (1969, 0.0), (1970, 0.0), (1971, 0.006575197508209382), (1972, 0.0), (1973, 0.012376975523340161), (1974, 0.004934528098419241), (1975, 0.0), (1976, 0.008665869546334238), (1977, 0.0069068556599588375), (1978, 0.00481251714897345), (1979, 0.0), (1980, 0.004843008482069555), (1981, 0.004509217082109524), (1982, 0.012051098607403141), (1983, 0.0), (1984, 0.00496276917236542), (1985, 0.007838678096913269), (1986, 0.005340009944047618), (1987, 0.012077219642682456), (1988, 0.0), (1989, 0.0), (1990, 0.0), (1991, 0.0), (1992, 0.03338766389358501), (1993, 0.0), (1994, 0.0048042936750892435), (1995, 0.0), (1996, 0.0), (1997, 0.0), (1998, 0.0), (1999, 0.006099328253834188), (2000, 0.0), (2001, 0.004649520510278848), (2002, 0.00565135749391307), (2003, 0.005216478106212028), (2004, 0.0), (2005, 0.004855209620702479), (2006, 0.0046048359990642955), (2007, 0.0049285421631874125), (2008, 0.0), (2009, 0.006395152243065863), (2010, 0.006126167795958472), (2011, 0.0), (2012, 0.015130823960144537), (2013, 0.006180713496611178), (2014, 0.013085903681877276), (2015, 0.00810027987545978), (2016, 0.00805320347694221), (2017, 0.0), (2018, 0.004404183547897632), (2019, 0.005362509607020355), (2020, 0.006617052296061351), (2021, 0.02263851922661015), (2022, 0.0), (2023, 0.0), (2024, 0.007428493942697656), (2025, 0.010853389083941841), (2026, 0.005395252428852197), (2027, 0.0), (2028, 0.0), (2029, 0.0), (2030, 0.033952317492824985), (2031, 0.0), (2032, 0.012654743126093833), (2033, 0.011967720710600092), (2034, 0.006391151585081843), (2035, 0.0), (2036, 0.00491524558032164), (2037, 0.03884506171815365), (2038, 0.0), (2039, 0.025519706008920853), (2040, 0.008570149895277495), (2041, 0.005475996714681744), (2042, 0.005634373996569865), (2043, 0.004889568535553685), (2044, 0.008240001935265348), (2045, 0.007883730032060197), (2046, 0.0053928136750193935), (2047, 0.0), (2048, 0.0), (2049, 0.005952701799219888), (2050, 0.005148607391702623), (2051, 0.0), (2052, 0.012270175534957063), (2053, 0.0), (2054, 0.0), (2055, 0.007030775793133022), (2056, 0.00520320707928264), (2057, 0.0), (2058, 0.011873101572668892), (2059, 0.004709137085579951), (2060, 0.005344716673812757), (2061, 0.007857130874575938), (2062, 0.0), (2063, 0.0048951796996749095), (2064, 0.003977092686397186), (2065, 0.006969449278516231), (2066, 0.00872674753958792), (2067, 0.007804086692703044), (2068, 0.005130830816039286), (2069, 0.0), (2070, 0.0), (2071, 0.005023238249517302), (2072, 0.0), (2073, 0.0), (2074, 0.0), (2075, 0.010164582524944302), (2076, 0.0045539713787526625), (2077, 0.016045738890917788), (2078, 0.0061695510303989304), (2079, 0.0061639047107268025), (2080, 0.0), (2081, 0.04647572715274737), (2082, 0.01427343604395764), (2083, 0.008118283154892476), (2084, 0.0), (2085, 0.008082293439802221), (2086, 0.005750815982308846), (2087, 0.005281134780644839), (2088, 0.008127527898414246), (2089, 0.0), (2090, 0.0056353433753897775), (2091, 0.007865419267736358), (2092, 0.005546784526700046), (2093, 0.012168292947148308), (2094, 0.036050088733641496), (2095, 0.0), (2096, 0.03233686041373144), (2097, 0.0), (2098, 0.004618699107488812), (2099, 0.005046839958271758), (2100, 0.0), (2101, 0.005908797820767644), (2102, 0.0), (2103, 0.00755363454375019), (2104, 0.0), (2105, 0.0), (2106, 0.011163715263194783), (2107, 0.005143232779279746), (2108, 0.00599308362131958), (2109, 0.0), (2110, 0.0), (2111, 0.010578153674326586), (2112, 0.039341384086325565), (2113, 0.010295788537739482), (2114, 0.006530843434220973), (2115, 0.033897425712469946), (2116, 0.005827635311428733), (2117, 0.00744104643096656), (2118, 0.0), (2119, 0.0), (2120, 0.0), (2121, 0.03167319797989008), (2122, 0.005450976478873006), (2123, 0.0), (2124, 0.02241379980904299), (2125, 0.012033211024465775), (2126, 0.0), (2127, 0.006512328808003016), (2128, 0.005309693106482727), (2129, 0.0), (2130, 0.0), (2131, 0.005187017511165493), (2132, 0.0), (2133, 0.0), (2134, 0.0), (2135, 0.0), (2136, 0.0084074186207669), (2137, 0.007652908509023376), (2138, 0.006119800693653923), (2139, 0.007280638080488935), (2140, 0.005134140095558787), (2141, 0.0), (2142, 0.0), (2143, 0.005162470410140092), (2144, 0.0), (2145, 0.009590912201112608), (2146, 0.004614419536283832), (2147, 0.005731259862095698), (2148, 0.011193191590557419), (2149, 0.0), (2150, 0.012741000466495442), (2151, 0.01151385228160798), (2152, 0.0), (2153, 0.013228905168398527), (2154, 0.0), (2155, 0.0), (2156, 0.004808019032869046), (2157, 0.004540271912874921), (2158, 0.006295613755520516), (2159, 0.0), (2160, 0.0050809042694791974), (2161, 0.004807852546683608), (2162, 0.0), (2163, 0.0), (2164, 0.014726554347025928), (2165, 0.0), (2166, 0.012391026523356247), (2167, 0.03434157708071099), (2168, 0.004620544370710475), (2169, 0.0), (2170, 0.005049481998005076), (2171, 0.0), (2172, 0.0), (2173, 0.0), (2174, 0.0), (2175, 0.0), (2176, 0.0), (2177, 0.0), (2178, 0.007545502062651402), (2179, 0.005072447727095677), (2180, 0.00886750098533729), (2181, 0.008805274378033785), (2182, 0.008714713849216722), (2183, 0.005007088275221372), (2184, 0.04077015565087738), (2185, 0.01178670822755147), (2186, 0.08154059751145863), (2187, 0.006197006364452241), (2188, 0.1169363185764112), (2189, 0.0), (2190, 0.0), (2191, 0.0), (2192, 0.005437633122326664), (2193, 0.00544866245724667), (2194, 0.005600142381733215), (2195, 0.0), (2196, 0.0), (2197, 0.006561109642534306), (2198, 0.0), (2199, 0.007028691603259594), (2200, 0.005517785322946114), (2201, 0.005022905623975187), (2202, 0.041516410058924966), (2203, 0.004940806525367907), (2204, 0.004577228646091008), (2205, 0.0072613073935062404), (2206, 0.007414887758215413), (2207, 0.004943334133845623), (2208, 0.013944810880722644), (2209, 0.00601127780938533), (2210, 0.007887219998984384), (2211, 0.004524356814474716), (2212, 0.007740629786909429), (2213, 0.0), (2214, 0.0), (2215, 0.005068173676318109), (2216, 0.0), (2217, 0.01377377640601557), (2218, 0.0060028354410937325), (2219, 0.003984831019560574), (2220, 0.0), (2221, 0.0), (2222, 0.005577220953833549), (2223, 0.006139324129633214), (2224, 0.007361098332421448), (2225, 0.004945608591543772), (2226, 0.0), (2227, 0.01093278242303625), (2228, 0.006988416330685712), (2229, 0.0), (2230, 0.0), (2231, 0.0), (2232, 0.007578776517413031), (2233, 0.008513056530885165), (2234, 0.011091363532128234), (2235, 0.0), (2236, 0.004899705862402832), (2237, 0.006807036799705534), (2238, 0.008033703247090556), (2239, 0.0075670045884849045), (2240, 0.004738369968887055), (2241, 0.01368160707711134), (2242, 0.005132251091316976), (2243, 0.00832082052167142), (2244, 0.0), (2245, 0.0), (2246, 0.0), (2247, 0.0), (2248, 0.0), (2249, 0.0056467415668384514), (2250, 0.0), (2251, 0.04959442651729095), (2252, 0.0), (2253, 0.0), (2254, 0.1224540496665884), (2255, 0.0), (2256, 0.0), (2257, 0.0), (2258, 0.10134318688296542), (2259, 0.0), (2260, 0.00577612517486399), (2261, 0.0062587709046266924), (2262, 0.004864503199880195), (2263, 0.0), (2264, 0.004797012067846401), (2265, 0.00490181670173699), (2266, 0.0), (2267, 0.0), (2268, 0.0), (2269, 0.0), (2270, 0.004665303078773978), (2271, 0.00510999799437115), (2272, 0.0050153641791518076), (2273, 0.0), (2274, 0.012106016964389468), (2275, 0.010505245647199329), (2276, 0.007968346885823088), (2277, 0.007863627202724408), (2278, 0.0), (2279, 0.0), (2280, 0.005348791275374711), (2281, 0.007163513263215719), (2282, 0.04591641410087495), (2283, 0.0), (2284, 0.005428677804438182), (2285, 0.0), (2286, 0.0), (2287, 0.0), (2288, 0.0), (2289, 0.0), (2290, 0.005510024509145648), (2291, 0.0), (2292, 0.005499397708446975), (2293, 0.0), (2294, 0.006701659598798018), (2295, 0.0), (2296, 0.011052303761315682), (2297, 0.00529259046267325), (2298, 0.012983274153124787), (2299, 0.0), (2300, 0.0), (2301, 0.0), (2302, 0.006132933591807276), (2303, 0.005092495914136184), (2304, 0.012065950261207437), (2305, 0.006175543326005121), (2306, 0.0), (2307, 0.005538483071239322), (2308, 0.0067573612332968575), (2309, 0.005157939309200962), (2310, 0.0), (2311, 0.005079260930064713), (2312, 0.007773727360686845), (2313, 0.0), (2314, 0.0), (2315, 0.012127087361544919), (2316, 0.008309159861475558), (2317, 0.0), (2318, 0.0), (2319, 0.0), (2320, 0.006277093327900518), (2321, 0.0), (2322, 0.005259700859108433), (2323, 0.0), (2324, 0.0), (2325, 0.0056054197559807315), (2326, 0.0), (2327, 0.005034235026507866), (2328, 0.0), (2329, 0.005296173745580033), (2330, 0.008201930454185396), (2331, 0.0044302518111688895), (2332, 0.0), (2333, 0.00642770911199553), (2334, 0.0), (2335, 0.01089450673105568), (2336, 0.005369237803450567), (2337, 0.0), (2338, 0.0), (2339, 0.006132662339712374), (2340, 0.005412920912544825), (2341, 0.0), (2342, 0.0), (2343, 0.0), (2344, 0.0), (2345, 0.0), (2346, 0.0), (2347, 0.0), (2348, 0.005085929651907089), (2349, 0.11912686938645237), (2350, 0.0), (2351, 0.006444998998095671), (2352, 0.0), (2353, 0.013546228684223987), (2354, 0.0), (2355, 0.0), (2356, 0.008671960573229321), (2357, 0.006129857170029072), (2358, 0.0), (2359, 0.0), (2360, 0.00477198372581154), (2361, 0.008228326070383063), (2362, 0.0), (2363, 0.01625932706449694), (2364, 0.004341340141827512), (2365, 0.0), (2366, 0.0047884955901711735), (2367, 0.005168591145862431), (2368, 0.006435556300202283), (2369, 0.0), (2370, 0.0), (2371, 0.005849154354271802), (2372, 0.0), (2373, 0.004503028173983091), (2374, 0.0), (2375, 0.005931926780660945), (2376, 0.0), (2377, 0.004286256367666422), (2378, 0.009129343636998997), (2379, 0.007792558586729337), (2380, 0.0056478729038397174), (2381, 0.014669160707371775), (2382, 0.0), (2383, 0.008625456062006258), (2384, 0.006013673335393702), (2385, 0.09843540099239771), (2386, 0.0), (2387, 0.005387802863955097), (2388, 0.0), (2389, 0.011736011098874394), (2390, 0.0), (2391, 0.005767003115509583), (2392, 0.0), (2393, 0.0), (2394, 0.005689517487929371), (2395, 0.007468977103652718), (2396, 0.005448619271467943), (2397, 0.005491503807016487), (2398, 0.0), (2399, 0.012144930373581178), (2400, 0.0), (2401, 0.0), (2402, 0.004889947608389451), (2403, 0.006223276772973363), (2404, 0.007344144068757455), (2405, 0.0), (2406, 0.0), (2407, 0.0), (2408, 0.0), (2409, 0.005142646260530067), (2410, 0.005923462367680389), (2411, 0.006114106286496598), (2412, 0.006735821403333381), (2413, 0.008137126441969204), (2414, 0.0), (2415, 0.009413117870182468), (2416, 0.0), (2417, 0.0), (2418, 0.0), (2419, 0.0), (2420, 0.006048161553162875), (2421, 0.0), (2422, 0.005241347706402917), (2423, 0.006804762780546264), (2424, 0.011925533653594066), (2425, 0.0), (2426, 0.011858930272181772), (2427, 0.009010816426437751), (2428, 0.008561006646465351), (2429, 0.0071909462587246824), (2430, 0.0), (2431, 0.039798385272797165), (2432, 0.007477377771414888), (2433, 0.011521691315662955), (2434, 0.006455055991054642), (2435, 0.005331894874577999), (2436, 0.006034891663227336), (2437, 0.0), (2438, 0.0), (2439, 0.010802070061745671), (2440, 0.005483595370651261), (2441, 0.004372417280307671), (2442, 0.007214594160703587), (2443, 0.0), (2444, 0.013420623256672523), (2445, 0.004969714420025477), (2446, 0.005015073191797372), (2447, 0.0), (2448, 0.0), (2449, 0.005434513634491387), (2450, 0.005019494363192317), (2451, 0.0), (2452, 0.005923688263062591), (2453, 0.0), (2454, 0.0), (2455, 0.006853443302558386), (2456, 0.005572950767160572), (2457, 0.0), (2458, 0.005884270112331538), (2459, 0.06303321098549775), (2460, 0.004705631587980361), (2461, 0.005235317618333531), (2462, 0.0), (2463, 0.0), (2464, 0.0059218593836297025), (2465, 0.15761890078212296), (2466, 0.0), (2467, 0.005209489985479445), (2468, 0.015372723307318072), (2469, 0.0), (2470, 0.008761437529995794), (2471, 0.0), (2472, 0.005416678513075611), (2473, 0.0), (2474, 0.03378020515797146), (2475, 0.0), (2476, 0.008820796794521794), (2477, 0.0), (2478, 0.006198517810469072), (2479, 0.014692042615639528), (2480, 0.0), (2481, 0.0), (2482, 0.0306663513497622), (2483, 0.007120890246818309), (2484, 0.1177409873885819), (2485, 0.0), (2486, 0.006164851569090897), (2487, 0.005472189255519742), (2488, 0.006598837466862783), (2489, 0.0), (2490, 0.00778243994709884), (2491, 0.0049782959366038585), (2492, 0.005433338781888484), (2493, 0.014520832588362039), (2494, 0.005821464109528525), (2495, 0.005399067393928572), (2496, 0.0), (2497, 0.0049868725844355475), (2498, 0.0), (2499, 0.05510307302300397), (2500, 0.007533541918693565), (2501, 0.05203605610399827), (2502, 0.0), (2503, 0.0), (2504, 0.0052718669133288605), (2505, 0.0), (2506, 0.007782635453672694), (2507, 0.005865519327869537), (2508, 0.004469384638975149), (2509, 0.004437220473164217), (2510, 0.0061896006469464694), (2511, 0.005596778148841976), (2512, 0.005360799379275064), (2513, 0.0071946905144442234), (2514, 0.004851049487800917), (2515, 0.00670361704009464), (2516, 0.005721155775536894), (2517, 0.0), (2518, 0.006095561059894578), (2519, 0.005569605533547694), (2520, 0.0), (2521, 0.010099486074475963), (2522, 0.046256413022635855), (2523, 0.009332458311135331), (2524, 0.0), (2525, 0.0), (2526, 0.0), (2527, 0.0), (2528, 0.0), (2529, 0.00783803474360644), (2530, 0.00985965142701261), (2531, 0.005627296417108056), (2532, 0.03755925496993296), (2533, 0.0), (2534, 0.0), (2535, 0.00598457427887986), (2536, 0.05361558666010463), (2537, 0.007407121688591468), (2538, 0.0), (2539, 0.004687314640437757), (2540, 0.007393446671876127), (2541, 0.0), (2542, 0.004887224351320636), (2543, 0.00677517153374975), (2544, 0.00496208855702428), (2545, 0.0), (2546, 0.1615206661320905), (2547, 0.010215342481093246), (2548, 0.03302211349268064), (2549, 0.007856929511335738), (2550, 0.0), (2551, 0.005486308616882895), (2552, 0.0), (2553, 0.00526406352095229), (2554, 0.013272876036959976), (2555, 0.008821483008382924), (2556, 0.0), (2557, 0.0), (2558, 0.0), (2559, 0.010197687861037391), (2560, 0.0), (2561, 0.00563322157679508), (2562, 0.0), (2563, 0.03641448953535639), (2564, 0.006708037610031711), (2565, 0.0), (2566, 0.011416952716364694), (2567, 0.009205520048783397), (2568, 0.0), (2569, 0.0053353954132970595), (2570, 0.006355096288782111), (2571, 0.0), (2572, 0.0), (2573, 0.03557685552731689), (2574, 0.0), (2575, 0.005901616905265539), (2576, 0.008776001881801148), (2577, 0.0), (2578, 0.0), (2579, 0.0), (2580, 0.0), (2581, 0.01644124402071289), (2582, 0.005508501111054077), (2583, 0.0), (2584, 0.01711023650858759), (2585, 0.03377327792926273), (2586, 0.005470819469207036), (2587, 0.009583411477084905), (2588, 0.005783567482910725), (2589, 0.0), (2590, 0.005026443353602715), (2591, 0.0346921918940232), (2592, 0.005977643618108877), (2593, 0.0), (2594, 0.005057493504986799), (2595, 0.0), (2596, 0.0), (2597, 0.05901443048570084), (2598, 0.0), (2599, 0.0), (2600, 0.016599256918299502), (2601, 0.0056311725286397754), (2602, 0.0), (2603, 0.03447185787619998), (2604, 0.005876161075575333), (2605, 0.005636544025172106), (2606, 0.0), (2607, 0.0), (2608, 0.009458532533032358), (2609, 0.0), (2610, 0.011412686650353353), (2611, 0.0), (2612, 0.0), (2613, 0.0), (2614, 0.0), (2615, 0.0050158055890516424), (2616, 0.012864283559795991), (2617, 0.0), (2618, 0.02889427643156676), (2619, 0.013004798070669258), (2620, 0.00515240458559426), (2621, 0.0), (2622, 0.006581518940370859), (2623, 0.03766368371824523), (2624, 0.0), (2625, 0.008912599173982613), (2626, 0.06276240560640702), (2627, 0.0), (2628, 0.0), (2629, 0.0), (2630, 0.0), (2631, 0.005127683586522087), (2632, 0.0), (2633, 0.005668640024818016), (2634, 0.007248427677506649), (2635, 0.006326778496481137), (2636, 0.0), (2637, 0.005797192363445278), (2638, 0.10586194006712611), (2639, 0.005297734315080422), (2640, 0.00811669906387796), (2641, 0.007433616547964096), (2642, 0.012676194498917008), (2643, 0.0), (2644, 0.0051377673387341324), (2645, 0.009983465038343582), (2646, 0.0105716727138211), (2647, 0.007856962124108746), (2648, 0.005567703613668626), (2649, 0.0), (2650, 0.0), (2651, 0.0), (2652, 0.0), (2653, 0.005210488026064274), (2654, 0.0), (2655, 0.0), (2656, 0.006817432641158023), (2657, 0.019272253391898756), (2658, 0.0), (2659, 0.018951929019039228), (2660, 0.0), (2661, 0.041511449644838716), (2662, 0.01190223417365679), (2663, 0.010557640703517956), (2664, 0.0), (2665, 0.004446086566523964), (2666, 0.004963642734781395), (2667, 0.017928255602662015), (2668, 0.007981837924263465), (2669, 0.00798520800267611), (2670, 0.008303385892181723), (2671, 0.003965873682682095), (2672, 0.014746889387828241), (2673, 0.047416641585992625), (2674, 0.007140924782494518), (2675, 0.005660304677741834), (2676, 0.015086976584823355), (2677, 0.005260904543163065), (2678, 0.008793742124641103), (2679, 0.0), (2680, 0.007435958211539563), (2681, 0.005191103906312116), (2682, 0.007237615147058019), (2683, 0.0), (2684, 0.007819438875453869), (2685, 0.005479806939852167), (2686, 0.0), (2687, 0.035160549750202066), (2688, 0.004632435612335286), (2689, 0.008223318428116865), (2690, 0.005127381240015312), (2691, 0.008070717686789462), (2692, 0.0), (2693, 0.005219685784148655), (2694, 0.0), (2695, 0.0), (2696, 0.006276760450136222), (2697, 0.006350708304038642), (2698, 0.0), (2699, 0.005037428087400463), (2700, 0.0), (2701, 0.008738904222113635), (2702, 0.006171296475324296), (2703, 0.008358613814299932), (2704, 0.0), (2705, 0.0), (2706, 0.04639525034159129), (2707, 0.04815175342901374), (2708, 0.0), (2709, 0.005401892651931971), (2710, 0.008722266343929358), (2711, 0.04129757710362888), (2712, 0.0057691432078761555), (2713, 0.04019200937735082), (2714, 0.008209982417007853), (2715, 0.007108325103555509), (2716, 0.0), (2717, 0.0), (2718, 0.006769703004390513), (2719, 0.0), (2720, 0.01542030187732696), (2721, 0.00469174409470974), (2722, 0.007580036433657632), (2723, 0.047220689881284264), (2724, 0.0), (2725, 0.0), (2726, 0.011150932608715578), (2727, 0.006494395304722176), (2728, 0.004914810622850643), (2729, 0.019797223202589233), (2730, 0.0066342494964938955), (2731, 0.007247857700039021), (2732, 0.011013509381477923), (2733, 0.0), (2734, 0.004291578867028168), (2735, 0.0), (2736, 0.0), (2737, 0.009027918291916704), (2738, 0.006372031659756249), (2739, 0.0), (2740, 0.0), (2741, 0.004861688874867053), (2742, 0.0072024347259847955), (2743, 0.0), (2744, 0.04253759570474795), (2745, 0.0), (2746, 0.005490082562007519), (2747, 0.009357310683277742), (2748, 0.005871551995196481), (2749, 0.007060043535949327), (2750, 0.0), (2751, 0.007356361398443254), (2752, 0.0), (2753, 0.0), (2754, 0.013793785185878277), (2755, 0.0057095467544971525), (2756, 0.11007468968486915), (2757, 0.0), (2758, 0.004585787171743397), (2759, 0.0), (2760, 0.0), (2761, 0.0), (2762, 0.0), (2763, 0.03776426988394355), (2764, 0.00769268127282209), (2765, 0.028837914046708085), (2766, 0.0), (2767, 0.006052147564782324), (2768, 0.011027147965706367), (2769, 0.11634634482060739), (2770, 0.004465069570583575), (2771, 0.0), (2772, 0.009189282608516704), (2773, 0.0), (2774, 0.01051349426092459), (2775, 0.0), (2776, 0.011630868273959618), (2777, 0.007177917964853197), (2778, 0.009380106641286147), (2779, 0.0), (2780, 0.008032220725892183), (2781, 0.0065071638037068865), (2782, 0.0060105810210744764), (2783, 0.0), (2784, 0.0), (2785, 0.0), (2786, 0.038271411444755335), (2787, 0.012510759062002625), (2788, 0.00789756374774468), (2789, 0.0), (2790, 0.0), (2791, 0.007114391182958425), (2792, 0.0), (2793, 0.0), (2794, 0.09675532874372364), (2795, 0.00979664555896819), (2796, 0.006179273297879436), (2797, 0.0066089841672912495), (2798, 0.0), (2799, 0.006043401771854289), (2800, 0.0), (2801, 0.0), (2802, 0.0), (2803, 0.007059595470518923), (2804, 0.0054011962079247005), (2805, 0.004721659599058729), (2806, 0.0), (2807, 0.005297147487993326), (2808, 0.0), (2809, 0.0), (2810, 0.05469374549478971), (2811, 0.01440812635629001), (2812, 0.0050886448306408155), (2813, 0.03581422223692873), (2814, 0.003862968328539565), (2815, 0.03832071410319604), (2816, 0.005586903749606416), (2817, 0.12743692908911947), (2818, 0.007561312601663824), (2819, 0.008217779708693222), (2820, 0.011507979524697624), (2821, 0.0), (2822, 0.011354826122680808), (2823, 0.010224365841136288), (2824, 0.0), (2825, 0.012997531663418625), (2826, 0.00779886914779003), (2827, 0.0), (2828, 0.0), (2829, 0.005173195074676088), (2830, 0.0), (2831, 0.0), (2832, 0.007086094365933872), (2833, 0.004812940857138133), (2834, 0.006698841189832144), (2835, 0.0), (2836, 0.005357568517688152), (2837, 0.0), (2838, 0.006900495002824172), (2839, 0.0), (2840, 0.008652011600996743), (2841, 0.0), (2842, 0.0067069831234111005), (2843, 0.014610380482118308), (2844, 0.006406952032228089), (2845, 0.030621751646007153), (2846, 0.0063180262893378185), (2847, 0.007659042958341271), (2848, 0.0), (2849, 0.0), (2850, 0.007710011228734158), (2851, 0.0), (2852, 0.012059688101418761), (2853, 0.0), (2854, 0.05751442400342488), (2855, 0.004578934192682076), (2856, 0.005546018601057731), (2857, 0.04773272488378176), (2858, 0.007653335733927178), (2859, 0.0), (2860, 0.00841651989235755), (2861, 0.0), (2862, 0.007229531333004662), (2863, 0.0), (2864, 0.008817869739637376), (2865, 0.0), (2866, 0.005024482762708634), (2867, 0.0), (2868, 0.0), (2869, 0.0), (2870, 0.0), (2871, 0.0), (2872, 0.00621538805343514), (2873, 0.006132682354659153), (2874, 0.005011378181496227), (2875, 0.006862681834189647), (2876, 0.032295879687610385), (2877, 0.030003614874971614), (2878, 0.03507060987712532), (2879, 0.0), (2880, 0.01418036956166948), (2881, 0.008785810423298259), (2882, 0.005867480458022297), (2883, 0.0), (2884, 0.044639024029504745), (2885, 0.0), (2886, 0.0), (2887, 0.0), (2888, 0.008403138864452318), (2889, 0.0), (2890, 0.0), (2891, 0.007648386228270931), (2892, 0.0), (2893, 0.012246394214106417), (2894, 0.0), (2895, 0.04910820014647184), (2896, 0.0054832100914360945), (2897, 0.005157477320728798), (2898, 0.008453672102912929), (2899, 0.007292313465907664), (2900, 0.0), (2901, 0.0), (2902, 0.0), (2903, 0.008699449058061286), (2904, 0.0), (2905, 0.0), (2906, 0.0), (2907, 0.0), (2908, 0.00623392390923791), (2909, 0.0), (2910, 0.007590025847283933), (2911, 0.0), (2912, 0.005228338474795847), (2913, 0.010791682639889482), (2914, 0.0061065259696438424), (2915, 0.0), (2916, 0.0), (2917, 0.0), (2918, 0.007473696570212113), (2919, 0.0), (2920, 0.0), (2921, 0.0), (2922, 1.0000000000000002), (2923, 0.0), (2924, 0.04144683956695892), (2925, 0.004335273212281178), (2926, 0.005646924329197751), (2927, 0.0), (2928, 0.006972425368112438), (2929, 0.0), (2930, 0.005936689605398415), (2931, 0.027443614708708885), (2932, 0.040112330429851684), (2933, 0.004585475015932383), (2934, 0.0), (2935, 0.006889613219545428), (2936, 0.0), (2937, 0.011139372342643636), (2938, 0.0), (2939, 0.006724991843449371), (2940, 0.014062720543449432), (2941, 0.006938998678509765), (2942, 0.0), (2943, 0.007729566312513133), (2944, 0.008029472669490006), (2945, 0.005285468727151359), (2946, 0.0), (2947, 0.00795098757059671), (2948, 0.017133781356055103), (2949, 0.0), (2950, 0.007371936211661546), (2951, 0.011897160125098824), (2952, 0.0), (2953, 0.0), (2954, 0.004930242719400065), (2955, 0.00792172151059535), (2956, 0.0), (2957, 0.0), (2958, 0.0072270270694742), (2959, 0.00816645015238317), (2960, 0.00791204585843648), (2961, 0.0), (2962, 0.01252023923521835), (2963, 0.008282819262091673), (2964, 0.0), (2965, 0.0), (2966, 0.0), (2967, 0.0), (2968, 0.005893720981157507), (2969, 0.035996931805399965), (2970, 0.005755330702199271), (2971, 0.011448025885024424), (2972, 0.005089599862431533), (2973, 0.010591720460467836), (2974, 0.0), (2975, 0.0), (2976, 0.004836940430163582), (2977, 0.0), (2978, 0.0058711794576147645), (2979, 0.01429428080302652), (2980, 0.0), (2981, 0.0), (2982, 0.00614488046008168), (2983, 0.0068146338517773505), (2984, 0.0), (2985, 0.029731343340878076), (2986, 0.006386820748808357), (2987, 0.0), (2988, 0.0), (2989, 0.01080932786125499), (2990, 0.017711613052122946), (2991, 0.0), (2992, 0.01226767971401799), (2993, 0.0), (2994, 0.0054345509704448415), (2995, 0.0), (2996, 0.0), (2997, 0.0), (2998, 0.011645949277520497), (2999, 0.005368926805215579), (3000, 0.0), (3001, 0.0), (3002, 0.007839491169071476), (3003, 0.005998205648749232), (3004, 0.0), (3005, 0.0), (3006, 0.0), (3007, 0.0), (3008, 0.0), (3009, 0.007560707518931275), (3010, 0.0), (3011, 0.0), (3012, 0.0), (3013, 0.0), (3014, 0.0), (3015, 0.0), (3016, 0.011086256854174806), (3017, 0.006415309762238072), (3018, 0.005638888824927645), (3019, 0.0), (3020, 0.006554994360900889), (3021, 0.0), (3022, 0.009024751165566508), (3023, 0.0), (3024, 0.006417196453386887), (3025, 0.0), (3026, 0.04272310865539924), (3027, 0.0), (3028, 0.0), (3029, 0.0), (3030, 0.0), (3031, 0.0), (3032, 0.0), (3033, 0.005396484708540713), (3034, 0.005434680245821725), (3035, 0.0), (3036, 0.0), (3037, 0.005699520968629889), (3038, 0.005648324059198338), (3039, 0.0061100878972036145), (3040, 0.007540563885724974), (3041, 0.005699378841328542), (3042, 0.007316043449480935), (3043, 0.0), (3044, 0.01434171297127163), (3045, 0.0064061599473323174), (3046, 0.08636806438854332), (3047, 0.0), (3048, 0.0), (3049, 0.0), (3050, 0.004946996330041552), (3051, 0.0), (3052, 0.0), (3053, 0.0), (3054, 0.006488075271645745), (3055, 0.0), (3056, 0.0), (3057, 0.0), (3058, 0.0), (3059, 0.008310532402740746), (3060, 0.005488604940482296), (3061, 0.0056454435129999056), (3062, 0.014586645337350098), (3063, 0.004775010896823897), (3064, 0.008441034184602493), (3065, 0.006589136918337496), (3066, 0.005275450245798812), (3067, 0.0), (3068, 0.0), (3069, 0.0), (3070, 0.01175282485452109), (3071, 0.0050575062601813285), (3072, 0.0), (3073, 0.005327375695543818), (3074, 0.006624656901933687), (3075, 0.0), (3076, 0.0), (3077, 0.01019827481386979), (3078, 0.006938422762745123), (3079, 0.0), (3080, 0.006018503929491922), (3081, 0.0), (3082, 0.004802374310407383), (3083, 0.005019419273131785), (3084, 0.005726813072770101), (3085, 0.09641891134957445), (3086, 0.0), (3087, 0.006812089664821691), (3088, 0.00802923620643973), (3089, 0.0065604064913935885), (3090, 0.005309659505626463), (3091, 0.0), (3092, 0.0), (3093, 0.0), (3094, 0.03549850153118262), (3095, 0.0), (3096, 0.00674331544740781), (3097, 0.014507899207877614), (3098, 0.009810364105835405), (3099, 0.006900056879961979), (3100, 0.007246281029446619), (3101, 0.0), (3102, 0.005503158836784662), (3103, 0.0), (3104, 0.005386899251390188), (3105, 0.0), (3106, 0.005382446870126365), (3107, 0.0), (3108, 0.004846214435798534), (3109, 0.00575062375320929), (3110, 0.0), (3111, 0.0), (3112, 0.008341666609698789), (3113, 0.005507258470481515), (3114, 0.007171413080170565), (3115, 0.020482173694928177), (3116, 0.0), (3117, 0.03477974823676636), (3118, 0.0), (3119, 0.0), (3120, 0.0), (3121, 0.0), (3122, 0.0), (3123, 0.0), (3124, 0.00805395226287075), (3125, 0.0), (3126, 0.007429054717943059), (3127, 0.005230229459067897), (3128, 0.0), (3129, 0.006664857616079155), (3130, 0.007076976609044013), (3131, 0.00829944521987185), (3132, 0.008224589906049129), (3133, 0.007291505136805917), (3134, 0.008096548769999134), (3135, 0.007265738243869173), (3136, 0.007235169081897904), (3137, 0.010023021178559558), (3138, 0.0), (3139, 0.007644738666298653), (3140, 0.0), (3141, 0.005202092169014327), (3142, 0.007465379844176733), (3143, 0.0072046889300139754), (3144, 0.0), (3145, 0.0), (3146, 0.0060396560708665245), (3147, 0.010053376628057043), (3148, 0.0), (3149, 0.005208216191444041), (3150, 0.005649381277097569), (3151, 0.0), (3152, 0.0), (3153, 0.0), (3154, 0.0), (3155, 0.005436480933882547), (3156, 0.007471590371440985), (3157, 0.0), (3158, 0.0), (3159, 0.0), (3160, 0.0), (3161, 0.007652851761569056), (3162, 0.040322625072975016), (3163, 0.008443476151161634), (3164, 0.0045725535293501), (3165, 0.008910021023000697), (3166, 0.007489808419513105), (3167, 0.0), (3168, 0.014815212641343067), (3169, 0.01348802709944208), (3170, 0.0), (3171, 0.0), (3172, 0.015320035760849249), (3173, 0.0), (3174, 0.007736736417004041), (3175, 0.005785984041008768), (3176, 0.0), (3177, 0.0051291829534837585), (3178, 0.008536968229411631), (3179, 0.0), (3180, 0.0), (3181, 0.014337137667759452), (3182, 0.011000820091052847), (3183, 0.005912755618341895), (3184, 0.0), (3185, 0.01177083414696822), (3186, 0.0), (3187, 0.005682098449525), (3188, 0.005393390505496678), (3189, 0.005672945848191839), (3190, 0.006256771573113342), (3191, 0.007986289340454795), (3192, 0.020499988966020396), (3193, 0.007287152291278138), (3194, 0.03649868027876596), (3195, 0.0), (3196, 0.0), (3197, 0.00490713550973422), (3198, 0.005577941039802039), (3199, 0.0), (3200, 0.0), (3201, 0.0), (3202, 0.008434348599470363), (3203, 0.006502868780260682), (3204, 0.0072280074954752796), (3205, 0.005770297779680945), (3206, 0.009385721400910738), (3207, 0.00593364977885636), (3208, 0.0), (3209, 0.0055222309602484705), (3210, 0.007824849542792861), (3211, 0.0), (3212, 0.004476198405542293), (3213, 0.006502681451178241), (3214, 0.005154894835438916), (3215, 0.006487665570422774), (3216, 0.0), (3217, 0.006958142966099828), (3218, 0.005756464632339047), (3219, 0.0), (3220, 0.005277164775489607), (3221, 0.014715547704642262), (3222, 0.0), (3223, 0.011783134149351839), (3224, 0.005621591804981734), (3225, 0.007949423958123494), (3226, 0.0), (3227, 0.007821733691120141), (3228, 0.0), (3229, 0.005607819853082751), (3230, 0.0), (3231, 0.004835244487934038), (3232, 0.011503414656545037), (3233, 0.0), (3234, 0.005902005103188399), (3235, 0.0), (3236, 0.005742819789728145), (3237, 0.0), (3238, 0.004646754884038957), (3239, 0.013615148646283912), (3240, 0.0), (3241, 0.008093022330879685), (3242, 0.0), (3243, 0.0), (3244, 0.03542312586893706), (3245, 0.005455531184583578), (3246, 0.005176350019185735), (3247, 0.007015999552272513), (3248, 0.0), (3249, 0.006753278856324497), (3250, 0.00506407805856745), (3251, 0.0), (3252, 0.0), (3253, 0.014961887486346326), (3254, 0.0), (3255, 0.0), (3256, 0.0062942452897798064), (3257, 0.006506182993483851), (3258, 0.005871429392850684), (3259, 0.013875602903520837), (3260, 0.005297683267193505), (3261, 0.0), (3262, 0.0), (3263, 0.008451064706340982), (3264, 0.0), (3265, 0.011128942664666122), (3266, 0.007469322039243775), (3267, 0.011938320277716085), (3268, 0.0), (3269, 0.0), (3270, 0.013071441929810388), (3271, 0.04761620819650519), (3272, 0.0), (3273, 0.0), (3274, 0.0), (3275, 0.009066879514719095), (3276, 0.01171017693266136), (3277, 0.005685434553332547), (3278, 0.0), (3279, 0.0), (3280, 0.0), (3281, 0.0), (3282, 0.007002430886686188), (3283, 0.005499835826005388), (3284, 0.0), (3285, 0.0), (3286, 0.005242309356695461), (3287, 0.0055819756389827975), (3288, 0.005283051508505092), (3289, 0.005533598011785277), (3290, 0.00555671160698109), (3291, 0.0), (3292, 0.0), (3293, 0.0), (3294, 0.0), (3295, 0.004913783459514446), (3296, 0.0), (3297, 0.019717667525985538), (3298, 0.0), (3299, 0.0), (3300, 0.0), (3301, 0.0), (3302, 0.0), (3303, 0.005494780654383191), (3304, 0.004889218363146131), (3305, 0.0), (3306, 0.034925625246187315), (3307, 0.0), (3308, 0.006392436236162278), (3309, 0.010312079311697964), (3310, 0.013725529001142923), (3311, 0.011901596339139307), (3312, 0.009010112525834427), (3313, 0.0), (3314, 0.0), (3315, 0.005158087403912258), (3316, 0.0), (3317, 0.0), (3318, 0.0), (3319, 0.010096884227625082), (3320, 0.005071362758218043), (3321, 0.004995955057133542), (3322, 0.0), (3323, 0.07656457427826317), (3324, 0.006345717337343237), (3325, 0.0), (3326, 0.0), (3327, 0.0), (3328, 0.005098862811806962), (3329, 0.0049362967223907615), (3330, 0.0), (3331, 0.0), (3332, 0.013314548874957805), (3333, 0.0), (3334, 0.03500427026962634), (3335, 0.0), (3336, 0.006982311225798356), (3337, 0.006230239311450406), (3338, 0.0), (3339, 0.006675919768444894), (3340, 0.007689772333872856), (3341, 0.0), (3342, 0.0), (3343, 0.013143683777383713), (3344, 0.0), (3345, 0.0), (3346, 0.03318118654429595), (3347, 0.0), (3348, 0.005225461011090469), (3349, 0.005601925066936582), (3350, 0.00532690345315298), (3351, 0.005635407730924872), (3352, 0.010385016739326357), (3353, 0.0), (3354, 0.0), (3355, 0.0), (3356, 0.0), (3357, 0.006711687176773115), (3358, 0.10445301012426705), (3359, 0.0), (3360, 0.031661890788217115), (3361, 0.007343366423880018), (3362, 0.0), (3363, 0.0), (3364, 0.0062332891617570925), (3365, 0.005470580617472303), (3366, 0.005214779066516177), (3367, 0.00776964855477589), (3368, 0.007573740940879837), (3369, 0.0), (3370, 0.0), (3371, 0.005981369651814713), (3372, 0.0), (3373, 0.014808467874381753), (3374, 0.007698655275529161), (3375, 0.005234442310557647), (3376, 0.0), (3377, 0.0), (3378, 0.005634396055700482), (3379, 0.0), (3380, 0.0), (3381, 0.0), (3382, 0.0056342346562799255), (3383, 0.014897802611030655), (3384, 0.009094589886484232), (3385, 0.0), (3386, 0.005471057619084581), (3387, 0.0), (3388, 0.005689015053598322), (3389, 0.004966003404521766), (3390, 0.0), (3391, 0.0), (3392, 0.0), (3393, 0.004643901132295404), (3394, 0.0), (3395, 0.004960265025272051), (3396, 0.0), (3397, 0.004845765260918772), (3398, 0.0), (3399, 0.0), (3400, 0.005280478996584812), (3401, 0.0), (3402, 0.005261743926173348), (3403, 0.0), (3404, 0.0078926126202516), (3405, 0.006593336347961815), (3406, 0.0), (3407, 0.0), (3408, 0.04746413339518524), (3409, 0.0), (3410, 0.004345059179035018), (3411, 0.004737288167463888), (3412, 0.0), (3413, 0.006485498771326394), (3414, 0.0), (3415, 0.005650989408680431), (3416, 0.007750186964836612), (3417, 0.0), (3418, 0.009800315253972463), (3419, 0.008952339891731269), (3420, 0.0), (3421, 0.003735587290009905), (3422, 0.005695298659532686), (3423, 0.0), (3424, 0.014415133103791907), (3425, 0.0), (3426, 0.0), (3427, 0.041182042618323804), (3428, 0.005578405546257931), (3429, 0.0052743069908195266), (3430, 0.004494408859840812), (3431, 0.0), (3432, 0.0077006209106349355), (3433, 0.0), (3434, 0.0), (3435, 0.0), (3436, 0.0), (3437, 0.0), (3438, 0.008281547250456465), (3439, 0.00700347138594092), (3440, 0.009013197282608833), (3441, 0.00769373168056397), (3442, 0.0057273988334971175), (3443, 0.012977332803399723), (3444, 0.011903822584140585), (3445, 0.00794462044224459), (3446, 0.0), (3447, 0.01055243237125775), (3448, 0.00941050936979655), (3449, 0.005834724338584068), (3450, 0.009009483455222374), (3451, 0.008314707843282271), (3452, 0.0), (3453, 0.008532473015970812), (3454, 0.007588282909612985), (3455, 0.0), (3456, 0.0), (3457, 0.0), (3458, 0.0), (3459, 0.0070488774006831805), (3460, 0.0), (3461, 0.005755562517447175), (3462, 0.005466591154310334), (3463, 0.008002279832814816), (3464, 0.04920399425704182), (3465, 0.00736833265117572), (3466, 0.00730292152462289), (3467, 0.007856608307276471), (3468, 0.008360561108195197), (3469, 0.042662652476500106), (3470, 0.0), (3471, 0.0), (3472, 0.00982790071351559), (3473, 0.0), (3474, 0.0), (3475, 0.008777111545154466), (3476, 0.0), (3477, 0.005354169922510691), (3478, 0.0), (3479, 0.007210958155257697), (3480, 0.0), (3481, 0.004544335973771331), (3482, 0.0), (3483, 0.0321219915761997), (3484, 0.0), (3485, 0.004798110589908363), (3486, 0.007920572450794756), (3487, 0.0), (3488, 0.0), (3489, 0.005565784976894791), (3490, 0.005185214786692736), (3491, 0.0), (3492, 0.0), (3493, 0.005651476799877548), (3494, 0.005434201591538031), (3495, 0.0), (3496, 0.0057958949782845985), (3497, 0.0), (3498, 0.0), (3499, 0.0), (3500, 0.005009479874717407), (3501, 0.0), (3502, 0.0), (3503, 0.005177631782435293), (3504, 0.0), (3505, 0.0), (3506, 0.0), (3507, 0.008041723088857027), (3508, 0.005313807313244255), (3509, 0.004684647886487845), (3510, 0.0058210379115510415), (3511, 0.0), (3512, 0.008279731701477387), (3513, 0.013784923282850102), (3514, 0.013735452917356141), (3515, 0.0), (3516, 0.008436764640279149), (3517, 0.00559073008141779), (3518, 0.005374490029034736), (3519, 0.005944701249472423), (3520, 0.07464910009740514), (3521, 0.0), (3522, 0.007939420385167035), (3523, 0.0), (3524, 0.0), (3525, 0.006744137210638252), (3526, 0.0055258420152070305), (3527, 0.0), (3528, 0.0630400861585774), (3529, 0.005933276093744816), (3530, 0.0), (3531, 0.012761332175020196), (3532, 0.008931559624813694), (3533, 0.0), (3534, 0.0), (3535, 0.0), (3536, 0.0), (3537, 0.006697312382801087), (3538, 0.0043054177473238415), (3539, 0.005752583503766586), (3540, 0.0), (3541, 0.005431480932157377), (3542, 0.031040773425283375), (3543, 0.005019372311872051), (3544, 0.1454772538118355), (3545, 0.005359407509368625), (3546, 0.0), (3547, 0.0), (3548, 0.0), (3549, 0.005584199136670661), (3550, 0.0), (3551, 0.0), (3552, 0.008781805986547998), (3553, 0.0), (3554, 0.01592685024343656), (3555, 0.007518488233772462), (3556, 0.006936173481554805), (3557, 0.0), (3558, 0.0), (3559, 0.0045257999988844175), (3560, 0.008716209546063449), (3561, 0.0), (3562, 0.005200930984057135), (3563, 0.004921196166449514), (3564, 0.0), (3565, 0.06668870453096365), (3566, 0.0), (3567, 0.0), (3568, 0.007439666883093135), (3569, 0.0), (3570, 0.005365762583196704), (3571, 0.016564052312003877), (3572, 0.0059780438798380615), (3573, 0.0), (3574, 0.03152272290830738), (3575, 0.004362174166843339), (3576, 0.0), (3577, 0.0066729438631806404), (3578, 0.0), (3579, 0.0046089422995111975), (3580, 0.1170913519131645), (3581, 0.005935666489540496), (3582, 0.012674787405988552), (3583, 0.0), (3584, 0.005798909601107568), (3585, 0.010525349827034677), (3586, 0.00834854073593207), (3587, 0.0), (3588, 0.009531137263145419), (3589, 0.004979258158472212), (3590, 0.0), (3591, 0.1035284056788213), (3592, 0.006713173238252279), (3593, 0.008659644502797001), (3594, 0.0), (3595, 0.012588178414599912), (3596, 0.0), (3597, 0.04198843297055525), (3598, 0.004779807673438817), (3599, 0.005637789449145322), (3600, 0.006995057104795005), (3601, 0.005758528412432115), (3602, 0.007627592056699792), (3603, 0.01340809335534333), (3604, 0.008520428773819321), (3605, 0.007415927367015867), (3606, 0.005505387335578086), (3607, 0.0), (3608, 0.0), (3609, 0.007294251626247469), (3610, 0.006377272320424938), (3611, 0.0), (3612, 0.0), (3613, 0.0), (3614, 0.0), (3615, 0.0), (3616, 0.00671455080154859), (3617, 0.0), (3618, 0.0), (3619, 0.0), (3620, 0.0), (3621, 0.0063536881672977994), (3622, 0.010122274219456436), (3623, 0.008002459721806106), (3624, 0.0), (3625, 0.0), (3626, 0.00414257233501434), (3627, 0.0), (3628, 0.014387618997728228), (3629, 0.0), (3630, 0.016016175684846354), (3631, 0.0), (3632, 0.005519081747240266), (3633, 0.004835867194760741), (3634, 0.0), (3635, 0.058679545878425686), (3636, 0.0), (3637, 0.0067840264961532394), (3638, 0.0), (3639, 0.0), (3640, 0.0), (3641, 0.00521476710650841), (3642, 0.008412093822374286), (3643, 0.0), (3644, 0.005305046424890689), (3645, 0.0058471252433280555), (3646, 0.005105623981581798), (3647, 0.0), (3648, 0.00558680112069568), (3649, 0.006125487487654466), (3650, 0.00547115094779746), (3651, 0.0), (3652, 0.005966194865219161), (3653, 0.0), (3654, 0.0), (3655, 0.0), (3656, 0.0), (3657, 0.006546392977987902), (3658, 0.011055916077810347), (3659, 0.1015464407784768), (3660, 0.007480775330861298), (3661, 0.07859605292980038), (3662, 0.005396841147858096), (3663, 0.0), (3664, 0.0), (3665, 0.0053866948968969396), (3666, 0.0), (3667, 0.0), (3668, 0.006566064954681657), (3669, 0.0), (3670, 0.0), (3671, 0.006721225001881949), (3672, 0.0), (3673, 0.005377676872059748), (3674, 0.004557894591027849), (3675, 0.0), (3676, 0.013295846263644228), (3677, 0.0391261435309988), (3678, 0.011488515992430615), (3679, 0.0), (3680, 0.008772157022137114), (3681, 0.005994111365676832), (3682, 0.0), (3683, 0.005527072780900094), (3684, 0.01141841328436807), (3685, 0.005297162040718734), (3686, 0.0064190620185386295), (3687, 0.0), (3688, 0.005982935875911081), (3689, 0.0), (3690, 0.007927726973203233), (3691, 0.0), (3692, 0.00835248724043136), (3693, 0.006618789149850657), (3694, 0.0), (3695, 0.0), (3696, 0.0), (3697, 0.008546129358927925), (3698, 0.025060429900793126), (3699, 0.09516512556337361), (3700, 0.007368447290465965), (3701, 0.0), (3702, 0.0), (3703, 0.011578796803854471), (3704, 0.0), (3705, 0.0), (3706, 0.00757071866066025), (3707, 0.007895317926059634), (3708, 0.008956779307530837), (3709, 0.0), (3710, 0.008247060478988325), (3711, 0.0), (3712, 0.005114701539363915), (3713, 0.0), (3714, 0.0), (3715, 0.016977595727889976), (3716, 0.004852945732015277), (3717, 0.0), (3718, 0.0), (3719, 0.0), (3720, 0.007486129325530829), (3721, 0.0), (3722, 0.005551624157130007), (3723, 0.007320993662538792), (3724, 0.008225437807982166), (3725, 0.0), (3726, 0.0), (3727, 0.0), (3728, 0.00577393723921759), (3729, 0.0), (3730, 0.00590255003101837), (3731, 0.0), (3732, 0.005030545204550066), (3733, 0.015427673500121824), (3734, 0.007316622589376486), (3735, 0.005974993395002542), (3736, 0.010141589085886669), (3737, 0.0), (3738, 0.007095496526381396), (3739, 0.005458906751208652), (3740, 0.006833485782046433), (3741, 0.009011010228377261), (3742, 0.014171649193401975), (3743, 0.008026651080307139), (3744, 0.05282063408938501), (3745, 0.0), (3746, 0.0), (3747, 0.008193304195900754), (3748, 0.004671801065847827), (3749, 0.0), (3750, 0.0), (3751, 0.0), (3752, 0.0), (3753, 0.0049741596893825134), (3754, 0.006261911400558489), (3755, 0.004772083694347143), (3756, 0.02481627699010936), (3757, 0.0), (3758, 0.006457935053591114), (3759, 0.0061819567727568634), (3760, 0.0), (3761, 0.0), (3762, 0.0), (3763, 0.006363517531141142), (3764, 0.010671055630359218), (3765, 0.005245027855868898), (3766, 0.0), (3767, 0.004960033960605661), (3768, 0.0), (3769, 0.0), (3770, 0.0), (3771, 0.008402284275236734), (3772, 0.006144665311783595), (3773, 0.007587184360787494), (3774, 0.0), (3775, 0.0), (3776, 0.0066437846689236385), (3777, 0.0), (3778, 0.0), (3779, 0.0), (3780, 0.0), (3781, 0.0), (3782, 0.008309378027296208), (3783, 0.007316542535654377), (3784, 0.0), (3785, 0.0), (3786, 0.0074432065571849145), (3787, 0.008492759083135014), (3788, 0.0), (3789, 0.006376781566717919), (3790, 0.005612122940668362), (3791, 0.006161172168265673), (3792, 0.005491071285769252), (3793, 0.0), (3794, 0.007347529024670949), (3795, 0.006939253359735944), (3796, 0.0074679772723602956), (3797, 0.0), (3798, 0.008046584653632774), (3799, 0.0), (3800, 0.04714999711602036), (3801, 0.0), (3802, 0.008494254180160648), (3803, 0.004724208961360944), (3804, 0.0), (3805, 0.005383841592398257), (3806, 0.0), (3807, 0.007716772447238759), (3808, 0.005995094735546605), (3809, 0.0), (3810, 0.0), (3811, 0.03369068295968269), (3812, 0.005495782143992277), (3813, 0.0), (3814, 0.007630204118368), (3815, 0.0), (3816, 0.0), (3817, 0.0), (3818, 0.005354708057890919), (3819, 0.0), (3820, 0.006104301232683946), (3821, 0.0), (3822, 0.0060627389098929195), (3823, 0.0), (3824, 0.005153540626122324), (3825, 0.0), (3826, 0.0), (3827, 0.0), (3828, 0.0), (3829, 0.0), (3830, 0.0), (3831, 0.0), (3832, 0.013183429495271612), (3833, 0.0), (3834, 0.008300182692735825), (3835, 0.0), (3836, 0.005266010722840179), (3837, 0.005926922925205422), (3838, 0.0), (3839, 0.004980367984113414), (3840, 0.00795239695072769), (3841, 0.0), (3842, 0.004914561001048864), (3843, 0.0), (3844, 0.006766274725997515), (3845, 0.09748188439480406), (3846, 0.008266731983986498), (3847, 0.09120332890344526), (3848, 0.0), (3849, 0.05378825498484345), (3850, 0.008290258270002078), (3851, 0.10700477613427685), (3852, 0.0), (3853, 0.0), (3854, 0.0), (3855, 0.004581581168526904), (3856, 0.0046729805295049436), (3857, 0.0), (3858, 0.006191801548567316), (3859, 0.005107208496913488), (3860, 0.0070334594697329085), (3861, 0.004781162325282602), (3862, 0.00810184061805847), (3863, 0.0), (3864, 0.005095507190899984), (3865, 0.004815368335822028), (3866, 0.00622401102227224), (3867, 0.0), (3868, 0.005166447665898327), (3869, 0.00850378361400104), (3870, 0.01375486245265762), (3871, 0.0), (3872, 0.0), (3873, 0.0), (3874, 0.0), (3875, 0.00438877531632199), (3876, 0.0), (3877, 0.0), (3878, 0.0), (3879, 0.005234858563675826), (3880, 0.0), (3881, 0.0), (3882, 0.005682796584193104), (3883, 0.0), (3884, 0.0), (3885, 0.0049119795752625255), (3886, 0.005185553627739128), (3887, 0.0), (3888, 0.0053425708021514725), (3889, 0.005855891452721269), (3890, 0.010447681600970541), (3891, 0.0), (3892, 0.007019218982007062), (3893, 0.0), (3894, 0.0), (3895, 0.0), (3896, 0.005206600866026544), (3897, 0.0), (3898, 0.0), (3899, 0.0), (3900, 0.0), (3901, 0.03658819863435015), (3902, 0.0), (3903, 0.0), (3904, 0.0), (3905, 0.005711538817744603), (3906, 0.0), (3907, 0.008048310542954377), (3908, 0.007859518896886124), (3909, 0.005037736172823632), (3910, 0.0), (3911, 0.0), (3912, 0.005516420273370648), (3913, 0.0), (3914, 0.00945293616753216), (3915, 0.032952751823605984), (3916, 0.00460095309683396), (3917, 0.007462274151720068), (3918, 0.0), (3919, 0.005644476244460311), (3920, 0.0), (3921, 0.00622190706169493), (3922, 0.006665596588280809), (3923, 0.012089201786738685), (3924, 0.0), (3925, 0.0), (3926, 0.00540822103339795), (3927, 0.0), (3928, 0.0), (3929, 0.0), (3930, 0.0055900345958016144), (3931, 0.006316392179464357), (3932, 0.0), (3933, 0.004812980636004489), (3934, 0.011467680921640163), (3935, 0.0), (3936, 0.006830692426107116), (3937, 0.007656038391409293), (3938, 0.0), (3939, 0.0), (3940, 0.0), (3941, 0.03349022317609606), (3942, 0.0), (3943, 0.005803871991977442), (3944, 0.0), (3945, 0.0), (3946, 0.033657623188169256), (3947, 0.044023833818439835), (3948, 0.0), (3949, 0.0074223516289179114), (3950, 0.012004413774173234), (3951, 0.0), (3952, 0.006192112830032694), (3953, 0.007058182518091803), (3954, 0.028632820246758145), (3955, 0.007741415037344096), (3956, 0.0), (3957, 0.0), (3958, 0.006652457050863818), (3959, 0.0), (3960, 0.0), (3961, 0.0), (3962, 0.006064241274512143), (3963, 0.007699378307288729), (3964, 0.006030387009933476), (3965, 0.012565486637239973), (3966, 0.0), (3967, 0.011937951375230994), (3968, 0.008146313798373177), (3969, 0.04629572865324308), (3970, 0.0), (3971, 0.004354423732497873), (3972, 0.00888514697141891), (3973, 0.01149773164848358), (3974, 0.0), (3975, 0.0), (3976, 0.0), (3977, 0.008378297371763776), (3978, 0.007399213919671325), (3979, 0.008236111190303477), (3980, 0.0062232373032689615), (3981, 0.0), (3982, 0.007755501780642489), (3983, 0.0), (3984, 0.005678556266334039), (3985, 0.0), (3986, 0.0), (3987, 0.06774710010202425), (3988, 0.006796425497190512), (3989, 0.026802151966332764), (3990, 0.0), (3991, 0.0), (3992, 0.006103521704004795), (3993, 0.007167332769645781), (3994, 0.0), (3995, 0.0), (3996, 0.006437977243514666), (3997, 0.008258521550305325), (3998, 0.012675522051380537), (3999, 0.0), (4000, 0.0), (4001, 0.013179140544284873), (4002, 0.0), (4003, 0.005964574194126569), (4004, 0.0), (4005, 0.008289067343500692), (4006, 0.0), (4007, 0.007677723620353516), (4008, 0.005603706763958334), (4009, 0.0), (4010, 0.006230317292384995), (4011, 0.0), (4012, 0.017513419625034454), (4013, 0.0), (4014, 0.0), (4015, 0.006399148337902188), (4016, 0.0), (4017, 0.0), (4018, 0.009204326895504855), (4019, 0.0), (4020, 0.007610407435156212), (4021, 0.042402470720896666), (4022, 0.0), (4023, 0.00637657256545531), (4024, 0.0), (4025, 0.005601731255767114), (4026, 0.011898091448040209), (4027, 0.005701615561594318), (4028, 0.0), (4029, 0.005291515388768498), (4030, 0.0), (4031, 0.006311977842778645), (4032, 0.0), (4033, 0.04578757862691119), (4034, 0.0), (4035, 0.004698206728865138), (4036, 0.005275841271914628), (4037, 0.012463867264949234), (4038, 0.00829336284537412), (4039, 0.007562040318189278), (4040, 0.006967521267672864), (4041, 0.007846233185775079), (4042, 0.0), (4043, 0.0), (4044, 0.007038649183258337), (4045, 0.008195439133749989), (4046, 0.008504259002077897), (4047, 0.0), (4048, 0.0), (4049, 0.005479954488169969), (4050, 0.0), (4051, 0.00602399391333715), (4052, 0.005706671961388781), (4053, 0.0), (4054, 0.005725408703301924), (4055, 0.0069969041152282505), (4056, 0.007715528473447781), (4057, 0.0), (4058, 0.006716151231135028), (4059, 0.0), (4060, 0.0), (4061, 0.005897894470349745), (4062, 0.0), (4063, 0.0), (4064, 0.005989924248279776), (4065, 0.0), (4066, 0.004741832694377491), (4067, 0.0), (4068, 0.007880999520718836), (4069, 0.0), (4070, 0.007758874573926278), (4071, 0.005108921569435321), (4072, 0.0), (4073, 0.005262798586872987), (4074, 0.0), (4075, 0.0), (4076, 0.0), (4077, 0.008547627333303586), (4078, 0.0), (4079, 0.0), (4080, 0.0), (4081, 0.0), (4082, 0.0), (4083, 0.0), (4084, 0.006943060881930358), (4085, 0.0), (4086, 0.04184431408234351), (4087, 0.0), (4088, 0.00794981610395317), (4089, 0.0), (4090, 0.0), (4091, 0.008523724264771396), (4092, 0.0), (4093, 0.013458605517693487), (4094, 0.028200758767950116), (4095, 0.006583412517668381), (4096, 0.0), (4097, 0.005913059484841003), (4098, 0.007951727165786467), (4099, 0.013153516388873722), (4100, 0.008103398576398451), (4101, 0.0), (4102, 0.006855774346826192), (4103, 0.007799424938629089), (4104, 0.0047860960228321104), (4105, 0.006060869419045096), (4106, 0.0), (4107, 0.03746159612339286), (4108, 0.006041848174540569), (4109, 0.004885655185482766), (4110, 0.0), (4111, 0.005780316924439376), (4112, 0.012842456159384145), (4113, 0.0059973222798807005), (4114, 0.006732590367102319), (4115, 0.007285588323588204), (4116, 0.008457379221884833), (4117, 0.0061636969236504345), (4118, 0.005822745231339292), (4119, 0.008621981798679125), (4120, 0.0), (4121, 0.014964332396398288), (4122, 0.009634190455159345), (4123, 0.0), (4124, 0.0), (4125, 0.005608086476582919), (4126, 0.0), (4127, 0.00655418133041492), (4128, 0.007729118856908425), (4129, 0.0), (4130, 0.00847884034819386), (4131, 0.014079658272011034), (4132, 0.1286417505585248), (4133, 0.0), (4134, 0.0), (4135, 0.0054761317054478195), (4136, 0.0), (4137, 0.03061693604359808), (4138, 0.0), (4139, 0.0), (4140, 0.005899633068093834), (4141, 0.0), (4142, 0.00991792382494244), (4143, 0.006973113387001655), (4144, 0.0), (4145, 0.0), (4146, 0.0), (4147, 0.006574645580003096), (4148, 0.0077270919024077156), (4149, 0.01091786675854424), (4150, 0.0), (4151, 0.0), (4152, 0.028945350718257868), (4153, 0.03955120383448175), (4154, 0.0), (4155, 0.0), (4156, 0.004733122557546808), (4157, 0.0), (4158, 0.0), (4159, 0.0), (4160, 0.0), (4161, 0.0), (4162, 0.0), (4163, 0.0), (4164, 0.0), (4165, 0.0), (4166, 0.006970879129633596), (4167, 0.0), (4168, 0.0), (4169, 0.0), (4170, 0.0), (4171, 0.0), (4172, 0.0), (4173, 0.00577709511725716), (4174, 0.08602107808668444), (4175, 0.0), (4176, 0.0), (4177, 0.0), (4178, 0.0), (4179, 0.0), (4180, 0.005705994688508544), (4181, 0.008550832844527775), (4182, 0.004096544476987818), (4183, 0.0), (4184, 0.005421578938603921), (4185, 0.008699146625324713), (4186, 0.012043846178275586), (4187, 0.0), (4188, 0.037851984617934285), (4189, 0.0), (4190, 0.0064397235952504414), (4191, 0.10825553097732007), (4192, 0.005228692438642144), (4193, 0.007054749227704641), (4194, 0.0), (4195, 0.005396263570253792), (4196, 0.0), (4197, 0.00550453816328797), (4198, 0.007129702452806621), (4199, 0.016322131175529782), (4200, 0.004464283788949944), (4201, 0.0), (4202, 0.010847125930819318), (4203, 0.006258862196687145), (4204, 0.00642664194504945), (4205, 0.0), (4206, 0.005128943818750545), (4207, 0.005859940201066436), (4208, 0.0), (4209, 0.0), (4210, 0.013345203775946186), (4211, 0.007614909653420893), (4212, 0.0), (4213, 0.05983665242151645), (4214, 0.005469275224170286), (4215, 0.0), (4216, 0.0), (4217, 0.010430319428373526), (4218, 0.005281624638287631), (4219, 0.0), (4220, 0.0), (4221, 0.01037170026016721), (4222, 0.0072415638118357795), (4223, 0.008276468172661328), (4224, 0.007586646850712682), (4225, 0.0), (4226, 0.005902994216941086), (4227, 0.0), (4228, 0.0), (4229, 0.0), (4230, 0.0), (4231, 0.0), (4232, 0.0), (4233, 0.019654298543871684), (4234, 0.005267427933135025), (4235, 0.0), (4236, 0.007174245588943789), (4237, 0.004807102804725565), (4238, 0.009052300259349584), (4239, 0.0074597890797708), (4240, 0.0), (4241, 0.007672059325856531), (4242, 0.0), (4243, 0.0), (4244, 0.00888708402865577), (4245, 0.0), (4246, 0.033837829109032), (4247, 0.0), (4248, 0.007711508027878536), (4249, 0.008004066829273949), (4250, 0.0), (4251, 0.0), (4252, 0.005195076914712724), (4253, 0.0), (4254, 0.005069920522484004), (4255, 0.007863895156295802), (4256, 0.005729929015253954), (4257, 0.005086525706989864), (4258, 0.005883183597376738), (4259, 0.0059976486452561215), (4260, 0.005706994558756443), (4261, 0.005755409774961653), (4262, 0.0), (4263, 0.005947110713334524), (4264, 0.007644545215611841), (4265, 0.0), (4266, 0.0), (4267, 0.0), (4268, 0.0), (4269, 0.0), (4270, 0.0), (4271, 0.0), (4272, 0.012481881154490101), (4273, 0.0), (4274, 0.0071131530902476614), (4275, 0.0), (4276, 0.008985357391546546), (4277, 0.0), (4278, 0.0), (4279, 0.0), (4280, 0.0), (4281, 0.0), (4282, 0.027926789627626583), (4283, 0.007907507450157489), (4284, 0.0), (4285, 0.015439985746611675), (4286, 0.0), (4287, 0.005578402855776611), (4288, 0.0), (4289, 0.008256602461847258), (4290, 0.0), (4291, 0.038614961600242075), (4292, 0.0), (4293, 0.01468159766264192), (4294, 0.007945140742097649), (4295, 0.13645155968405778), (4296, 0.0), (4297, 0.004947996179290183), (4298, 0.0), (4299, 0.0), (4300, 0.005441750571891601), (4301, 0.0), (4302, 0.0), (4303, 0.005184997292438601), (4304, 0.00484613478743456), (4305, 0.005016134767411345), (4306, 0.0), (4307, 0.0), (4308, 0.005921365823264415), (4309, 0.0), (4310, 0.007765305802761958), (4311, 0.004386838643292394), (4312, 0.008334488579516311), (4313, 0.0), (4314, 0.005206442247529634), (4315, 0.005750108225299059), (4316, 0.0), (4317, 0.006122854283650466), (4318, 0.0), (4319, 0.005549852323864466), (4320, 0.0), (4321, 0.005140603408976336), (4322, 0.0), (4323, 0.005687454018572705), (4324, 0.005985839401914695), (4325, 0.012203552522084216), (4326, 0.0), (4327, 0.005262170024599957), (4328, 0.007246922434323499), (4329, 0.005544187915173772), (4330, 0.0), (4331, 0.0), (4332, 0.0058579847387094965), (4333, 0.0), (4334, 0.03438591172979932), (4335, 0.006150242924296341), (4336, 0.0), (4337, 0.0), (4338, 0.0), (4339, 0.0), (4340, 0.0), (4341, 0.006405023529289439), (4342, 0.0), (4343, 0.0), (4344, 0.0), (4345, 0.007358282860776627), (4346, 0.006264365522827159), (4347, 0.011556076471006618), (4348, 0.0), (4349, 0.0), (4350, 0.0), (4351, 0.0057904548129734355), (4352, 0.0), (4353, 0.011425899460533203), (4354, 0.0), (4355, 0.0), (4356, 0.005021624286814692), (4357, 0.005755698975740496), (4358, 0.0047639148497678006), (4359, 0.0), (4360, 0.0), (4361, 0.0), (4362, 0.0), (4363, 0.0), (4364, 0.0), (4365, 0.02672226291726586), (4366, 0.0), (4367, 0.005232503949210977), (4368, 0.0), (4369, 0.0), (4370, 0.00576676999210938), (4371, 0.0057902196585651305), (4372, 0.0), (4373, 0.00583971584028792), (4374, 0.0), (4375, 0.0), (4376, 0.007953315700655552), (4377, 0.0), (4378, 0.0), (4379, 0.008037452808198455), (4380, 0.036274434832111055), (4381, 0.0), (4382, 0.0052211693109367125), (4383, 0.0), (4384, 0.008216448004710934), (4385, 0.0), (4386, 0.0), (4387, 0.0), (4388, 0.005552683752923665), (4389, 0.0), (4390, 0.04510110321391055), (4391, 0.0), (4392, 0.008168576508730749), (4393, 0.008751073259286845), (4394, 0.005358037560173985), (4395, 0.005252917327404222), (4396, 0.0), (4397, 0.0), (4398, 0.0), (4399, 0.0), (4400, 0.0), (4401, 0.03717111464791242), (4402, 0.0), (4403, 0.11875442910569661), (4404, 0.005516514640137886), (4405, 0.0), (4406, 0.0), (4407, 0.0), (4408, 0.006482804187828803), (4409, 0.0), (4410, 0.008163777162955748), (4411, 0.0), (4412, 0.0), (4413, 0.005854667529905138), (4414, 0.0), (4415, 0.0), (4416, 0.0), (4417, 0.0), (4418, 0.0), (4419, 0.00808714742135917), (4420, 0.005693559350881595), (4421, 0.005636489844110958), (4422, 0.00557987611935953), (4423, 0.0), (4424, 0.0), (4425, 0.0), (4426, 0.0046589590123701915), (4427, 0.0), (4428, 0.0), (4429, 0.006735473955756345), (4430, 0.008121985091666614), (4431, 0.0), (4432, 0.006789886049956087), (4433, 0.005633401530497294), (4434, 0.00517246582298658), (4435, 0.007794455102396032), (4436, 0.00836497532870328), (4437, 0.014570890364077292), (4438, 0.0), (4439, 0.007129777800928391), (4440, 0.016825954333762667), (4441, 0.0), (4442, 0.0052373366204218836), (4443, 0.009503043524445103), (4444, 0.010161828289794922), (4445, 0.005823589638999531), (4446, 0.005923213526687179), (4447, 0.01193668160517837), (4448, 0.005638936025660806), (4449, 0.0), (4450, 0.03847368088549738), (4451, 0.006370715852563699), (4452, 0.00610730655147765), (4453, 0.014690311742622007), (4454, 0.006229358279344441), (4455, 0.0), (4456, 0.00798895396631256), (4457, 0.03560627969388794), (4458, 0.0), (4459, 0.0), (4460, 0.0061205409238507995), (4461, 0.0), (4462, 0.008766491671572481), (4463, 0.005993453934979271), (4464, 0.0), (4465, 0.0), (4466, 0.0), (4467, 0.0), (4468, 0.0), (4469, 0.0), (4470, 0.0), (4471, 0.0), (4472, 0.0), (4473, 0.004702650870626149), (4474, 0.0), (4475, 0.0), (4476, 0.0), (4477, 0.05070567823942247), (4478, 0.0), (4479, 0.0), (4480, 0.007602601142393673), (4481, 0.007411824313868425), (4482, 0.0), (4483, 0.006441132138432878), (4484, 0.0071991217094995496), (4485, 0.0), (4486, 0.013637423232908341), (4487, 0.0), (4488, 0.0), (4489, 0.005726721484132302), (4490, 0.00919974032018496), (4491, 0.00844074453221907), (4492, 0.005800357539635249), (4493, 0.008401227381071867), (4494, 0.0), (4495, 0.0), (4496, 0.006180346587544612), (4497, 0.0), (4498, 0.008850113406852466), (4499, 0.0), (4500, 0.0), (4501, 0.0), (4502, 0.0), (4503, 0.007823609754148659), (4504, 0.0), (4505, 0.0), (4506, 0.006446560350131484), (4507, 0.006201982918454584), (4508, 0.0), (4509, 0.007678794348578445), (4510, 0.0), (4511, 0.0), (4512, 0.0), (4513, 0.0), (4514, 0.0065311282530221395), (4515, 0.0), (4516, 0.0), (4517, 0.0), (4518, 0.0), (4519, 0.004331849944498284), (4520, 0.0), (4521, 0.0), (4522, 0.005884288250202695), (4523, 0.0), (4524, 0.0), (4525, 0.0), (4526, 0.0), (4527, 0.0), (4528, 0.0), (4529, 0.11806921868814492), (4530, 0.005280717229193158), (4531, 0.0), (4532, 0.0), (4533, 0.0), (4534, 0.007544832207705387), (4535, 0.03723768716111596), (4536, 0.0), (4537, 0.007028645132617834), (4538, 0.0), (4539, 0.0), (4540, 0.0), (4541, 0.0), (4542, 0.1181593360163193), (4543, 0.04180468471374732), (4544, 0.0), (4545, 0.0), (4546, 0.0), (4547, 0.0), (4548, 0.0), (4549, 0.008605601768363237), (4550, 0.007520376938237605), (4551, 0.03944732768146066), (4552, 0.005596786598009235), (4553, 0.006783106176248987), (4554, 0.0), (4555, 0.008137897061589324), (4556, 0.016895832846126026), (4557, 0.01395635949273448), (4558, 0.004731034340804361), (4559, 0.0), (4560, 0.005742197490090433), (4561, 0.0), (4562, 0.0067078041706807884), (4563, 0.0), (4564, 0.012668353949075215), (4565, 0.0), (4566, 0.0), (4567, 0.0), (4568, 0.0072508090236547895), (4569, 0.0), (4570, 0.006454570887025079), (4571, 0.008579999844586862), (4572, 0.0), (4573, 0.007520193084728251), (4574, 0.0), (4575, 0.0), (4576, 0.0), (4577, 0.004957753492314926), (4578, 0.0), (4579, 0.0), (4580, 0.006025342126693675), (4581, 0.007829702245029503), (4582, 0.0), (4583, 0.030652795919400413), (4584, 0.03911328839127196), (4585, 0.0), (4586, 0.00807774701960489), (4587, 0.0), (4588, 0.0), (4589, 0.00907976984237062), (4590, 0.006946345826206751), (4591, 0.007214846616785068), (4592, 0.005382824383699106), (4593, 0.0), (4594, 0.0), (4595, 0.0), (4596, 0.004759003639251702), (4597, 0.008988089988228903), (4598, 0.0), (4599, 0.012387325434879134), (4600, 0.012040501821242583), (4601, 0.0), (4602, 0.0), (4603, 0.005036691767498214), (4604, 0.0), (4605, 0.0), (4606, 0.009820907860327596), (4607, 0.0), (4608, 0.006883991424457288), (4609, 0.013247434801975), (4610, 0.004531662092352688), (4611, 0.0), (4612, 0.044373814684280345), (4613, 0.03521959980428676), (4614, 0.0), (4615, 0.0), (4616, 0.0), (4617, 0.0), (4618, 0.0), (4619, 0.008559059245877864), (4620, 0.0), (4621, 0.0), (4622, 0.005731519805192523), (4623, 0.0), (4624, 0.0), (4625, 0.0), (4626, 0.0062718319559323605), (4627, 0.0046331616175600745), (4628, 0.011146332459426036), (4629, 0.039741296850036), (4630, 0.00869943489460448), (4631, 0.015977330723654898), (4632, 0.0), (4633, 0.0063456534647413874), (4634, 0.0), (4635, 0.0), (4636, 0.0045534320218072275), (4637, 0.0), (4638, 0.0), (4639, 0.0), (4640, 0.03333115521548304), (4641, 0.08602312139707917), (4642, 0.009154771485308348), (4643, 0.0), (4644, 0.0), (4645, 0.0), (4646, 0.009890745341815452), (4647, 0.011897343005463842), (4648, 0.005584186527608028), (4649, 0.00712413192493535), (4650, 0.006222641911199833), (4651, 0.0), (4652, 0.004127157974696445), (4653, 0.00948451234099939), (4654, 0.0), (4655, 0.005715305810190223), (4656, 0.008365058245564275), (4657, 0.0), (4658, 0.0), (4659, 0.008371199099281667), (4660, 0.0), (4661, 0.006876316245205384), (4662, 0.0), (4663, 0.0), (4664, 0.0), (4665, 0.0), (4666, 0.05157541905310893), (4667, 0.005049476303684899), (4668, 0.0), (4669, 0.0), (4670, 0.0), (4671, 0.0), (4672, 0.0), (4673, 0.0075134496065769035), (4674, 0.0), (4675, 0.00537924382518316), (4676, 0.008420245071027729), (4677, 0.0), (4678, 0.0), (4679, 0.0), (4680, 0.0), (4681, 0.0), (4682, 0.007527299347719911), (4683, 0.0), (4684, 0.007916370733753082), (4685, 0.0), (4686, 0.0), (4687, 0.0), (4688, 0.005361401863832111), (4689, 0.0), (4690, 0.012338652597090882), (4691, 0.0), (4692, 0.0), (4693, 0.0), (4694, 0.0), (4695, 0.0), (4696, 0.04669698942509103), (4697, 0.0), (4698, 0.009359358957435704), (4699, 0.040216847376164926), (4700, 0.007311089868306482), (4701, 0.0), (4702, 0.005482954972582549), (4703, 0.008314345426296436), (4704, 0.0), (4705, 0.011091137778687955), (4706, 0.005998837942832428), (4707, 0.0), (4708, 0.007698194653307065), (4709, 0.010544327504246416), (4710, 0.0), (4711, 0.0063728313969533944), (4712, 0.0), (4713, 0.0), (4714, 0.0), (4715, 0.0), (4716, 0.008039942175865476), (4717, 0.042198842255715775), (4718, 0.0), (4719, 0.010457720173704258), (4720, 0.0065536614288715074), (4721, 0.006720240466819299), (4722, 0.0), (4723, 0.009484777188844487), (4724, 0.0), (4725, 0.016061173074357928), (4726, 0.0), (4727, 0.008333539848809444), (4728, 0.0), (4729, 0.0), (4730, 0.0), (4731, 0.0), (4732, 0.0), (4733, 0.00647271566816132), (4734, 0.005835242449473972), (4735, 0.0), (4736, 0.0), (4737, 0.006122309774361883), (4738, 0.0053970943242708635), (4739, 0.01581905705359959), (4740, 0.0), (4741, 0.008839817810050369), (4742, 0.008612148179007732), (4743, 0.007569096871246228), (4744, 0.004377163757520284), (4745, 0.0), (4746, 0.006124255982336708), (4747, 0.008927814094597345), (4748, 0.0), (4749, 0.0), (4750, 0.0), (4751, 0.0), (4752, 0.03108897847943575), (4753, 0.0), (4754, 0.00763852473987317), (4755, 0.0), (4756, 0.0056045249145659694), (4757, 0.046237444830890255), (4758, 0.0), (4759, 0.0)]\n"
          ]
        }
      ]
    },
    {
      "cell_type": "code",
      "source": [
        "len(Recommendation_Score)"
      ],
      "metadata": {
        "colab": {
          "base_uri": "https://localhost:8080/"
        },
        "id": "MxAI3RXNNvBK",
        "outputId": "623e6870-7096-4873-b4de-f3dc14f96fec"
      },
      "execution_count": 44,
      "outputs": [
        {
          "output_type": "execute_result",
          "data": {
            "text/plain": [
              "4760"
            ]
          },
          "metadata": {},
          "execution_count": 44
        }
      ]
    },
    {
      "cell_type": "code",
      "source": [
        "Sorted_Similar_Movies=sorted(Recommendation_Score,key=lambda X:X[1],reverse=True)"
      ],
      "metadata": {
        "id": "Si1-3Xz1N08L"
      },
      "execution_count": 46,
      "outputs": []
    },
    {
      "cell_type": "code",
      "source": [
        "print('Top 30 movies suggested for you:\\n')\n",
        "i=1\n",
        "for movie in Sorted_Similar_Movies:\n",
        "  index=movie[0]\n",
        "  title_from_index=df[df.index==index]['Movie_Title'].values[0]\n",
        "  if(i<31):\n",
        "    print(i,'.',title_from_index)\n",
        "    i+=1"
      ],
      "metadata": {
        "colab": {
          "base_uri": "https://localhost:8080/"
        },
        "id": "etXZeaYsORMr",
        "outputId": "eb6291af-121b-48e2-9f24-6a3830f20f7b"
      },
      "execution_count": 49,
      "outputs": [
        {
          "output_type": "stream",
          "name": "stdout",
          "text": [
            "Top 30 movies suggested for you:\n",
            "\n",
            "1 . The Last Shot\n",
            "2 . Observe and Report\n",
            "3 . Connie and Carla\n",
            "4 . Clockwatchers\n",
            "5 . Enough Said\n",
            "6 . The Way Way Back\n",
            "7 . The Pallbearer\n",
            "8 . The Dead Girl\n",
            "9 . About a Boy\n",
            "10 . You Can Count on Me\n",
            "11 . Little Miss Sunshine\n",
            "12 . Kill the Messenger\n",
            "13 . Krampus\n",
            "14 . Still Alice\n",
            "15 . Thomas and the Magic Railroad\n",
            "16 . Fright Night\n",
            "17 . Brooklyn Rules\n",
            "18 . Inspector Gadget\n",
            "19 . Youth in Revolt\n",
            "20 . Cop Land\n",
            "21 . In the Name of the King: A Dungeon Siege Tale\n",
            "22 . Smokin' Aces\n",
            "23 . The Sixth Sense\n",
            "24 . Good Boy!\n",
            "25 . Changing Lanes\n",
            "26 . The Stepford Wives\n",
            "27 . The Boxtrolls\n",
            "28 . Velvet Goldmine\n",
            "29 . Heartbreakers\n",
            "30 . To Rome with Love\n"
          ]
        }
      ]
    },
    {
      "cell_type": "code",
      "source": [
        "Movie_Name = input('Enter your favourite movie name:')\n",
        "list_of_all_titles = df['Movie_Title'].tolist()\n",
        "Find_Close_Match = difflib.get_close_matches(Movie_Name,list_of_all_titles)\n",
        "Close_Match = Find_Close_Match [0]\n",
        "Index_of_Movie = df[df.Movie_Title == Close_Match]['Movie_ID'].values[0]\n",
        "Recommendation_Score=list(enumerate(Similarity_Score[Index_of_Movie]))\n",
        "sorted_similar_movies=sorted(Recommendation_Score,key=lambda X:X[1],reverse=True)\n",
        "print('Top 10 movies suggested for you:\\n')\n",
        "i=1\n",
        "for movie in Sorted_Similar_Movies:\n",
        "  index=movie[0]\n",
        "  title_from_index=df[df.Movie_ID==index]['Movie_Title'].values\n",
        "  if(i<11):\n",
        "    print(i,'.',title_from_index)\n",
        "    i+=1"
      ],
      "metadata": {
        "colab": {
          "base_uri": "https://localhost:8080/"
        },
        "id": "OpkL0xbkOy5H",
        "outputId": "74b3269c-c11f-4c3f-b5c7-0042c439e945"
      },
      "execution_count": 53,
      "outputs": [
        {
          "output_type": "stream",
          "name": "stdout",
          "text": [
            "Enter your favourite movie name:avatar\n",
            "Top 10 movies suggested for you:\n",
            "\n",
            "1 . ['Triangle']\n",
            "2 . ['How She Move']\n",
            "3 . ['Madea Goes to Jail']\n",
            "4 . ['Beginners']\n",
            "5 . ['Zombie Hunter']\n",
            "6 . ['The Best Man Holiday']\n",
            "7 . ['Whipped']\n",
            "8 . ['Here On Earth']\n",
            "9 . ['High Fidelity']\n",
            "10 . ['Poolhall Junkies']\n"
          ]
        }
      ]
    }
  ]
}